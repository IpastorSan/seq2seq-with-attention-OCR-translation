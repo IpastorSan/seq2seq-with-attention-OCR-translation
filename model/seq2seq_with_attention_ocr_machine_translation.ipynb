{
  "nbformat": 4,
  "nbformat_minor": 0,
  "metadata": {
    "colab": {
      "name": "Atencion_modificada_TFM_machine_translation_v3_2.ipynb",
      "provenance": [],
      "collapsed_sections": [],
      "toc_visible": true
    },
    "kernelspec": {
      "name": "python3",
      "display_name": "Python 3"
    },
    "accelerator": "GPU"
  },
  "cells": [
    {
      "cell_type": "markdown",
      "metadata": {
        "id": "W3rbmgW-UUtR",
        "colab_type": "text"
      },
      "source": [
        "#0)Conexion a Drive remoto"
      ]
    },
    {
      "cell_type": "code",
      "metadata": {
        "id": "HWoqdsuWN6P8",
        "colab_type": "code",
        "colab": {
          "base_uri": "https://localhost:8080/",
          "height": 122
        },
        "outputId": "656a41ef-bda1-480b-a185-776b6c7582e8"
      },
      "source": [
        "from google.colab import drive\n",
        "drive.mount(\"/content/gdrive\")"
      ],
      "execution_count": null,
      "outputs": [
        {
          "output_type": "stream",
          "text": [
            "Go to this URL in a browser: https://accounts.google.com/o/oauth2/auth?client_id=947318989803-6bn6qk8qdgf4n4g3pfee6491hc0brc4i.apps.googleusercontent.com&redirect_uri=urn%3aietf%3awg%3aoauth%3a2.0%3aoob&response_type=code&scope=email%20https%3a%2f%2fwww.googleapis.com%2fauth%2fdocs.test%20https%3a%2f%2fwww.googleapis.com%2fauth%2fdrive%20https%3a%2f%2fwww.googleapis.com%2fauth%2fdrive.photos.readonly%20https%3a%2f%2fwww.googleapis.com%2fauth%2fpeopleapi.readonly\n",
            "\n",
            "Enter your authorization code:\n",
            "··········\n",
            "Mounted at /content/gdrive\n"
          ],
          "name": "stdout"
        }
      ]
    },
    {
      "cell_type": "code",
      "metadata": {
        "id": "b813F_xYOOYt",
        "colab_type": "code",
        "colab": {
          "base_uri": "https://localhost:8080/",
          "height": 238
        },
        "outputId": "55e78f59-c3bb-4a49-8290-3725685fe275"
      },
      "source": [
        "!ls \"/content/gdrive/My Drive/tfm\""
      ],
      "execution_count": null,
      "outputs": [
        {
          "output_type": "stream",
          "text": [
            "chi_sim_vert.traineddata     encoder_inf_model_v3_1.h5\t  model_weights_v3_1.h5\n",
            "chi_tra_vert.traineddata     encoder_inf_weights_v2_1.h5  model_weights_v3.h5\n",
            "dataset_en_2.txt\t     encoder_inf_weights_v3_1.h5  ted_dev_en.txt\n",
            "dataset_en.txt\t\t     es.bin\t\t\t  ted_dev_zh1.txt\n",
            "dataset_es.txt\t\t     es.bin.syn0.npy\t\t  ted_test1_en.txt\n",
            "dataset_zh.txt\t\t     es.bin.syn1neg.npy\t\t  ted_test1_zh.txt\n",
            "decoder_inf_model_v2_1.h5    img_prueba.png\t\t  ted_train_en.txt\n",
            "decoder_inf_model_v2.png     manythings_en_es.txt\t  ted_train_zh.txt\n",
            "decoder_inf_model_v3_1.h5    manythings_en_zh.txt\t  zh.bin\n",
            "decoder_inf_weights_v2_1.h5  model_2_1.png\t\t  zh.bin.syn0.npy\n",
            "decoder_inf_weights_v3_1.h5  model_complete_v3_1.h5\t  zh.bin.syn1neg.npy\n",
            "en.bin\t\t\t     model_complete_v3.h5\n",
            "encoder_inf_model_v2_1.h5    model_weights_v2_1.h5\n"
          ],
          "name": "stdout"
        }
      ]
    },
    {
      "cell_type": "markdown",
      "metadata": {
        "id": "adu6W73IHKvN",
        "colab_type": "text"
      },
      "source": [
        "#1) Creacion de datasets"
      ]
    },
    {
      "cell_type": "markdown",
      "metadata": {
        "id": "m35H-acNT7Vh",
        "colab_type": "text"
      },
      "source": [
        "hanziconv: Ayuda a transformar entre caracteres chinos y tradicionales\n",
        "\n",
        "https://pypi.org/project/hanziconv/0.3/\n",
        "\n",
        "jieba: Herramienta que ayuda a la tokenizacion, separando los caracteres chinos por palabras\n",
        "\n",
        "https://github.com/fxsjy/jieba"
      ]
    },
    {
      "cell_type": "code",
      "metadata": {
        "id": "MU5TBawaTU7_",
        "colab_type": "code",
        "colab": {
          "base_uri": "https://localhost:8080/",
          "height": 207
        },
        "outputId": "4e663f0a-57d1-43b4-8ab0-af4386f99027"
      },
      "source": [
        "pip install hanziconv"
      ],
      "execution_count": null,
      "outputs": [
        {
          "output_type": "stream",
          "text": [
            "Collecting hanziconv\n",
            "\u001b[?25l  Downloading https://files.pythonhosted.org/packages/63/71/b89cb63077fd807fe31cf7c016a06e7e579a289d8a37aa24a30282d02dd2/hanziconv-0.3.2.tar.gz (276kB)\n",
            "\r\u001b[K     |█▏                              | 10kB 23.9MB/s eta 0:00:01\r\u001b[K     |██▍                             | 20kB 1.7MB/s eta 0:00:01\r\u001b[K     |███▌                            | 30kB 2.3MB/s eta 0:00:01\r\u001b[K     |████▊                           | 40kB 2.6MB/s eta 0:00:01\r\u001b[K     |██████                          | 51kB 2.0MB/s eta 0:00:01\r\u001b[K     |███████                         | 61kB 2.3MB/s eta 0:00:01\r\u001b[K     |████████▎                       | 71kB 2.5MB/s eta 0:00:01\r\u001b[K     |█████████▌                      | 81kB 2.7MB/s eta 0:00:01\r\u001b[K     |██████████▋                     | 92kB 2.9MB/s eta 0:00:01\r\u001b[K     |███████████▉                    | 102kB 2.8MB/s eta 0:00:01\r\u001b[K     |█████████████                   | 112kB 2.8MB/s eta 0:00:01\r\u001b[K     |██████████████▏                 | 122kB 2.8MB/s eta 0:00:01\r\u001b[K     |███████████████▍                | 133kB 2.8MB/s eta 0:00:01\r\u001b[K     |████████████████▋               | 143kB 2.8MB/s eta 0:00:01\r\u001b[K     |█████████████████▊              | 153kB 2.8MB/s eta 0:00:01\r\u001b[K     |███████████████████             | 163kB 2.8MB/s eta 0:00:01\r\u001b[K     |████████████████████▏           | 174kB 2.8MB/s eta 0:00:01\r\u001b[K     |█████████████████████▎          | 184kB 2.8MB/s eta 0:00:01\r\u001b[K     |██████████████████████▌         | 194kB 2.8MB/s eta 0:00:01\r\u001b[K     |███████████████████████▊        | 204kB 2.8MB/s eta 0:00:01\r\u001b[K     |████████████████████████▉       | 215kB 2.8MB/s eta 0:00:01\r\u001b[K     |██████████████████████████      | 225kB 2.8MB/s eta 0:00:01\r\u001b[K     |███████████████████████████▎    | 235kB 2.8MB/s eta 0:00:01\r\u001b[K     |████████████████████████████▍   | 245kB 2.8MB/s eta 0:00:01\r\u001b[K     |█████████████████████████████▋  | 256kB 2.8MB/s eta 0:00:01\r\u001b[K     |██████████████████████████████▉ | 266kB 2.8MB/s eta 0:00:01\r\u001b[K     |████████████████████████████████| 276kB 2.8MB/s eta 0:00:01\r\u001b[K     |████████████████████████████████| 286kB 2.8MB/s \n",
            "\u001b[?25hBuilding wheels for collected packages: hanziconv\n",
            "  Building wheel for hanziconv (setup.py) ... \u001b[?25l\u001b[?25hdone\n",
            "  Created wheel for hanziconv: filename=hanziconv-0.3.2-py2.py3-none-any.whl size=23215 sha256=216f8e2b2a0bd44d95aedbd0a5326f4a7c2d1255faf5ece2e351b87f52d7939a\n",
            "  Stored in directory: /root/.cache/pip/wheels/03/d8/3c/c39898fa9c9ce6e34b0ab4c6604892462d440c743715c94054\n",
            "Successfully built hanziconv\n",
            "Installing collected packages: hanziconv\n",
            "Successfully installed hanziconv-0.3.2\n"
          ],
          "name": "stdout"
        }
      ]
    },
    {
      "cell_type": "code",
      "metadata": {
        "id": "x8XLUaaMS8CB",
        "colab_type": "code",
        "colab": {
          "base_uri": "https://localhost:8080/",
          "height": 34
        },
        "outputId": "3fa1dfd9-28d9-499a-b78b-fc24893b9f6f"
      },
      "source": [
        "pip install jieba"
      ],
      "execution_count": null,
      "outputs": [
        {
          "output_type": "stream",
          "text": [
            "Requirement already satisfied: jieba in /usr/local/lib/python3.6/dist-packages (0.42.1)\n"
          ],
          "name": "stdout"
        }
      ]
    },
    {
      "cell_type": "code",
      "metadata": {
        "id": "qNdLOuPPWpQp",
        "colab_type": "code",
        "colab": {}
      },
      "source": [
        "import re\n",
        "import unicodedata\n",
        "import io\n",
        "import jieba\n",
        "from hanziconv import HanziConv\n",
        "import string"
      ],
      "execution_count": null,
      "outputs": []
    },
    {
      "cell_type": "markdown",
      "metadata": {
        "id": "mmg48dpx3P71",
        "colab_type": "text"
      },
      "source": [
        "##1.1 abrir archivo"
      ]
    },
    {
      "cell_type": "code",
      "metadata": {
        "id": "BOeQI8NHUJ4Y",
        "colab_type": "code",
        "colab": {}
      },
      "source": [
        "#Funcion abrir archivos y guardarlos en variable\n",
        "def open_txt(dataset):\n",
        "    texto = open(dataset, mode=\"r\", encoding=\"utf-8\")\n",
        "    datos = texto.read()\n",
        "    texto.close\n",
        "    return datos"
      ],
      "execution_count": null,
      "outputs": []
    },
    {
      "cell_type": "code",
      "metadata": {
        "id": "iCIohMPI3W1A",
        "colab_type": "code",
        "colab": {}
      },
      "source": [
        "path = \"/content/gdrive/My Drive/tfm/manythings_en_zh.txt\"\n",
        "path_base = \"/content/gdrive/My Drive/tfm/\""
      ],
      "execution_count": null,
      "outputs": []
    },
    {
      "cell_type": "markdown",
      "metadata": {
        "id": "2A2qV8OF3TPJ",
        "colab_type": "text"
      },
      "source": [
        "##1.2 unicode to ascii"
      ]
    },
    {
      "cell_type": "code",
      "metadata": {
        "id": "T3n1CtbdHYz8",
        "colab_type": "code",
        "colab": {}
      },
      "source": [
        "#Funcion de limpieza: Convertir a ASCII, eliminar acentos, pasar a minuscula \n",
        "def unicode_to_ascii(texto):\n",
        "    return ''.join(c for c in unicodedata.normalize('NFD', texto)\n",
        "      if unicodedata.category(c) != 'Mn')"
      ],
      "execution_count": null,
      "outputs": []
    },
    {
      "cell_type": "markdown",
      "metadata": {
        "id": "N3pTnoea3Y-c",
        "colab_type": "text"
      },
      "source": [
        "##1.3 Preprocesado de texto"
      ]
    },
    {
      "cell_type": "code",
      "metadata": {
        "id": "Bv2tre9cQLlT",
        "colab_type": "code",
        "colab": {}
      },
      "source": [
        "def preprocessing_zh(texto):\n",
        "    t = unicode_to_ascii(texto.lower().strip())#strip()quita espacios blancos de delante y atras\n",
        "    #añadir un espacio entre las palabras y los simbolos de puntuacion\n",
        "    t = re.sub(r\"[^?.!,¿,。！？\\u4e00-\\u9fff]+\", \" \", t)#deberia ir primero?\n",
        "    t = re.sub(r\"([?.!,¿])\", r\" \\1 \", t)\n",
        "    t = re.sub(r'[\" \"]+', \" \", t)\n",
        "    t = t.strip()\n",
        "    t = t.lstrip(\".\") #cuanto quitamos numeros de puntos del dia queda un punto suelto raro\n",
        "    t = t.lstrip(\",\")\n",
        "    t = jieba.cut(t, cut_all=False) #jieba, herramienta para dividir la frase en palabras y añadir espacios entre ellas\n",
        "    t = \" \".join(t)\n",
        "    t = HanziConv.toTraditional(t)\n",
        "    return t\n"
      ],
      "execution_count": null,
      "outputs": []
    },
    {
      "cell_type": "code",
      "metadata": {
        "id": "zha-sl0t3YD-",
        "colab_type": "code",
        "colab": {}
      },
      "source": [
        "def preprocessing_es(texto):\n",
        "    t = unicode_to_ascii(texto.lower().strip()) #strip()quita espacios blancos de delante y atras\n",
        "    #añadir un espacio entre las palabras y los simbolos de puntuacion\n",
        "    t = re.sub(r\"([?.!,¿])\", r\" \\1 \", t)\n",
        "    t = re.sub(r'[\" \"]+', \" \", t)\n",
        "    #t = re.sub(r'\\w*\\d\\w*', '', texto) #Elimina el pinyin\n",
        "    # reemplazar todo con espacio excepto y characteres chinos (a-z, A-Z, \".\", \"?\", \"!\", \",\")\n",
        "    t = re.sub(r\"[^a-zA-Z0-9?.!,¿]+\", \" \", t) #Mal, hay que conservar la puntuacion\n",
        "    t = t.strip()\n",
        "    t = re.sub(r'\\w*\\d\\w*', '', t) #Elimina el pinyin de tatoeba pairs\n",
        "    t = t.lstrip(\".\") #cuanto quitamos numeros de puntos del dia queda un punto suelto raro\n",
        "    t = t.lstrip(\",\")\n",
        "    t = re.sub(r'^.*?\\\\.',\"\",t)\n",
        "    t = \"<start> \"+ t + \" <end>\"  \n",
        "    return t"
      ],
      "execution_count": null,
      "outputs": []
    },
    {
      "cell_type": "code",
      "metadata": {
        "id": "nZb2rhq_SrDi",
        "colab_type": "code",
        "colab": {
          "base_uri": "https://localhost:8080/",
          "height": 102
        },
        "outputId": "e5ea0788-6ceb-4077-9682-ba4e55c2f255"
      },
      "source": [
        "zh = \", 我会借这本特别好的书吗。hola que tal\"\n",
        "print(preprocessing_zh(zh))"
      ],
      "execution_count": null,
      "outputs": [
        {
          "output_type": "stream",
          "text": [
            "Building prefix dict from the default dictionary ...\n",
            "Dumping model to file cache /tmp/jieba.cache\n",
            "Loading model cost 0.811 seconds.\n",
            "Prefix dict has been built successfully.\n"
          ],
          "name": "stderr"
        },
        {
          "output_type": "stream",
          "text": [
            "  我會 藉 這本 特彆 好 的 書 嗎 。\n"
          ],
          "name": "stdout"
        }
      ]
    },
    {
      "cell_type": "code",
      "metadata": {
        "id": "MzVe_4Ej97VR",
        "colab_type": "code",
        "colab": {
          "base_uri": "https://localhost:8080/",
          "height": 51
        },
        "outputId": "f9272aad-0f23-43c4-832a-d832c85a37e4"
      },
      "source": [
        "zh_sentence = \"我会借这本书?\"\n",
        "sp_sentence = \"¿Can I borrow this book??\"\n",
        "print(preprocessing_zh(zh_sentence))\n",
        "print(preprocessing_es(sp_sentence))"
      ],
      "execution_count": null,
      "outputs": [
        {
          "output_type": "stream",
          "text": [
            "我會 藉 這 本書   ?\n",
            "<start> ¿ can i borrow this book ? ? <end>\n"
          ],
          "name": "stdout"
        }
      ]
    },
    {
      "cell_type": "markdown",
      "metadata": {
        "id": "uMHWFe-yEVqo",
        "colab_type": "text"
      },
      "source": [
        "##1.4 Combinar en un dataset"
      ]
    },
    {
      "cell_type": "code",
      "metadata": {
        "id": "WKgnEY7JF-Sd",
        "colab_type": "code",
        "colab": {}
      },
      "source": [
        "#Datasets independientes\n",
        "def create_dataset_ind(path, language=\"es\"):\n",
        "    lines = io.open(path, encoding=\"UTF-8\").read().strip().split(\"\\n\")\n",
        "    text = [l.split(\"\\t\",2)[0:2] for l in lines]\n",
        "\n",
        "    if language == \"zh\":\n",
        "        dataset = [preprocessing_zh(text[t][1]) for t in range(len(text))]\n",
        "    \n",
        "    else:\n",
        "        dataset = [preprocessing_es(text[t][0]) for t in range(len(text))]\n",
        "\n",
        "    return dataset"
      ],
      "execution_count": null,
      "outputs": []
    },
    {
      "cell_type": "code",
      "metadata": {
        "id": "MwHyuz9w9-Cz",
        "colab_type": "code",
        "colab": {}
      },
      "source": [
        "dataset_zh = create_dataset_ind(path, language=\"zh\")\n",
        "dataset_en = create_dataset_ind(path)"
      ],
      "execution_count": null,
      "outputs": []
    },
    {
      "cell_type": "markdown",
      "metadata": {
        "id": "0fKZJPHoyRLe",
        "colab_type": "text"
      },
      "source": [
        "##1.5 Guardar el dataset"
      ]
    },
    {
      "cell_type": "code",
      "metadata": {
        "id": "LV0aqxm5DRLC",
        "colab_type": "code",
        "colab": {}
      },
      "source": [
        "def save_dataset(data, filename=\"dataset\"):\n",
        "    with open(path_base + filename + \".txt\", mode='wt', encoding='utf-8') as myfile:\n",
        "        myfile.write('\\n'.join(str(data[i]) for i in range(1,len(data))))"
      ],
      "execution_count": null,
      "outputs": []
    },
    {
      "cell_type": "code",
      "metadata": {
        "id": "ImD2lykoD3Is",
        "colab_type": "code",
        "colab": {}
      },
      "source": [
        "dataset_zh = save_dataset(dataset_zh, \"dataset_zh\")\n",
        "dataset_en = save_dataset(dataset_en, \"dataset_en\")"
      ],
      "execution_count": null,
      "outputs": []
    },
    {
      "cell_type": "markdown",
      "metadata": {
        "id": "yZFDv2O4oEH_",
        "colab_type": "text"
      },
      "source": [
        "#2)Modelo, encoder-decoder, GRU, bidireccional, con atencion"
      ]
    },
    {
      "cell_type": "code",
      "metadata": {
        "colab_type": "code",
        "id": "kc-grESFDwhc",
        "colab": {
          "base_uri": "https://localhost:8080/",
          "height": 122
        },
        "outputId": "01ac9683-c0a0-4b95-9cac-1fb5ea0a9563"
      },
      "source": [
        "from google.colab import drive\n",
        "drive.mount(\"/content/gdrive\")"
      ],
      "execution_count": null,
      "outputs": [
        {
          "output_type": "stream",
          "text": [
            "Go to this URL in a browser: https://accounts.google.com/o/oauth2/auth?client_id=947318989803-6bn6qk8qdgf4n4g3pfee6491hc0brc4i.apps.googleusercontent.com&redirect_uri=urn%3aietf%3awg%3aoauth%3a2.0%3aoob&response_type=code&scope=email%20https%3a%2f%2fwww.googleapis.com%2fauth%2fdocs.test%20https%3a%2f%2fwww.googleapis.com%2fauth%2fdrive%20https%3a%2f%2fwww.googleapis.com%2fauth%2fdrive.photos.readonly%20https%3a%2f%2fwww.googleapis.com%2fauth%2fpeopleapi.readonly\n",
            "\n",
            "Enter your authorization code:\n",
            "··········\n",
            "Mounted at /content/gdrive\n"
          ],
          "name": "stdout"
        }
      ]
    },
    {
      "cell_type": "code",
      "metadata": {
        "colab_type": "code",
        "id": "buwBdYQ9D0zB",
        "colab": {
          "base_uri": "https://localhost:8080/",
          "height": 680
        },
        "outputId": "a9733864-fc1c-4bcb-998f-8998468971c8"
      },
      "source": [
        "!ls \"/content/gdrive/My Drive/tfm\""
      ],
      "execution_count": null,
      "outputs": [
        {
          "output_type": "stream",
          "text": [
            " Atencion_modificada_TFM_machine_translation_v3_2.ipynb\n",
            " chi_sim_vert.traineddata\n",
            " chi_tra_vert.traineddata\n",
            " dataset_en_2.txt\n",
            " dataset_en.txt\n",
            " dataset_es.txt\n",
            " dataset_zh.txt\n",
            " decoder_inf_model_v2_1.h5\n",
            " decoder_inf_model_v2.png\n",
            " decoder_inf_model_v3_1.h5\n",
            " decoder_inf_weights_v2_1.h5\n",
            " decoder_inf_weights_v3_1.h5\n",
            " en.bin\n",
            " encoder_inf_model_v2_1.h5\n",
            " encoder_inf_model_v3_1.h5\n",
            " encoder_inf_weights_v2_1.h5\n",
            " encoder_inf_weights_v3_1.h5\n",
            " es.bin\n",
            " es.bin.syn0.npy\n",
            " es.bin.syn1neg.npy\n",
            " img_prueba.png\n",
            " manythings_en_es.txt\n",
            " manythings_en_zh.txt\n",
            " model_2_1.png\n",
            " model_complete_v3_1.h5\n",
            " model_complete_v3.h5\n",
            " model_weights_v2_1.h5\n",
            " model_weights_v3_1.h5\n",
            " model_weights_v3.h5\n",
            " ted_dev_en.txt\n",
            " ted_dev_zh1.txt\n",
            " ted_test1_en.txt\n",
            " ted_test1_zh.txt\n",
            " ted_train_en.txt\n",
            " ted_train_zh.txt\n",
            "'Trabajo Fin de Master.docx'\n",
            " zh.bin\n",
            " zh.bin.syn0.npy\n",
            " zh.bin.syn1neg.npy\n"
          ],
          "name": "stdout"
        }
      ]
    },
    {
      "cell_type": "code",
      "metadata": {
        "colab_type": "code",
        "id": "xES1FpwaKx2c",
        "colab": {}
      },
      "source": [
        "import numpy as np\n",
        "import matplotlib.pyplot as plt\n",
        "import tensorflow as tf\n",
        "import re\n",
        "import io\n",
        "from tensorflow.keras import *\n",
        "from tensorflow.keras.models import Model\n",
        "from tensorflow.keras.utils import plot_model\n",
        "from tensorflow.keras.layers import LSTM, GRU, Input, Dense, TimeDistributed, AdditiveAttention,Embedding, Bidirectional, Concatenate\n",
        "from tensorflow.keras.callbacks import ModelCheckpoint\n",
        "from tensorflow.keras.optimizers import RMSprop, Adam\n",
        "from tensorflow.keras.preprocessing.text import Tokenizer\n",
        "from sklearn.model_selection import train_test_split\n",
        "import gensim\n",
        "from gensim.models import Word2Vec, KeyedVectors\n",
        "from nltk.translate.bleu_score import corpus_bleu"
      ],
      "execution_count": null,
      "outputs": []
    },
    {
      "cell_type": "markdown",
      "metadata": {
        "id": "yGfEARHtYXXM",
        "colab_type": "text"
      },
      "source": [
        "##2.1 Preparación de datos\n",
        "\n",
        "Importar datos, tokenizacion, obtencion de parametros (Longitud maxima de la secuencia, vocabulario maximo de cada idioma)"
      ]
    },
    {
      "cell_type": "code",
      "metadata": {
        "id": "JQY_jjqtK1cE",
        "colab_type": "code",
        "colab": {}
      },
      "source": [
        "def open_data(dataset, num_examples=None):\n",
        "    with open(dataset) as archivo:\n",
        "        datos = [line.rstrip('\\n') for line in archivo]\n",
        "        corpus = datos[:num_examples]\n",
        "        \n",
        "    return corpus"
      ],
      "execution_count": null,
      "outputs": []
    },
    {
      "cell_type": "code",
      "metadata": {
        "id": "qulJExunIUxX",
        "colab_type": "code",
        "colab": {}
      },
      "source": [
        "def tokenizer(dataset, max_len, max_features, language=\"en\"):\n",
        " \n",
        "   \n",
        "    tokenizer_lang = Tokenizer(num_words=max_features, filters=\"\")\n",
        "    \n",
        "    tokenizer_lang.fit_on_texts(dataset) \n",
        "#asignamos un numero a cada palabra, es como un diccionario int-string\n",
        "#Las palabras mas frecuentes tienen numeros mas bajos, 0 queda reservado a padding\n",
        "\n",
        "    word_tensor = tokenizer_lang.texts_to_sequences(dataset) \n",
        "    word_tensor = tf.keras.preprocessing.sequence.pad_sequences(word_tensor,\\\n",
        "                                                               maxlen=max_len,\\\n",
        "                                                               padding = \"post\")\n",
        "    return tokenizer_lang, word_tensor\n"
      ],
      "execution_count": null,
      "outputs": []
    },
    {
      "cell_type": "code",
      "metadata": {
        "id": "4X6NxJa9oDco",
        "colab_type": "code",
        "colab": {}
      },
      "source": [
        "#Corpus\n",
        "num_examples = 20000\n",
        "corpus_zh = open_data(\"/content/gdrive/My Drive/tfm/dataset_zh.txt\", num_examples=num_examples)\n",
        "corpus_en = open_data(\"/content/gdrive/My Drive/tfm/dataset_en.txt\", num_examples=num_examples)"
      ],
      "execution_count": null,
      "outputs": []
    },
    {
      "cell_type": "code",
      "metadata": {
        "id": "xtsvty_5SUN8",
        "colab_type": "code",
        "colab": {
          "base_uri": "https://localhost:8080/",
          "height": 54
        },
        "outputId": "3571ca1e-afd6-4908-bcf3-8d7c88622a1e"
      },
      "source": [
        "print(corpus_zh[0:100])"
      ],
      "execution_count": null,
      "outputs": [
        {
          "output_type": "stream",
          "text": [
            "['你好 。', '你 用 跑 的 。', '等等 ！', '等 一下 ！', '你好 。', '我 贏 瞭 。', '不會 吧 。', '乾杯   !', '你 懂 瞭 嗎 ？', '他 跑 瞭 。', '跳進來 。', '我 退齣 。', '我 沒事 。', '我 已經 起來 瞭 。', '聽 著 。', '不 可能 ！', '沒門 ！', '你 確定 ？', '試試 吧 。', '我們 來 試試 。', '為什麼 是 我 ？', '去 問 湯姆 。', '好棒 ！', '冷靜 點 。', '公平 點 。', '友善 點 。', '和 氣點 。', '友善 點 。', '聯係 我 。', '聯係 我們 。', '進來 。', '找到 湯姆 。', '滾 齣去 ！', '齣去 ！', '走開 ！', '滾 ！', '走開 ！', '迴傢吧 。', '再見 ！', '告辭 ！', '堅持 。', '等 一下 ！', '堅持 。', '他來 瞭 。', '他 跑 。', '幫 我 一下 。', '幫幫 我們 吧 ！', '去 打 湯姆 。', '堅持 。', '抱抱 湯姆 ！', '請 抱緊 湯姆 。', '我 同意 。', '我 生病 瞭 。', '我 老 瞭 。', '我 濕 瞭 。', '沒關係 。', '是 我 。', '來 加入 我們 吧 。', '留著 吧 。', '吻 我 。', '完美 ！', '再見 ！', '閉嘴 ！', '不管 它 。', '拿走 吧 。', '醒醒 ！', '去 清洗 一下 。', '我們 知道 。', '歡迎 。', '誰 贏 瞭 ？', '為什麼 不 ？', '你 跑 。', '算你狠 。', '往 後退 點 。', '靜靜的   彆動 。', '我 一無所知 。', '把 他 銬 上 。', '往前 開 。', '走開 ！', '滾 ！', '趴下 ！', '滾 ！', '滾 。', '滾 。', '醒醒 吧 。', '做得好 ！', '乾 的 好 ！', '抓住 湯姆 。', '抓住 他 。', '玩得 開心 。', '他來 試試 。', '多 可愛 啊 ！', '你 就 隨 瞭 我 的 意 吧 。', '趕快   !', '快點 ！', '快點 。', '我 做到 瞭 ！', '我 忘 瞭 。', '我 放棄 。', '我來 付錢 。']\n"
          ],
          "name": "stdout"
        }
      ]
    },
    {
      "cell_type": "code",
      "metadata": {
        "id": "r8qCKOi5Sapo",
        "colab_type": "code",
        "colab": {
          "base_uri": "https://localhost:8080/",
          "height": 54
        },
        "outputId": "fbc5a8d3-9df5-48bf-c8a7-63fd8c185e09"
      },
      "source": [
        "print(corpus_en[0:100])"
      ],
      "execution_count": null,
      "outputs": [
        {
          "output_type": "stream",
          "text": [
            "['<start> hi . <end>', '<start> run . <end>', '<start> wait ! <end>', '<start> wait ! <end>', '<start> hello ! <end>', '<start> i won ! <end>', '<start> oh no ! <end>', '<start> cheers ! <end>', '<start> got it ? <end>', '<start> he ran . <end>', '<start> hop in . <end>', '<start> i quit . <end>', '<start> i m ok . <end>', '<start> i m up . <end>', '<start> listen . <end>', '<start> no way ! <end>', '<start> no way ! <end>', '<start> really ? <end>', '<start> try it . <end>', '<start> we try . <end>', '<start> why me ? <end>', '<start> ask tom . <end>', '<start> awesome ! <end>', '<start> be calm . <end>', '<start> be fair . <end>', '<start> be kind . <end>', '<start> be nice . <end>', '<start> be nice . <end>', '<start> call me . <end>', '<start> call us . <end>', '<start> come in . <end>', '<start> get tom . <end>', '<start> get out ! <end>', '<start> get out ! <end>', '<start> go away ! <end>', '<start> go away ! <end>', '<start> go away . <end>', '<start> go home . <end>', '<start> goodbye ! <end>', '<start> goodbye ! <end>', '<start> hang on ! <end>', '<start> hang on ! <end>', '<start> hang on . <end>', '<start> he came . <end>', '<start> he runs . <end>', '<start> help me . <end>', '<start> help us . <end>', '<start> hit tom . <end>', '<start> hold on . <end>', '<start> hug tom . <end>', '<start> hug tom . <end>', '<start> i agree . <end>', '<start> i m ill . <end>', '<start> i m old . <end>', '<start> i m wet . <end>', '<start> it s ok . <end>', '<start> it s me . <end>', '<start> join us . <end>', '<start> keep it . <end>', '<start> kiss me . <end>', '<start> perfect ! <end>', '<start> see you . <end>', '<start> shut up ! <end>', '<start> skip it . <end>', '<start> take it . <end>', '<start> wake up ! <end>', '<start> wash up . <end>', '<start> we know . <end>', '<start> welcome . <end>', '<start> who won ? <end>', '<start> why not ? <end>', '<start> you run . <end>', '<start> you win . <end>', '<start> back off . <end>', '<start> be still . <end>', '<start> beats me . <end>', '<start> cuff him . <end>', '<start> drive on . <end>', '<start> get away ! <end>', '<start> get away ! <end>', '<start> get down ! <end>', '<start> get lost ! <end>', '<start> get lost ! <end>', '<start> get lost . <end>', '<start> get real . <end>', '<start> good job ! <end>', '<start> good job ! <end>', '<start> grab tom . <end>', '<start> grab him . <end>', '<start> have fun . <end>', '<start> he tries . <end>', '<start> how cute ! <end>', '<start> humor me . <end>', '<start> hurry up . <end>', '<start> hurry up . <end>', '<start> hurry up . <end>', '<start> i did it . <end>', '<start> i forgot . <end>', '<start> i resign . <end>', '<start> i ll pay . <end>']\n"
          ],
          "name": "stdout"
        }
      ]
    },
    {
      "cell_type": "code",
      "metadata": {
        "id": "0T2OdYlTxkFG",
        "colab_type": "code",
        "colab": {}
      },
      "source": [
        "def max_len(datos):\n",
        "    return max(len(line.split()) for line in datos)"
      ],
      "execution_count": null,
      "outputs": []
    },
    {
      "cell_type": "code",
      "metadata": {
        "id": "UKrrsACa7mPo",
        "colab_type": "code",
        "colab": {
          "base_uri": "https://localhost:8080/",
          "height": 68
        },
        "outputId": "b98e50c5-93c9-4bb5-dac3-220a99755877"
      },
      "source": [
        "#Longitud maxima de secuencia\n",
        "zh_max_len=max_len(corpus_zh)\n",
        "en_max_len=max_len(corpus_en)\n",
        "global_max_len = max(en_max_len, zh_max_len)\n",
        "print(f\"max len zh : {zh_max_len}\")\n",
        "print(f\"max len es : {en_max_len}\")\n",
        "print(f\"max len global : {global_max_len}\")\n"
      ],
      "execution_count": null,
      "outputs": [
        {
          "output_type": "stream",
          "text": [
            "max len zh : 17\n",
            "max len es : 15\n",
            "max len global : 17\n"
          ],
          "name": "stdout"
        }
      ]
    },
    {
      "cell_type": "code",
      "metadata": {
        "id": "_up-2PKnu4sM",
        "colab_type": "code",
        "colab": {}
      },
      "source": [
        "#Tokenizacion. Obtenemos tokenizador y el texto codificado con integers\n",
        "zh_tokenizer_lang, zh_word_tensor = tokenizer(corpus_zh, global_max_len, max_features=3000)\n",
        "en_tokenizer_lang, en_word_tensor = tokenizer(corpus_en, global_max_len, max_features=3000)"
      ],
      "execution_count": null,
      "outputs": []
    },
    {
      "cell_type": "code",
      "metadata": {
        "id": "Sx8RqcTgvY3W",
        "colab_type": "code",
        "colab": {
          "base_uri": "https://localhost:8080/",
          "height": 34
        },
        "outputId": "545bfe73-f2bf-4d22-a4f1-b66b10ef057c"
      },
      "source": [
        "print(f\"zh_word_tensor shape: {zh_word_tensor.shape}, en_word_tensor shape: {en_word_tensor.shape}\")"
      ],
      "execution_count": null,
      "outputs": [
        {
          "output_type": "stream",
          "text": [
            "zh_word_tensor shape: (20000, 17), en_word_tensor shape: (20000, 17)\n"
          ],
          "name": "stdout"
        }
      ]
    },
    {
      "cell_type": "code",
      "metadata": {
        "id": "DNtGBVqyjtaa",
        "colab_type": "code",
        "colab": {
          "base_uri": "https://localhost:8080/",
          "height": 51
        },
        "outputId": "fd5cff95-40a5-4044-eecd-29df6a959bdc"
      },
      "source": [
        "#Longitud del vocabulario. Se muestran todas pero el modelo solo tiene en cuenta el n-maximo \n",
        "#que hemos puesto en Tokenizer\n",
        "zh_vocab_size = len(zh_tokenizer_lang.word_index)\n",
        "en_vocab_size = len(en_tokenizer_lang.word_index)\n",
        "print(zh_vocab_size)\n",
        "print(en_vocab_size)"
      ],
      "execution_count": null,
      "outputs": [
        {
          "output_type": "stream",
          "text": [
            "10562\n",
            "5381\n"
          ],
          "name": "stdout"
        }
      ]
    },
    {
      "cell_type": "code",
      "metadata": {
        "id": "SnxfNdpKOS1_",
        "colab_type": "code",
        "colab": {}
      },
      "source": [
        "zh_train, zh_test, en_train, en_test = train_test_split(zh_word_tensor, en_word_tensor,\\\n",
        "                                                        test_size=0.1,random_state=13)"
      ],
      "execution_count": null,
      "outputs": []
    },
    {
      "cell_type": "markdown",
      "metadata": {
        "id": "HXOJJGKcaHaf",
        "colab_type": "text"
      },
      "source": [
        "##2.2 Preparacion de los archivos de embedding\n",
        "\n",
        "Fuente de los archivos: https://github.com/Kyubyong/wordvectors"
      ]
    },
    {
      "cell_type": "code",
      "metadata": {
        "id": "BV8VGo3ZaNbD",
        "colab_type": "code",
        "colab": {}
      },
      "source": [
        "#Archivos embedding\n",
        "embedding_file_en = \"/content/gdrive/My Drive/tfm/en.bin\"\n",
        "embedding_file_zh = \"/content/gdrive/My Drive/tfm/zh.bin\""
      ],
      "execution_count": null,
      "outputs": []
    },
    {
      "cell_type": "code",
      "metadata": {
        "id": "DJJB_QgSauJ-",
        "colab_type": "code",
        "colab": {}
      },
      "source": [
        "def from_w2v_to_dict(embedding_file, lang=\"zh\"):\n",
        "    if lang == \"en\":\n",
        "        model = KeyedVectors.load_word2vec_format(embedding_file, binary=True)\n",
        "    else:\n",
        "        model = Word2Vec.load(embedding_file)\n",
        "\n",
        "    vector = model.wv.vectors\n",
        "    palabras = model.wv.index2word\n",
        "    union_embeddings = dict(zip(palabras,vector))\n",
        "    return union_embeddings"
      ],
      "execution_count": null,
      "outputs": []
    },
    {
      "cell_type": "code",
      "metadata": {
        "id": "ZeJuhL_XdpDo",
        "colab_type": "code",
        "colab": {
          "base_uri": "https://localhost:8080/",
          "height": 139
        },
        "outputId": "4fb1496d-a4c6-46a4-b9ba-2b055bd4631f"
      },
      "source": [
        "embedding_zh = from_w2v_to_dict(embedding_file_zh)\n",
        "embedding_en = from_w2v_to_dict(embedding_file_en, lang=\"en\")"
      ],
      "execution_count": null,
      "outputs": [
        {
          "output_type": "stream",
          "text": [
            "/usr/local/lib/python3.6/dist-packages/smart_open/smart_open_lib.py:254: UserWarning: This function is deprecated, use smart_open.open instead. See the migration notes for details: https://github.com/RaRe-Technologies/smart_open/blob/master/README.rst#migrating-to-the-new-open-function\n",
            "  'See the migration notes for details: %s' % _MIGRATION_NOTES_URL\n",
            "/usr/local/lib/python3.6/dist-packages/ipykernel_launcher.py:7: DeprecationWarning: Call to deprecated `wv` (Attribute will be removed in 4.0.0, use self instead).\n",
            "  import sys\n",
            "/usr/local/lib/python3.6/dist-packages/ipykernel_launcher.py:8: DeprecationWarning: Call to deprecated `wv` (Attribute will be removed in 4.0.0, use self instead).\n",
            "  \n"
          ],
          "name": "stderr"
        }
      ]
    },
    {
      "cell_type": "code",
      "metadata": {
        "id": "JQFNYRqGl2wY",
        "colab_type": "code",
        "colab": {}
      },
      "source": [
        "def get_embedding_weights(embedd_dict, tokenizer_index, max_features=1000): \n",
        "    embed = list(embedd_dict.values())\n",
        "    \n",
        "    all_embs = np.stack(embed)\n",
        "    emb_mean, emb_std = all_embs.mean(), all_embs.std()\n",
        "    embed_size = all_embs.shape[1] #probar\n",
        "\n",
        "    word_index = tokenizer_index.word_index\n",
        "    nb_words = len(word_index)\n",
        "\n",
        "    embedding_matrix = np.random.normal(emb_mean, emb_std,\\\n",
        "                                        size=(nb_words, embed_size)) \n",
        "\n",
        "    for word, i in word_index.items():\n",
        "        if i >= max_features: \n",
        "            continue\n",
        "        embedding_vector = np.array(embedd_dict.get(word))\n",
        "        if embedding_vector.size is not 1: \n",
        "            embedding_matrix[i] = embedding_vector\n",
        "\n",
        "    return embedding_matrix"
      ],
      "execution_count": null,
      "outputs": []
    },
    {
      "cell_type": "code",
      "metadata": {
        "id": "BRQDA0Xxomwo",
        "colab_type": "code",
        "colab": {}
      },
      "source": [
        "emb_zh = get_embedding_weights(embedding_zh, zh_tokenizer_lang, max_features=zh_vocab_size)\n",
        "emb_en = emb = get_embedding_weights(embedding_en, en_tokenizer_lang, max_features=en_vocab_size)"
      ],
      "execution_count": null,
      "outputs": []
    },
    {
      "cell_type": "code",
      "metadata": {
        "id": "FlcJVN0y0l16",
        "colab_type": "code",
        "colab": {
          "base_uri": "https://localhost:8080/",
          "height": 34
        },
        "outputId": "a3559439-38cc-4ec5-fee2-f2e3c88618b7"
      },
      "source": [
        "print(f\"emb_zh shape: {emb_zh.shape}, emb_en shape: {emb_en.shape}\")"
      ],
      "execution_count": null,
      "outputs": [
        {
          "output_type": "stream",
          "text": [
            "emb_zh shape: (10562, 300), emb_en shape: (5381, 300)\n"
          ],
          "name": "stdout"
        }
      ]
    },
    {
      "cell_type": "markdown",
      "metadata": {
        "id": "eSHQe75ZSQZu",
        "colab_type": "text"
      },
      "source": [
        "##2.3)Modelo para entrenar (con Teacher Forcing)"
      ]
    },
    {
      "cell_type": "markdown",
      "metadata": {
        "id": "M5OsULZQgUgz",
        "colab_type": "text"
      },
      "source": [
        "###2.3.1 Generador de datos para entrenamiento en batches"
      ]
    },
    {
      "cell_type": "code",
      "metadata": {
        "id": "UspG68CUmXyG",
        "colab_type": "code",
        "colab": {}
      },
      "source": [
        "def generate_batch(X, y, global_max_len, vocab_size_out, batch_size):\n",
        "    ''' Generate a batch of data '''\n",
        "    while True:\n",
        "        for j in range(0, len(X), batch_size):\n",
        "            encoder_input_data = np.zeros((batch_size, global_max_len),dtype='float32')\n",
        "            decoder_input_data = np.zeros((batch_size, global_max_len),dtype='float32')\n",
        "            decoder_target_data = np.zeros((batch_size, global_max_len, vocab_size_out),dtype='float32')\n",
        "            for i, (input_text, target_text) in enumerate(zip(X[j:j+batch_size], y[j:j+batch_size])):\n",
        "                for t, word in enumerate(input_text):\n",
        "                    encoder_input_data[i, t] = word # encoder input seq\n",
        "                for t, word in enumerate(target_text):\n",
        "                    if t < len(target_text)-1:\n",
        "                        decoder_input_data[i, t] = word # decoder input seq\n",
        "                    if t > 0:\n",
        "                        # decoder target sequence (one hot encoded)\n",
        "                        # does not include the START_ token\n",
        "                        # Offset by one timestep\n",
        "                        decoder_target_data[i, t-1 , word] = 1 #si el vector es (1, 2, 4) ese 4 es 0001\n",
        "            yield ([encoder_input_data, decoder_input_data], decoder_target_data)"
      ],
      "execution_count": null,
      "outputs": []
    },
    {
      "cell_type": "code",
      "metadata": {
        "id": "mV12Y1Psp6oI",
        "colab_type": "code",
        "colab": {}
      },
      "source": [
        "#Prueba\n",
        "b_size= 128\n",
        "batch = generate_batch(zh_train, en_train, global_max_len, en_vocab_size, b_size)\n",
        "batch1 = next(batch)\n",
        "batch2 = next(batch)"
      ],
      "execution_count": null,
      "outputs": []
    },
    {
      "cell_type": "code",
      "metadata": {
        "id": "tYsNa-HFwHZ6",
        "colab_type": "code",
        "colab": {
          "base_uri": "https://localhost:8080/",
          "height": 68
        },
        "outputId": "0721cf3b-83fe-4954-c109-327650c784ab"
      },
      "source": [
        "print(f\"batch encoder_input shape (batch, global_max_len): {batch1[0][0].shape},\\n \\\n",
        "batch decoder_input shape (batch, global_max_len): {batch1[0][1].shape}, \\n \\\n",
        "batch decoder output shape (batch, global_max_len, output_num_words): {batch1[1].shape}\")"
      ],
      "execution_count": null,
      "outputs": [
        {
          "output_type": "stream",
          "text": [
            "batch encoder_input shape (batch, global_max_len): (128, 17),\n",
            " batch decoder_input shape (batch, global_max_len): (128, 17), \n",
            " batch decoder output shape (batch, global_max_len, output_num_words): (128, 17, 5381)\n"
          ],
          "name": "stdout"
        }
      ]
    },
    {
      "cell_type": "code",
      "metadata": {
        "id": "yOEcYumRnOFd",
        "colab_type": "code",
        "colab": {
          "base_uri": "https://localhost:8080/",
          "height": 68
        },
        "outputId": "9c7a483d-b6be-4ff7-ee71-8c7c3af27e69"
      },
      "source": [
        "print(batch1[0][0][0][0])\n",
        "print(batch1[0][1][0][1])\n",
        "print(batch1[1][0][0][11])"
      ],
      "execution_count": null,
      "outputs": [
        {
          "output_type": "stream",
          "text": [
            "5.0\n",
            "46.0\n",
            "0.0\n"
          ],
          "name": "stdout"
        }
      ]
    },
    {
      "cell_type": "code",
      "metadata": {
        "id": "9FxC8gZ_1M6f",
        "colab_type": "code",
        "colab": {
          "base_uri": "https://localhost:8080/",
          "height": 34
        },
        "outputId": "e6abcc60-f25a-4ae1-817c-7f447f7fa4f9"
      },
      "source": [
        "#Peso por batch\n",
        "print(f\"{(batch1[1].size/1024)/1024} MB con batch size = {b_size}\")"
      ],
      "execution_count": null,
      "outputs": [
        {
          "output_type": "stream",
          "text": [
            "11.1666259765625 MB con batch size = 128\n"
          ],
          "name": "stdout"
        }
      ]
    },
    {
      "cell_type": "markdown",
      "metadata": {
        "id": "deXGQQXx16JL",
        "colab_type": "text"
      },
      "source": [
        "###2.3.2 Modelo Entrenamiento"
      ]
    },
    {
      "cell_type": "markdown",
      "metadata": {
        "id": "cQVxK570Am3I",
        "colab_type": "text"
      },
      "source": [
        "####2.3.2.1 Capa de Atencion Bahdanau"
      ]
    },
    {
      "cell_type": "code",
      "metadata": {
        "id": "NVeIXkay5OUU",
        "colab_type": "code",
        "colab": {}
      },
      "source": [
        "class BahdanauAttention(tf.keras.layers.Layer):\n",
        "  def __init__(self, units):\n",
        "    super(BahdanauAttention, self).__init__()\n",
        "    self.W1 = tf.keras.layers.Dense(units)\n",
        "    self.W2 = tf.keras.layers.Dense(units)\n",
        "    self.V = tf.keras.layers.Dense(1)\n",
        "\n",
        "  def call(self, query, values):\n",
        "    # query hidden state shape == (batch_size, hidden size)\n",
        "    # query_with_time_axis shape == (batch_size, 1, hidden size)\n",
        "    # values shape == (batch_size, max_len, hidden size)\n",
        "    # we are doing this to broadcast addition along the time axis to calculate the score\n",
        "    query_with_time_axis = tf.expand_dims(query, 1)\n",
        "\n",
        "    # score shape == (batch_size, max_length, 1)\n",
        "    # we get 1 at the last axis because we are applying score to self.V\n",
        "    # the shape of the tensor before applying self.V is (batch_size, max_length, units)\n",
        "    score = self.V(tf.nn.tanh(\n",
        "        self.W1(query_with_time_axis) + self.W2(values)))\n",
        "\n",
        "    # attention_weights shape == (batch_size, max_length, 1)\n",
        "    attention_weights = tf.nn.softmax(score, axis=1)\n",
        "\n",
        "    # context_vector shape after sum == (batch_size, hidden_size)\n",
        "    context_vector = attention_weights * values\n",
        "    context_vector = tf.reduce_sum(context_vector, axis=1)\n",
        "\n",
        "    return context_vector, attention_weights"
      ],
      "execution_count": null,
      "outputs": []
    },
    {
      "cell_type": "markdown",
      "metadata": {
        "id": "tgtI27l8AyU3",
        "colab_type": "text"
      },
      "source": [
        "####2.3.2.2 Modelo Seq2seq Encoder-Decoder"
      ]
    },
    {
      "cell_type": "code",
      "metadata": {
        "id": "HZX1l9Pgc50t",
        "colab_type": "code",
        "colab": {
          "base_uri": "https://localhost:8080/",
          "height": 1000
        },
        "outputId": "7cae5efd-ca8d-41a3-8a8e-4185e9401959"
      },
      "source": [
        "#training model zh-en\n",
        "nodes_lstm = 1024\n",
        "learning_rate = 0.0001\n",
        "clip_value = 1\n",
        "dropout=0.1\n",
        "#encoder-zh\n",
        "encoder_input = Input(shape=(global_max_len,))\n",
        "encoder_embedding = Embedding(zh_vocab_size, 300, input_length=global_max_len,\n",
        "                              mask_zero=True)(encoder_input)\n",
        "encoder_gru = Bidirectional(GRU(nodes_lstm, return_sequences=True,\\\n",
        "                                unroll=True,dropout=dropout, return_state=True,\\\n",
        "                                name=\"encoder_lstm\"))\n",
        "encoder_output, state_h_f, state_h_b = encoder_gru(encoder_embedding)\n",
        "state_h = Concatenate(name=\"states_h\")([state_h_f, state_h_b])\n",
        "\n",
        "\n",
        "#Attention Layer\n",
        "attention_layer = BahdanauAttention(nodes_lstm*2)\n",
        "context_vector, attention_weights = attention_layer(state_h, encoder_output)#output del encoder y decoder\n",
        "context_vector = tf.keras.layers.RepeatVector(global_max_len)(context_vector)#repeat vector=longitud de secuencia objetivo\n",
        "\n",
        "#decoder-en\n",
        "decoder_input = Input(shape=(global_max_len), name=\"decoder_input\")\n",
        "decoder_emb = Embedding(en_vocab_size, 300, input_length = global_max_len,\\\n",
        "                        mask_zero=True)(decoder_input)\n",
        "\n",
        "decoder_emb_attention = tf.concat([context_vector, decoder_emb], axis=-1)\n",
        "   \n",
        "decoder_gru = GRU(nodes_lstm*2, return_sequences=True, return_state=True,\\\n",
        "                    unroll=True, dropout=dropout, name=\"decoder_lstm\")\n",
        "\n",
        "decoder_output,_= decoder_gru(decoder_emb_attention, initial_state=state_h)\n",
        "\n",
        "\n",
        "#Output del decoder\n",
        "decoder_dense_output = Dense(en_vocab_size, activation=\"softmax\")(decoder_output)\n",
        "\n",
        "model = Model(inputs=[encoder_input, decoder_input], outputs=[decoder_dense_output])\n",
        "\n",
        "#compile model\n",
        "model.compile(optimizer=tf.keras.optimizers.Adam(learning_rate=learning_rate,\\\n",
        "                                                    clipvalue=clip_value),\\\n",
        "              loss=\"categorical_crossentropy\") \n",
        "#Summarize compiled model\n",
        "model.summary()\n",
        "plot_model(model, to_file=\"/content/gdrive/My Drive/tfm/model_2_1.png\", show_shapes=True)\n",
        "\n"
      ],
      "execution_count": null,
      "outputs": [
        {
          "output_type": "stream",
          "text": [
            "WARNING:tensorflow:Layer encoder_lstm will not use cuDNN kernel since it doesn't meet the cuDNN kernel criteria. It will use generic GPU kernel as fallback when running on GPU\n",
            "WARNING:tensorflow:Layer encoder_lstm will not use cuDNN kernel since it doesn't meet the cuDNN kernel criteria. It will use generic GPU kernel as fallback when running on GPU\n",
            "WARNING:tensorflow:Layer encoder_lstm will not use cuDNN kernel since it doesn't meet the cuDNN kernel criteria. It will use generic GPU kernel as fallback when running on GPU\n",
            "WARNING:tensorflow:Layer decoder_lstm will not use cuDNN kernel since it doesn't meet the cuDNN kernel criteria. It will use generic GPU kernel as fallback when running on GPU\n",
            "Model: \"model_3\"\n",
            "__________________________________________________________________________________________________\n",
            "Layer (type)                    Output Shape         Param #     Connected to                     \n",
            "==================================================================================================\n",
            "input_4 (InputLayer)            [(None, 17)]         0                                            \n",
            "__________________________________________________________________________________________________\n",
            "embedding_3 (Embedding)         (None, 17, 300)      3168600     input_4[0][0]                    \n",
            "__________________________________________________________________________________________________\n",
            "bidirectional_1 (Bidirectional) [(None, 17, 2048), ( 8146944     embedding_3[0][0]                \n",
            "__________________________________________________________________________________________________\n",
            "states_h (Concatenate)          (None, 2048)         0           bidirectional_1[0][1]            \n",
            "                                                                 bidirectional_1[0][2]            \n",
            "__________________________________________________________________________________________________\n",
            "bahdanau_attention_2 (BahdanauA ((None, 2048), (None 8394753     states_h[0][0]                   \n",
            "__________________________________________________________________________________________________\n",
            "decoder_input (InputLayer)      [(None, 17)]         0                                            \n",
            "__________________________________________________________________________________________________\n",
            "repeat_vector_2 (RepeatVector)  (None, 17, 2048)     0           bahdanau_attention_2[0][0]       \n",
            "__________________________________________________________________________________________________\n",
            "embedding_4 (Embedding)         (None, 17, 300)      1614300     decoder_input[0][0]              \n",
            "__________________________________________________________________________________________________\n",
            "tf_op_layer_concat_2 (TensorFlo [(None, 17, 2348)]   0           repeat_vector_2[0][0]            \n",
            "                                                                 embedding_4[0][0]                \n",
            "__________________________________________________________________________________________________\n",
            "decoder_lstm (GRU)              [(None, 17, 2048), ( 27021312    tf_op_layer_concat_2[0][0]       \n",
            "                                                                 states_h[0][0]                   \n",
            "__________________________________________________________________________________________________\n",
            "dense_11 (Dense)                (None, 17, 5381)     11025669    decoder_lstm[0][0]               \n",
            "==================================================================================================\n",
            "Total params: 59,371,578\n",
            "Trainable params: 59,371,578\n",
            "Non-trainable params: 0\n",
            "__________________________________________________________________________________________________\n"
          ],
          "name": "stdout"
        },
        {
          "output_type": "execute_result",
          "data": {
            "image/png": "[encoded data removed]",
            "text/plain": [
              "<IPython.core.display.Image object>"
            ]
          },
          "metadata": {
            "tags": []
          },
          "execution_count": 39
        }
      ]
    },
    {
      "cell_type": "markdown",
      "metadata": {
        "id": "nIllBAFT0ZUP",
        "colab_type": "text"
      },
      "source": [
        "####2.3.2.3 fit modelo"
      ]
    },
    {
      "cell_type": "code",
      "metadata": {
        "id": "wWm87bK8xROq",
        "colab_type": "code",
        "colab": {
          "base_uri": "https://localhost:8080/",
          "height": 1000
        },
        "outputId": "a8e66d21-432b-47f0-cb72-448fee0e5274"
      },
      "source": [
        "#fit model. hay que poner [encoder input data, decoder input data], target input data=dcoder input data=1 timestep\n",
        "epochs = 50\n",
        "b_size = 256\n",
        "checkpoint = ModelCheckpoint(\"/content/gdrive/My Drive/tfm/model_weights_v3_1.h5\",\\\n",
        "                             monitor=\"val_loss\", verbose=1, save_best_only=True\\\n",
        "                             ,mode=\"min\", save_weights_only=True)\n",
        "model.fit(generate_batch(zh_train, en_train, global_max_len, en_vocab_size, b_size),\\\n",
        "                    steps_per_epoch=len(zh_train)//b_size,\\\n",
        "                    epochs=epochs,\\\n",
        "                    validation_data=generate_batch(zh_test, en_test, global_max_len, en_vocab_size, b_size),\\\n",
        "                    validation_steps=len(zh_test)//b_size,\\\n",
        "                    verbose=1,\\\n",
        "                    callbacks=[checkpoint],)\n",
        "#model.save(\"/content/gdrive/My Drive/tfm/model_complete_v3_1.h5\")\n",
        "#RMSprop bien"
      ],
      "execution_count": null,
      "outputs": [
        {
          "output_type": "stream",
          "text": [
            "Epoch 1/50\n",
            "70/70 [==============================] - ETA: 0s - loss: 4.7050\n",
            "Epoch 00001: val_loss improved from inf to 2.95975, saving model to /content/gdrive/My Drive/tfm/model_weights_v3_1.h5\n",
            "70/70 [==============================] - 72s 1s/step - loss: 4.7050 - val_loss: 2.9598\n",
            "Epoch 2/50\n",
            "70/70 [==============================] - ETA: 0s - loss: 2.7063\n",
            "Epoch 00002: val_loss improved from 2.95975 to 2.51092, saving model to /content/gdrive/My Drive/tfm/model_weights_v3_1.h5\n",
            "70/70 [==============================] - 70s 1s/step - loss: 2.7063 - val_loss: 2.5109\n",
            "Epoch 3/50\n",
            "70/70 [==============================] - ETA: 0s - loss: 2.3191\n",
            "Epoch 00003: val_loss improved from 2.51092 to 2.29394, saving model to /content/gdrive/My Drive/tfm/model_weights_v3_1.h5\n",
            "70/70 [==============================] - 70s 998ms/step - loss: 2.3191 - val_loss: 2.2939\n",
            "Epoch 4/50\n",
            "70/70 [==============================] - ETA: 0s - loss: 2.1952\n",
            "Epoch 00004: val_loss improved from 2.29394 to 2.18996, saving model to /content/gdrive/My Drive/tfm/model_weights_v3_1.h5\n",
            "70/70 [==============================] - 70s 997ms/step - loss: 2.1952 - val_loss: 2.1900\n",
            "Epoch 5/50\n",
            "70/70 [==============================] - ETA: 0s - loss: 2.0908\n",
            "Epoch 00005: val_loss improved from 2.18996 to 2.09863, saving model to /content/gdrive/My Drive/tfm/model_weights_v3_1.h5\n",
            "70/70 [==============================] - 70s 1s/step - loss: 2.0908 - val_loss: 2.0986\n",
            "Epoch 6/50\n",
            "70/70 [==============================] - ETA: 0s - loss: 2.0166\n",
            "Epoch 00006: val_loss improved from 2.09863 to 2.04587, saving model to /content/gdrive/My Drive/tfm/model_weights_v3_1.h5\n",
            "70/70 [==============================] - 70s 1s/step - loss: 2.0166 - val_loss: 2.0459\n",
            "Epoch 7/50\n",
            "70/70 [==============================] - ETA: 0s - loss: 1.9767\n",
            "Epoch 00007: val_loss improved from 2.04587 to 2.01513, saving model to /content/gdrive/My Drive/tfm/model_weights_v3_1.h5\n",
            "70/70 [==============================] - 70s 999ms/step - loss: 1.9767 - val_loss: 2.0151\n",
            "Epoch 8/50\n",
            "70/70 [==============================] - ETA: 0s - loss: 1.9415\n",
            "Epoch 00008: val_loss improved from 2.01513 to 1.97769, saving model to /content/gdrive/My Drive/tfm/model_weights_v3_1.h5\n",
            "70/70 [==============================] - 70s 1s/step - loss: 1.9415 - val_loss: 1.9777\n",
            "Epoch 9/50\n",
            "70/70 [==============================] - ETA: 0s - loss: 1.8899\n",
            "Epoch 00009: val_loss improved from 1.97769 to 1.92237, saving model to /content/gdrive/My Drive/tfm/model_weights_v3_1.h5\n",
            "70/70 [==============================] - 70s 1s/step - loss: 1.8899 - val_loss: 1.9224\n",
            "Epoch 10/50\n",
            "70/70 [==============================] - ETA: 0s - loss: 1.8318\n",
            "Epoch 00010: val_loss improved from 1.92237 to 1.87053, saving model to /content/gdrive/My Drive/tfm/model_weights_v3_1.h5\n",
            "70/70 [==============================] - 70s 1s/step - loss: 1.8318 - val_loss: 1.8705\n",
            "Epoch 11/50\n",
            "70/70 [==============================] - ETA: 0s - loss: 1.7744\n",
            "Epoch 00011: val_loss improved from 1.87053 to 1.81832, saving model to /content/gdrive/My Drive/tfm/model_weights_v3_1.h5\n",
            "70/70 [==============================] - 70s 1s/step - loss: 1.7744 - val_loss: 1.8183\n",
            "Epoch 12/50\n",
            "70/70 [==============================] - ETA: 0s - loss: 1.7177\n",
            "Epoch 00012: val_loss improved from 1.81832 to 1.77591, saving model to /content/gdrive/My Drive/tfm/model_weights_v3_1.h5\n",
            "70/70 [==============================] - 71s 1s/step - loss: 1.7177 - val_loss: 1.7759\n",
            "Epoch 13/50\n",
            "70/70 [==============================] - ETA: 0s - loss: 1.6607\n",
            "Epoch 00013: val_loss improved from 1.77591 to 1.72328, saving model to /content/gdrive/My Drive/tfm/model_weights_v3_1.h5\n",
            "70/70 [==============================] - 70s 1s/step - loss: 1.6607 - val_loss: 1.7233\n",
            "Epoch 14/50\n",
            "70/70 [==============================] - ETA: 0s - loss: 1.6031\n",
            "Epoch 00014: val_loss improved from 1.72328 to 1.67723, saving model to /content/gdrive/My Drive/tfm/model_weights_v3_1.h5\n",
            "70/70 [==============================] - 70s 1s/step - loss: 1.6031 - val_loss: 1.6772\n",
            "Epoch 15/50\n",
            "70/70 [==============================] - ETA: 0s - loss: 1.5508\n",
            "Epoch 00015: val_loss improved from 1.67723 to 1.63610, saving model to /content/gdrive/My Drive/tfm/model_weights_v3_1.h5\n",
            "70/70 [==============================] - 71s 1s/step - loss: 1.5508 - val_loss: 1.6361\n",
            "Epoch 16/50\n",
            "70/70 [==============================] - ETA: 0s - loss: 1.5023\n",
            "Epoch 00016: val_loss improved from 1.63610 to 1.60147, saving model to /content/gdrive/My Drive/tfm/model_weights_v3_1.h5\n",
            "70/70 [==============================] - 71s 1s/step - loss: 1.5023 - val_loss: 1.6015\n",
            "Epoch 17/50\n",
            "70/70 [==============================] - ETA: 0s - loss: 1.4590\n",
            "Epoch 00017: val_loss improved from 1.60147 to 1.56808, saving model to /content/gdrive/My Drive/tfm/model_weights_v3_1.h5\n",
            "70/70 [==============================] - 71s 1s/step - loss: 1.4590 - val_loss: 1.5681\n",
            "Epoch 18/50\n",
            "70/70 [==============================] - ETA: 0s - loss: 1.4170\n",
            "Epoch 00018: val_loss improved from 1.56808 to 1.54196, saving model to /content/gdrive/My Drive/tfm/model_weights_v3_1.h5\n",
            "70/70 [==============================] - 71s 1s/step - loss: 1.4170 - val_loss: 1.5420\n",
            "Epoch 19/50\n",
            "70/70 [==============================] - ETA: 0s - loss: 1.3769\n",
            "Epoch 00019: val_loss improved from 1.54196 to 1.51878, saving model to /content/gdrive/My Drive/tfm/model_weights_v3_1.h5\n",
            "70/70 [==============================] - 71s 1s/step - loss: 1.3769 - val_loss: 1.5188\n",
            "Epoch 20/50\n",
            "70/70 [==============================] - ETA: 0s - loss: 1.3399\n",
            "Epoch 00020: val_loss improved from 1.51878 to 1.49598, saving model to /content/gdrive/My Drive/tfm/model_weights_v3_1.h5\n",
            "70/70 [==============================] - 71s 1s/step - loss: 1.3399 - val_loss: 1.4960\n",
            "Epoch 21/50\n",
            "70/70 [==============================] - ETA: 0s - loss: 1.3067\n",
            "Epoch 00021: val_loss improved from 1.49598 to 1.47834, saving model to /content/gdrive/My Drive/tfm/model_weights_v3_1.h5\n",
            "70/70 [==============================] - 71s 1s/step - loss: 1.3067 - val_loss: 1.4783\n",
            "Epoch 22/50\n",
            "70/70 [==============================] - ETA: 0s - loss: 1.2728\n",
            "Epoch 00022: val_loss improved from 1.47834 to 1.46224, saving model to /content/gdrive/My Drive/tfm/model_weights_v3_1.h5\n",
            "70/70 [==============================] - 71s 1s/step - loss: 1.2728 - val_loss: 1.4622\n",
            "Epoch 23/50\n",
            "70/70 [==============================] - ETA: 0s - loss: 1.2423\n",
            "Epoch 00023: val_loss improved from 1.46224 to 1.44013, saving model to /content/gdrive/My Drive/tfm/model_weights_v3_1.h5\n",
            "70/70 [==============================] - 70s 1s/step - loss: 1.2423 - val_loss: 1.4401\n",
            "Epoch 24/50\n",
            "70/70 [==============================] - ETA: 0s - loss: 1.2143\n",
            "Epoch 00024: val_loss improved from 1.44013 to 1.42867, saving model to /content/gdrive/My Drive/tfm/model_weights_v3_1.h5\n",
            "70/70 [==============================] - 70s 999ms/step - loss: 1.2143 - val_loss: 1.4287\n",
            "Epoch 25/50\n",
            "70/70 [==============================] - ETA: 0s - loss: 1.1818\n",
            "Epoch 00025: val_loss improved from 1.42867 to 1.40847, saving model to /content/gdrive/My Drive/tfm/model_weights_v3_1.h5\n",
            "70/70 [==============================] - 71s 1s/step - loss: 1.1818 - val_loss: 1.4085\n",
            "Epoch 26/50\n",
            "70/70 [==============================] - ETA: 0s - loss: 1.1481\n",
            "Epoch 00026: val_loss improved from 1.40847 to 1.39206, saving model to /content/gdrive/My Drive/tfm/model_weights_v3_1.h5\n",
            "70/70 [==============================] - 71s 1s/step - loss: 1.1481 - val_loss: 1.3921\n",
            "Epoch 27/50\n",
            "70/70 [==============================] - ETA: 0s - loss: 1.1170\n",
            "Epoch 00027: val_loss improved from 1.39206 to 1.37862, saving model to /content/gdrive/My Drive/tfm/model_weights_v3_1.h5\n",
            "70/70 [==============================] - 71s 1s/step - loss: 1.1170 - val_loss: 1.3786\n",
            "Epoch 28/50\n",
            "70/70 [==============================] - ETA: 0s - loss: 1.0867\n",
            "Epoch 00028: val_loss improved from 1.37862 to 1.36605, saving model to /content/gdrive/My Drive/tfm/model_weights_v3_1.h5\n",
            "70/70 [==============================] - 71s 1s/step - loss: 1.0867 - val_loss: 1.3661\n",
            "Epoch 29/50\n",
            "70/70 [==============================] - ETA: 0s - loss: 1.0591\n",
            "Epoch 00029: val_loss improved from 1.36605 to 1.35339, saving model to /content/gdrive/My Drive/tfm/model_weights_v3_1.h5\n",
            "70/70 [==============================] - 70s 1s/step - loss: 1.0591 - val_loss: 1.3534\n",
            "Epoch 30/50\n",
            "70/70 [==============================] - ETA: 0s - loss: 1.0316\n",
            "Epoch 00030: val_loss improved from 1.35339 to 1.35145, saving model to /content/gdrive/My Drive/tfm/model_weights_v3_1.h5\n",
            "70/70 [==============================] - 70s 998ms/step - loss: 1.0316 - val_loss: 1.3514\n",
            "Epoch 31/50\n",
            "70/70 [==============================] - ETA: 0s - loss: 1.0068\n",
            "Epoch 00031: val_loss improved from 1.35145 to 1.33610, saving model to /content/gdrive/My Drive/tfm/model_weights_v3_1.h5\n",
            "70/70 [==============================] - 69s 989ms/step - loss: 1.0068 - val_loss: 1.3361\n",
            "Epoch 32/50\n",
            "70/70 [==============================] - ETA: 0s - loss: 0.9887\n",
            "Epoch 00032: val_loss improved from 1.33610 to 1.32966, saving model to /content/gdrive/My Drive/tfm/model_weights_v3_1.h5\n",
            "70/70 [==============================] - 70s 998ms/step - loss: 0.9887 - val_loss: 1.3297\n",
            "Epoch 33/50\n",
            "70/70 [==============================] - ETA: 0s - loss: 0.9662\n",
            "Epoch 00033: val_loss improved from 1.32966 to 1.32502, saving model to /content/gdrive/My Drive/tfm/model_weights_v3_1.h5\n",
            "70/70 [==============================] - 70s 999ms/step - loss: 0.9662 - val_loss: 1.3250\n",
            "Epoch 34/50\n",
            "70/70 [==============================] - ETA: 0s - loss: 0.9401\n",
            "Epoch 00034: val_loss improved from 1.32502 to 1.31358, saving model to /content/gdrive/My Drive/tfm/model_weights_v3_1.h5\n",
            "70/70 [==============================] - 70s 1s/step - loss: 0.9401 - val_loss: 1.3136\n",
            "Epoch 35/50\n",
            "70/70 [==============================] - ETA: 0s - loss: 0.9171\n",
            "Epoch 00035: val_loss improved from 1.31358 to 1.30674, saving model to /content/gdrive/My Drive/tfm/model_weights_v3_1.h5\n",
            "70/70 [==============================] - 70s 1s/step - loss: 0.9171 - val_loss: 1.3067\n",
            "Epoch 36/50\n",
            "70/70 [==============================] - ETA: 0s - loss: 0.8917\n",
            "Epoch 00036: val_loss improved from 1.30674 to 1.29477, saving model to /content/gdrive/My Drive/tfm/model_weights_v3_1.h5\n",
            "70/70 [==============================] - 70s 999ms/step - loss: 0.8917 - val_loss: 1.2948\n",
            "Epoch 37/50\n",
            "70/70 [==============================] - ETA: 0s - loss: 0.8654\n",
            "Epoch 00037: val_loss improved from 1.29477 to 1.29086, saving model to /content/gdrive/My Drive/tfm/model_weights_v3_1.h5\n",
            "70/70 [==============================] - 70s 1s/step - loss: 0.8654 - val_loss: 1.2909\n",
            "Epoch 38/50\n",
            "70/70 [==============================] - ETA: 0s - loss: 0.8418\n",
            "Epoch 00038: val_loss improved from 1.29086 to 1.28516, saving model to /content/gdrive/My Drive/tfm/model_weights_v3_1.h5\n",
            "70/70 [==============================] - 70s 1s/step - loss: 0.8418 - val_loss: 1.2852\n",
            "Epoch 39/50\n",
            "70/70 [==============================] - ETA: 0s - loss: 0.8194\n",
            "Epoch 00039: val_loss improved from 1.28516 to 1.27880, saving model to /content/gdrive/My Drive/tfm/model_weights_v3_1.h5\n",
            "70/70 [==============================] - 70s 997ms/step - loss: 0.8194 - val_loss: 1.2788\n",
            "Epoch 40/50\n",
            "70/70 [==============================] - ETA: 0s - loss: 0.7981\n",
            "Epoch 00040: val_loss did not improve from 1.27880\n",
            "70/70 [==============================] - 68s 977ms/step - loss: 0.7981 - val_loss: 1.2822\n",
            "Epoch 41/50\n",
            "70/70 [==============================] - ETA: 0s - loss: 0.7761\n",
            "Epoch 00041: val_loss improved from 1.27880 to 1.27857, saving model to /content/gdrive/My Drive/tfm/model_weights_v3_1.h5\n",
            "70/70 [==============================] - 70s 1s/step - loss: 0.7761 - val_loss: 1.2786\n",
            "Epoch 42/50\n",
            "70/70 [==============================] - ETA: 0s - loss: 0.7516\n",
            "Epoch 00042: val_loss improved from 1.27857 to 1.27059, saving model to /content/gdrive/My Drive/tfm/model_weights_v3_1.h5\n",
            "70/70 [==============================] - 70s 1s/step - loss: 0.7516 - val_loss: 1.2706\n",
            "Epoch 43/50\n",
            "70/70 [==============================] - ETA: 0s - loss: 0.7320\n",
            "Epoch 00043: val_loss did not improve from 1.27059\n",
            "70/70 [==============================] - 68s 968ms/step - loss: 0.7320 - val_loss: 1.2710\n",
            "Epoch 44/50\n",
            "70/70 [==============================] - ETA: 0s - loss: 0.7159\n",
            "Epoch 00044: val_loss did not improve from 1.27059\n",
            "70/70 [==============================] - 68s 969ms/step - loss: 0.7159 - val_loss: 1.2755\n",
            "Epoch 45/50\n",
            "70/70 [==============================] - ETA: 0s - loss: 0.7050\n",
            "Epoch 00045: val_loss improved from 1.27059 to 1.26404, saving model to /content/gdrive/My Drive/tfm/model_weights_v3_1.h5\n",
            "70/70 [==============================] - 70s 993ms/step - loss: 0.7050 - val_loss: 1.2640\n",
            "Epoch 46/50\n",
            "70/70 [==============================] - ETA: 0s - loss: 0.6941\n",
            "Epoch 00046: val_loss did not improve from 1.26404\n",
            "70/70 [==============================] - 69s 979ms/step - loss: 0.6941 - val_loss: 1.2794\n",
            "Epoch 47/50\n",
            "70/70 [==============================] - ETA: 0s - loss: 0.6741\n",
            "Epoch 00047: val_loss did not improve from 1.26404\n",
            "70/70 [==============================] - 68s 978ms/step - loss: 0.6741 - val_loss: 1.2678\n",
            "Epoch 48/50\n",
            "70/70 [==============================] - ETA: 0s - loss: 0.6519\n",
            "Epoch 00048: val_loss did not improve from 1.26404\n",
            "70/70 [==============================] - 68s 977ms/step - loss: 0.6519 - val_loss: 1.2652\n",
            "Epoch 49/50\n",
            "70/70 [==============================] - ETA: 0s - loss: 0.6288\n",
            "Epoch 00049: val_loss improved from 1.26404 to 1.25813, saving model to /content/gdrive/My Drive/tfm/model_weights_v3_1.h5\n",
            "70/70 [==============================] - 70s 998ms/step - loss: 0.6288 - val_loss: 1.2581\n",
            "Epoch 50/50\n",
            "70/70 [==============================] - ETA: 0s - loss: 0.6074\n",
            "Epoch 00050: val_loss improved from 1.25813 to 1.25659, saving model to /content/gdrive/My Drive/tfm/model_weights_v3_1.h5\n",
            "70/70 [==============================] - 70s 1s/step - loss: 0.6074 - val_loss: 1.2566\n"
          ],
          "name": "stdout"
        },
        {
          "output_type": "execute_result",
          "data": {
            "text/plain": [
              "<tensorflow.python.keras.callbacks.History at 0x7fe04c16bfd0>"
            ]
          },
          "metadata": {
            "tags": []
          },
          "execution_count": 40
        }
      ]
    },
    {
      "cell_type": "markdown",
      "metadata": {
        "id": "7ndRnYDMP7TV",
        "colab_type": "text"
      },
      "source": [
        "###2.3.3 Modelo para inferencia"
      ]
    },
    {
      "cell_type": "code",
      "metadata": {
        "id": "HQxF5zRTassh",
        "colab_type": "code",
        "colab": {}
      },
      "source": [
        "#encoder_model_inference\n",
        "encoder_inf = Model(encoder_input, [encoder_output, state_h])"
      ],
      "execution_count": null,
      "outputs": []
    },
    {
      "cell_type": "code",
      "metadata": {
        "id": "Lb4YPHMuxF3F",
        "colab_type": "code",
        "colab": {}
      },
      "source": [
        "encoder_inf.save(\"/content/gdrive/My Drive/tfm/encoder_inf_model_v3_1.h5\")\n",
        "encoder_inf.save_weights(\"/content/gdrive/My Drive/tfm/encoder_inf_weights_v3_1.h5\")"
      ],
      "execution_count": null,
      "outputs": []
    },
    {
      "cell_type": "code",
      "metadata": {
        "id": "AbO5jjVSvk2x",
        "colab_type": "code",
        "colab": {
          "base_uri": "https://localhost:8080/",
          "height": 1000
        },
        "outputId": "89a0a980-b90d-4614-a68d-f594610ca85c"
      },
      "source": [
        "#decoder_model_inference 1\n",
        "decoder_inf_state_input_h = Input(shape=(nodes_lstm*2,), name=\"encoder_hidden_state\")\n",
        "encoder_output_input = Input(shape=(global_max_len, nodes_lstm*2))\n",
        "#decoder_inputs\n",
        "decoder_inf_input = Input(shape=(1,))\n",
        "decoder_inf_input_one = Embedding(en_vocab_size, 300,\\\n",
        "                        weights=[emb_en],mask_zero=True)(decoder_inf_input)\n",
        "\n",
        "#Attention Layer\n",
        "attention_layer = BahdanauAttention(nodes_lstm*2)\n",
        "context_vector, attention_weights = attention_layer(decoder_inf_state_input_h, encoder_output_input)#output del encoder y decoder\n",
        "context_vector = tf.keras.layers.RepeatVector(1)(context_vector)#repeat vector=longitud de secuencia objetivo \n",
        "\n",
        "#decoder\n",
        "decoder_emb_attention = tf.concat([context_vector, decoder_inf_input_one], axis=-1)\n",
        "decoder_inf_gru = GRU(nodes_lstm*2, return_sequences=True, return_state=True, unroll=True)\n",
        "decoder_inf, h_inf = decoder_gru(decoder_emb_attention, initial_state=decoder_inf_state_input_h)\n",
        "decoder_inf_state = h_inf\n",
        "\n",
        "decoder_inf_output = Dense(en_vocab_size, activation=\"softmax\")(decoder_inf)\n",
        "\n",
        "\n",
        "\n",
        "decoder_inf_model = Model([decoder_inf_input, encoder_output_input, decoder_inf_state_input_h],\\\n",
        "                          [decoder_inf_output, decoder_inf_state])\n",
        "decoder_inf_model.summary()\n",
        "\n",
        "plot_model(decoder_inf_model, to_file=\"/content/gdrive/My Drive/tfm/decoder_inf_model_v2.png\",\\\n",
        "           show_shapes=True, show_layer_names =True)\n",
        "\n"
      ],
      "execution_count": null,
      "outputs": [
        {
          "output_type": "stream",
          "text": [
            "WARNING:tensorflow:Layer gru will not use cuDNN kernel since it doesn't meet the cuDNN kernel criteria. It will use generic GPU kernel as fallback when running on GPU\n",
            "Model: \"model_2\"\n",
            "__________________________________________________________________________________________________\n",
            "Layer (type)                    Output Shape         Param #     Connected to                     \n",
            "==================================================================================================\n",
            "encoder_hidden_state (InputLaye [(None, 2048)]       0                                            \n",
            "__________________________________________________________________________________________________\n",
            "input_2 (InputLayer)            [(None, 17, 2048)]   0                                            \n",
            "__________________________________________________________________________________________________\n",
            "bahdanau_attention_1 (BahdanauA ((None, 2048), (None 8394753     encoder_hidden_state[0][0]       \n",
            "__________________________________________________________________________________________________\n",
            "input_3 (InputLayer)            [(None, 1)]          0                                            \n",
            "__________________________________________________________________________________________________\n",
            "repeat_vector_1 (RepeatVector)  (None, 1, 2048)      0           bahdanau_attention_1[0][0]       \n",
            "__________________________________________________________________________________________________\n",
            "embedding_2 (Embedding)         (None, 1, 300)       1614300     input_3[0][0]                    \n",
            "__________________________________________________________________________________________________\n",
            "tf_op_layer_concat_1 (TensorFlo [(None, 1, 2348)]    0           repeat_vector_1[0][0]            \n",
            "                                                                 embedding_2[0][0]                \n",
            "__________________________________________________________________________________________________\n",
            "decoder_lstm (GRU)              multiple             27021312    tf_op_layer_concat_1[0][0]       \n",
            "                                                                 encoder_hidden_state[0][0]       \n",
            "__________________________________________________________________________________________________\n",
            "dense_7 (Dense)                 (None, 1, 5381)      11025669    decoder_lstm[1][0]               \n",
            "==================================================================================================\n",
            "Total params: 48,056,034\n",
            "Trainable params: 48,056,034\n",
            "Non-trainable params: 0\n",
            "__________________________________________________________________________________________________\n"
          ],
          "name": "stdout"
        },
        {
          "output_type": "execute_result",
          "data": {
            "image/png": "[encoded data removed]",
            "text/plain": [
              "<IPython.core.display.Image object>"
            ]
          },
          "metadata": {
            "tags": []
          },
          "execution_count": 29
        }
      ]
    },
    {
      "cell_type": "code",
      "metadata": {
        "id": "kpG8VpVexKCC",
        "colab_type": "code",
        "colab": {}
      },
      "source": [
        "#decoder_inf_model.save(\"/content/gdrive/My Drive/tfm/decoder_inf_model_v3_1.h5\")\n",
        "decoder_inf_model.save_weights(\"/content/gdrive/My Drive/tfm/decoder_inf_weights_v3_1.h5\")"
      ],
      "execution_count": null,
      "outputs": []
    },
    {
      "cell_type": "markdown",
      "metadata": {
        "id": "4m0nHbThjlZB",
        "colab_type": "text"
      },
      "source": [
        "###2.3.4 Loop para inferencia"
      ]
    },
    {
      "cell_type": "code",
      "metadata": {
        "id": "KYrTpbNPtkd7",
        "colab_type": "code",
        "colab": {}
      },
      "source": [
        "#diccionario inverso integer-palabra\n",
        "decoding_dict = {v:k for k, v in en_tokenizer_lang.word_index.items()}"
      ],
      "execution_count": null,
      "outputs": []
    },
    {
      "cell_type": "code",
      "metadata": {
        "id": "aBvuBZ9GlXds",
        "colab_type": "code",
        "colab": {}
      },
      "source": [
        "decode_zh = {v:k for k, v in zh_tokenizer_lang.word_index.items()}\n",
        "decode_en = {v:k for k, v in en_tokenizer_lang.word_index.items()}"
      ],
      "execution_count": null,
      "outputs": []
    },
    {
      "cell_type": "code",
      "metadata": {
        "id": "mPO6egU9iuqp",
        "colab_type": "code",
        "colab": {}
      },
      "source": [
        "def translate_sentence(input_sentence, target_tokenizer, decoding_dict, output_max_len):\n",
        "    encoder_output, states_value = encoder_inf.predict(input_sentence)\n",
        "    \n",
        "    target_sequence = np.zeros((1,1))\n",
        "    target_sequence[0,0]=target_tokenizer.word_index.get(\"start\")\n",
        "    end_of_sequence = target_tokenizer.word_index.get(\"end\")\n",
        "\n",
        "    translated_sentence = []\n",
        "    \n",
        "    for i in range(output_max_len):\n",
        "        output_token, decoder_states = decoder_inf_model.predict([target_sequence,\\\n",
        "                                                                  encoder_output, states_value])\n",
        "        id_word = np.argmax(output_token[0,-1,:])\n",
        "\n",
        "        if id_word == end_of_sequence or input_sentence[0][i] == 0:#esta ultima condicion esta mal\n",
        "            break\n",
        "\n",
        "        decoded_word = \"\"\n",
        "\n",
        "        if id_word > 0:\n",
        "            decoded_word = decoding_dict[id_word]\n",
        "            translated_sentence.append(decoded_word)\n",
        "        \n",
        "        target_sequence[0,0] = id_word\n",
        "        states_value = decoder_states\n",
        "\n",
        "    \n",
        "    return \" \".join(translated_sentence)\n"
      ],
      "execution_count": null,
      "outputs": []
    },
    {
      "cell_type": "code",
      "metadata": {
        "id": "GtFgokFQ2tTZ",
        "colab_type": "code",
        "colab": {
          "base_uri": "https://localhost:8080/",
          "height": 34
        },
        "outputId": "b1848cb7-7524-418a-d388-d0505a108877"
      },
      "source": [
        "#Prueba \n",
        "sentence = zh_train[0:1]\n",
        "tr =translate_sentence(sentence, en_tokenizer_lang, decoding_dict=decoding_dict,\\\n",
        "                       output_max_len=global_max_len)\n",
        "print(tr)"
      ],
      "execution_count": null,
      "outputs": [
        {
          "output_type": "stream",
          "text": [
            "service failure nobel drunken drunken under under become\n"
          ],
          "name": "stdout"
        }
      ]
    },
    {
      "cell_type": "code",
      "metadata": {
        "id": "0WGAbpy5JSQn",
        "colab_type": "code",
        "colab": {}
      },
      "source": [
        "def translate_corpus(corpus, tokenizer, decoding_dict, output_max_len):\n",
        "    corpus_list = list()\n",
        "    for i in range(0, len(corpus)):\n",
        "        line = translate_sentence(corpus[i:i+1], tokenizer, decoding_dict, output_max_len)\n",
        "        corpus_list.append(line)\n",
        "    return corpus_list"
      ],
      "execution_count": null,
      "outputs": []
    },
    {
      "cell_type": "markdown",
      "metadata": {
        "id": "7CPg3eCigGzI",
        "colab_type": "text"
      },
      "source": [
        "###2.3.5 Evaluación modelo"
      ]
    },
    {
      "cell_type": "code",
      "metadata": {
        "id": "rO3PYAFmmjXh",
        "colab_type": "code",
        "colab": {}
      },
      "source": [
        "decode_zh = {v:k for k, v in zh_tokenizer_lang.word_index.items()}\n",
        "decode_en = {v:k for k, v in en_tokenizer_lang.word_index.items()}\n",
        "\n",
        "decode_zh.update({0:\"0\"})\n",
        "decode_en.update({0:\"0\"})\n",
        "\n",
        "def decode_source(sentence):\n",
        "    sent = np.ndarray.tolist(sentence)\n",
        "    words = [decode_zh.get(letter) for letter in sent]\n",
        "    my_texts = ([\"\".join(words[i]) for i in range(len(words))])\n",
        "    texto = [i for i in my_texts if i!=\"0\"]\n",
        "    return texto    \n",
        "\n",
        "def decode_target(sentence):\n",
        "    sent = np.ndarray.tolist(sentence)\n",
        "    words = [decode_en.get(letter) for letter in sent]\n",
        "    my_texts = ([\"\".join(words[i]) for i in range(len(words))])\n",
        "    texto = [i for i in my_texts if i!=\"0\"]\n",
        "    return texto\n"
      ],
      "execution_count": null,
      "outputs": []
    },
    {
      "cell_type": "code",
      "metadata": {
        "id": "QnW0hBGYMDdc",
        "colab_type": "code",
        "colab": {}
      },
      "source": [
        "#tokenizer = en_tokenizer_lang\n",
        "#output_max_len = global_max_len\n",
        "#decoding_dict = decode_zh\n",
        "def evaluar_modelo(source_corpus, target_corpus):\n",
        "    original = source_corpus #formato: lista de frases que son listas de token\n",
        "    actual = [decode_target(target_corpus[i]) for i in range(len(target_corpus))] #formato: lista de frases que son listas de tokens\n",
        "    predicted = translate_corpus(source_corpus, en_tokenizer_lang,\\\n",
        "                                 decoding_dict=decode_en, output_max_len=global_max_len)\n",
        "    \n",
        "    print('BLEU-1: %f' % corpus_bleu(actual, predicted, weights=(1.0, 0, 0, 0)))\n",
        "    print('BLEU-2: %f' % corpus_bleu(actual, predicted, weights=(0.5, 0.5, 0, 0)))\n",
        "    print('BLEU-3: %f' % corpus_bleu(actual, predicted, weights=(0.3, 0.3, 0.3, 0)))\n",
        "    print('BLEU-4: %f' % corpus_bleu(actual, predicted, weights=(0.25, 0.25, 0.25, 0.25)))"
      ],
      "execution_count": null,
      "outputs": []
    },
    {
      "cell_type": "code",
      "metadata": {
        "id": "HEIrMXt4Ouil",
        "colab_type": "code",
        "colab": {
          "base_uri": "https://localhost:8080/",
          "height": 85
        },
        "outputId": "6001322f-c3c4-43af-d335-a51c5e708319"
      },
      "source": [
        "c = zh_test[0:1000]\n",
        "p = en_test[0:1000]\n",
        "evaluacion = evaluar_modelo(c, p)"
      ],
      "execution_count": null,
      "outputs": [
        {
          "output_type": "stream",
          "text": [
            "BLEU-1: 0.283119\n",
            "BLEU-2: 0.151314\n",
            "BLEU-3: 0.078178\n",
            "BLEU-4: 0.023579\n"
          ],
          "name": "stdout"
        }
      ]
    },
    {
      "cell_type": "code",
      "metadata": {
        "id": "en-8k6HC8uPp",
        "colab_type": "code",
        "colab": {
          "base_uri": "https://localhost:8080/",
          "height": 85
        },
        "outputId": "e85241d1-d039-4b5a-de07-f1340d33f7c8"
      },
      "source": [
        "a = zh_train[0:1000]\n",
        "b = en_train[0:1000]\n",
        "evaluacion = evaluar_modelo(a, b)"
      ],
      "execution_count": null,
      "outputs": [
        {
          "output_type": "stream",
          "text": [
            "BLEU-1: 0.279660\n",
            "BLEU-2: 0.152872\n",
            "BLEU-3: 0.083379\n",
            "BLEU-4: 0.026288\n"
          ],
          "name": "stdout"
        }
      ]
    },
    {
      "cell_type": "markdown",
      "metadata": {
        "id": "slJJ3LkZSsdh",
        "colab_type": "text"
      },
      "source": [
        "#3) OCR texto en chino"
      ]
    },
    {
      "cell_type": "code",
      "metadata": {
        "id": "zPusNkvaPTBY",
        "colab_type": "code",
        "colab": {}
      },
      "source": [
        "! apt install tesseract-ocr\n",
        "! apt install libtesseract-dev"
      ],
      "execution_count": null,
      "outputs": []
    },
    {
      "cell_type": "code",
      "metadata": {
        "id": "61QX1vzILctA",
        "colab_type": "code",
        "colab": {}
      },
      "source": [
        "pip install pytesseract"
      ],
      "execution_count": null,
      "outputs": []
    },
    {
      "cell_type": "code",
      "metadata": {
        "id": "ovBwnNPPUkJa",
        "colab_type": "code",
        "colab": {}
      },
      "source": [
        "import shutil"
      ],
      "execution_count": null,
      "outputs": []
    },
    {
      "cell_type": "code",
      "metadata": {
        "id": "s0FjUz-ySzo0",
        "colab_type": "code",
        "colab": {}
      },
      "source": [
        "#Archivos preentrenados de chino tradicional y simplificado para tesseract\n",
        "zh_sim_file = \"/content/gdrive/My Drive/tfm/chi_sim_vert.traineddata\"\n",
        "zh_tra_file = \"/content/gdrive/My Drive/tfm/chi_tra_vert.traineddata\"\n",
        "shutil.copy(zh_sim_file, \"/usr/share/tesseract-ocr/4.00/tessdata\")\n",
        "shutil.copy(zh_tra_file, \"/usr/share/tesseract-ocr/4.00/tessdata\")"
      ],
      "execution_count": null,
      "outputs": []
    },
    {
      "cell_type": "markdown",
      "metadata": {
        "id": "4Ashmr46kITW",
        "colab_type": "text"
      },
      "source": [
        "##3.1 Importar imagen como string"
      ]
    },
    {
      "cell_type": "code",
      "metadata": {
        "id": "y6du3o3yLGYU",
        "colab_type": "code",
        "colab": {}
      },
      "source": [
        "from PIL import Image\n",
        "from pytesseract import image_to_string"
      ],
      "execution_count": null,
      "outputs": []
    },
    {
      "cell_type": "markdown",
      "metadata": {
        "id": "xbWHW_-YkQDB",
        "colab_type": "text"
      },
      "source": [
        "La imagen se importa con cada caracter separado. Esto dificulta la tokenizacion\n",
        "\n",
        "Preprocesado:\n",
        "1)Eliminar todos los espacios\n",
        "2)Aplicar funcion inicial de preprocesado para separar por frases y tokenizar por palabras"
      ]
    },
    {
      "cell_type": "code",
      "metadata": {
        "colab_type": "code",
        "id": "zz97j69r4Pku",
        "colab": {}
      },
      "source": [
        "#Funciones de pre procesado\n",
        "def from_image_to_text(image):\n",
        "    im = Image.open(image)\n",
        "    text_im = image_to_string((im), lang='chi_sim_vert+chi_tra_vert')\n",
        "\n",
        "    text = re.sub(\" \", \"\", text_im) #Eliminamos espacios para poder aplicar nuestro preprocesado\n",
        "    return text"
      ],
      "execution_count": null,
      "outputs": []
    },
    {
      "cell_type": "markdown",
      "metadata": {
        "id": "-XS1lJ37yhIA",
        "colab_type": "text"
      },
      "source": [
        "##3.2 Traducir contenido de la imagen"
      ]
    },
    {
      "cell_type": "code",
      "metadata": {
        "id": "1Q6H6AkEy3NZ",
        "colab_type": "code",
        "colab": {}
      },
      "source": [
        "def translate_image(image_data, decoding_dictionary, max_features=1000):\n",
        "\n",
        "    max_len_str = max_len(image_data)\n",
        "    tokenizer_lang, word_matrix = tokenizer(image_data, max_len=max_len_str, max_features=max_features)\n",
        "\n",
        "    image_translation = translate_corpus(word_matrix, tokenizer_lang,\\\n",
        "                        decoding_dictionary, output_max_len=max_len_str )\n",
        "\n",
        "    return image_translation"
      ],
      "execution_count": null,
      "outputs": []
    },
    {
      "cell_type": "code",
      "metadata": {
        "id": "V-Oe3VXbw8E_",
        "colab_type": "code",
        "colab": {}
      },
      "source": [
        "imagen_prueba = \"/content/gdrive/My Drive/tfm/img_prueba.png\""
      ],
      "execution_count": null,
      "outputs": []
    },
    {
      "cell_type": "code",
      "metadata": {
        "id": "gSXN9xGX5Aoh",
        "colab_type": "code",
        "colab": {}
      },
      "source": [
        "#Prueba\n",
        "texto_imagen = from_image_to_text(imagen_prueba)\n",
        "traducción = translate_image(texto_imagen, decode_en)"
      ],
      "execution_count": null,
      "outputs": []
    }
  ]
}