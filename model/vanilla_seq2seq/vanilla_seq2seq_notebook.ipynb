{
  "nbformat": 4,
  "nbformat_minor": 0,
  "metadata": {
    "colab": {
      "name": "vanilla_seq2seq_notebook.ipynb",
      "provenance": [],
      "toc_visible": true,
      "authorship_tag": "ABX9TyOWNqiPURHBfJcMMN35z7cP",
      "include_colab_link": true
    },
    "kernelspec": {
      "name": "python3",
      "display_name": "Python 3"
    },
    "accelerator": "GPU"
  },
  "cells": [
    {
      "cell_type": "markdown",
      "metadata": {
        "id": "view-in-github",
        "colab_type": "text"
      },
      "source": [
        "<a href=\"https://colab.research.google.com/github/IpastorSan/seq2seq-with-attention-OCR-translation/blob/fix_inference/model/vanilla_seq2seq/vanilla_seq2seq_notebook.ipynb\" target=\"_parent\"><img src=\"https://colab.research.google.com/assets/colab-badge.svg\" alt=\"Open In Colab\"/></a>"
      ]
    },
    {
      "cell_type": "code",
      "metadata": {
        "id": "OpQh1Af3JigD",
        "colab_type": "code",
        "colab": {
          "base_uri": "https://localhost:8080/",
          "height": 55
        },
        "outputId": "0ca7a141-dcb1-4ed4-bad8-2d406d4b37da"
      },
      "source": [
        "from google.colab import drive\n",
        "drive.mount(\"/content/gdrive\")"
      ],
      "execution_count": 1,
      "outputs": [
        {
          "output_type": "stream",
          "text": [
            "Drive already mounted at /content/gdrive; to attempt to forcibly remount, call drive.mount(\"/content/gdrive\", force_remount=True).\n"
          ],
          "name": "stdout"
        }
      ]
    },
    {
      "cell_type": "markdown",
      "metadata": {
        "id": "6pYVrTCkLTDc",
        "colab_type": "text"
      },
      "source": [
        "#1)Relevant Imports"
      ]
    },
    {
      "cell_type": "code",
      "metadata": {
        "id": "_Rt1AnZxJcwT",
        "colab_type": "code",
        "colab": {}
      },
      "source": [
        "import numpy as np\n",
        "import tensorflow as tf\n",
        "from tensorflow.keras.models import Model\n",
        "from tensorflow.keras.utils import plot_model\n",
        "from tensorflow.keras.layers import GRU, LSTM, Input, Dense, Embedding, Bidirectional, Concatenate\n",
        "from tensorflow.keras.callbacks import ModelCheckpoint\n",
        "from tensorflow.keras.optimizers import RMSprop\n",
        "from tensorflow.keras.preprocessing.text import Tokenizer\n",
        "from sklearn.model_selection import train_test_split\n",
        "from gensim.models import Word2Vec, KeyedVectors\n",
        "from nltk.translate.bleu_score import corpus_bleu\n",
        "import pandas as pd\n",
        "import matplotlib.pyplot as plt\n",
        "import os, datetime"
      ],
      "execution_count": 2,
      "outputs": []
    },
    {
      "cell_type": "code",
      "metadata": {
        "id": "HlH_kaqao1MI",
        "colab_type": "code",
        "colab": {}
      },
      "source": [
        "# Load the TensorBoard notebook extension\n",
        "%load_ext tensorboard"
      ],
      "execution_count": 3,
      "outputs": []
    },
    {
      "cell_type": "code",
      "metadata": {
        "id": "DpxXjopzJsGu",
        "colab_type": "code",
        "colab": {}
      },
      "source": [
        "######Data Preparation#######\n",
        "\n",
        "def open_data(dataset, num_examples=None):\n",
        "    with open(dataset) as archivo:\n",
        "        datos = [line.rstrip('\\n') for line in archivo]\n",
        "        corpus = datos[:num_examples]\n",
        "\n",
        "    return corpus\n",
        "\n",
        "\n",
        "# Corpus. Adapt the path to your directory\n",
        "num_examples = 20000\n",
        "corpus_zh = open_data(\"/content/gdrive/My Drive/tfm/dataset_zh.txt\", num_examples=num_examples)\n",
        "corpus_en = open_data(\"/content/gdrive/My Drive/tfm/dataset_en.txt\", num_examples=num_examples)\n"
      ],
      "execution_count": 4,
      "outputs": []
    },
    {
      "cell_type": "markdown",
      "metadata": {
        "id": "USHgDtg7LlCs",
        "colab_type": "text"
      },
      "source": [
        "#2)Maximum length, Tokenizer, Pretrained, embeddings and batch generator"
      ]
    },
    {
      "cell_type": "markdown",
      "metadata": {
        "id": "9GemLVtJL0wS",
        "colab_type": "text"
      },
      "source": [
        "##2.1)max len"
      ]
    },
    {
      "cell_type": "code",
      "metadata": {
        "id": "SDaZZCJxJxpL",
        "colab_type": "code",
        "colab": {}
      },
      "source": [
        "def max_len(data):\n",
        "    return max(len(line.split()) for line in data)\n",
        "\n",
        "# Set max len\n",
        "zh_max_len = max_len(corpus_zh)\n",
        "en_max_len = max_len(corpus_en)\n",
        "global_max_len = max(en_max_len, zh_max_len)  #This helps us when training the model, setting all lengths to the maximum"
      ],
      "execution_count": 5,
      "outputs": []
    },
    {
      "cell_type": "markdown",
      "metadata": {
        "id": "vNChBLNIL3x2",
        "colab_type": "text"
      },
      "source": [
        "##2.2 Tokenizer"
      ]
    },
    {
      "cell_type": "code",
      "metadata": {
        "id": "XNC-wyTdJ_6H",
        "colab_type": "code",
        "colab": {}
      },
      "source": [
        "def tokenizer(dataset, max_len, max_features, language=\"en\"):\n",
        "    tokenizer_lang = Tokenizer(num_words=max_features, filters=\"\")\n",
        "\n",
        "    tokenizer_lang.fit_on_texts(dataset)\n",
        "\n",
        "    word_tensor = tokenizer_lang.texts_to_sequences(dataset)\n",
        "    word_tensor = tf.keras.preprocessing.sequence.pad_sequences(word_tensor,maxlen=max_len, padding=\"post\")\n",
        "\n",
        "    return tokenizer_lang, word_tensor  #dictionary with tokenized words/sequences translated to numbers\n",
        "\n",
        "# Tokenizacion. We obtain tokenizer and sequences\n",
        "zh_tokenizer_lang, zh_word_tensor = tokenizer(corpus_zh, global_max_len, max_features=5381)\n",
        "en_tokenizer_lang, en_word_tensor = tokenizer(corpus_en, global_max_len, max_features=5381)"
      ],
      "execution_count": 6,
      "outputs": []
    },
    {
      "cell_type": "code",
      "metadata": {
        "id": "qk6mG-wtKAAc",
        "colab_type": "code",
        "colab": {}
      },
      "source": [
        "# Length of each set of vocabulary\n",
        "zh_vocab_size = len(zh_tokenizer_lang.word_index)\n",
        "en_vocab_size = len(en_tokenizer_lang.word_index)"
      ],
      "execution_count": 7,
      "outputs": []
    },
    {
      "cell_type": "markdown",
      "metadata": {
        "id": "zC4QL5MgL6NA",
        "colab_type": "text"
      },
      "source": [
        "##2.3 Embeddings"
      ]
    },
    {
      "cell_type": "code",
      "metadata": {
        "id": "4YDeJQLhKIlD",
        "colab_type": "code",
        "colab": {}
      },
      "source": [
        "#Preparation of embedding files.\n",
        "#Source Chinese Embedding: https://github.com/Kyubyong/wordvectors\n",
        "#Source English Embedding: https://fasttext.cc/docs/en/english-vectors.html\n",
        "#All embeddings come from word2vec models\n",
        "\n",
        "embedding_file_en = \"/content/gdrive/My Drive/tfm/en.bin\"\n",
        "embedding_file_zh = \"/content/gdrive/My Drive/tfm/zh.bin\"\n",
        "\n",
        "\n",
        "def from_w2v_to_dict(embedding_file, lang=\"zh\"):\n",
        "    if lang == \"en\":\n",
        "        model = KeyedVectors.load_word2vec_format(embedding_file, binary=True)\n",
        "    else:\n",
        "        model = Word2Vec.load(embedding_file)\n",
        "\n",
        "    vector = model.wv.vectors\n",
        "    words = model.wv.index2word\n",
        "    union_embeddings = dict(zip(words, vector))\n",
        "    return union_embeddings"
      ],
      "execution_count": 9,
      "outputs": []
    },
    {
      "cell_type": "code",
      "metadata": {
        "id": "4Nl-GuUIKNIp",
        "colab_type": "code",
        "colab": {
          "base_uri": "https://localhost:8080/",
          "height": 128
        },
        "outputId": "fd745717-a652-4eb8-99cb-b305b91df611"
      },
      "source": [
        "embedding_zh = from_w2v_to_dict(embedding_file_zh)\n",
        "embedding_en = from_w2v_to_dict(embedding_file_en, lang=\"en\")"
      ],
      "execution_count": 10,
      "outputs": [
        {
          "output_type": "stream",
          "text": [
            "/usr/local/lib/python3.6/dist-packages/smart_open/smart_open_lib.py:254: UserWarning: This function is deprecated, use smart_open.open instead. See the migration notes for details: https://github.com/RaRe-Technologies/smart_open/blob/master/README.rst#migrating-to-the-new-open-function\n",
            "  'See the migration notes for details: %s' % _MIGRATION_NOTES_URL\n",
            "/usr/local/lib/python3.6/dist-packages/ipykernel_launcher.py:16: DeprecationWarning: Call to deprecated `wv` (Attribute will be removed in 4.0.0, use self instead).\n",
            "  app.launch_new_instance()\n",
            "/usr/local/lib/python3.6/dist-packages/ipykernel_launcher.py:17: DeprecationWarning: Call to deprecated `wv` (Attribute will be removed in 4.0.0, use self instead).\n"
          ],
          "name": "stderr"
        }
      ]
    },
    {
      "cell_type": "code",
      "metadata": {
        "id": "39KWWLRRKO6-",
        "colab_type": "code",
        "colab": {}
      },
      "source": [
        "#Extract embedding weights to input into Keras Embedding Layer. Words not found in the embedding\n",
        "#will be substitued with a random vector with normal distribution with mean=embedding mean and std=embedding std\n",
        "\n",
        "\n",
        "def get_embedding_weights(embedd_dict, tokenizer_index, max_features=1000):\n",
        "    embed = list(embedd_dict.values())\n",
        "\n",
        "    all_embs = np.stack(embed)\n",
        "    emb_mean, emb_std = all_embs.mean(), all_embs.std()\n",
        "    embed_size = all_embs.shape[1]  # probar\n",
        "\n",
        "    word_index = tokenizer_index.word_index\n",
        "    nb_words = len(word_index)\n",
        "\n",
        "    embedding_matrix = np.random.normal(emb_mean, emb_std, \\\n",
        "                                        size=(nb_words, embed_size))\n",
        "\n",
        "    for word, i in word_index.items():\n",
        "        if i >= max_features:\n",
        "            continue\n",
        "        embedding_vector = np.array(embedd_dict.get(word))\n",
        "        if embedding_vector.size is not 1:\n",
        "            embedding_matrix[i] = embedding_vector\n",
        "\n",
        "    return embedding_matrix"
      ],
      "execution_count": 11,
      "outputs": []
    },
    {
      "cell_type": "code",
      "metadata": {
        "id": "2n1dowApKTLz",
        "colab_type": "code",
        "colab": {}
      },
      "source": [
        "emb_zh = get_embedding_weights(embedding_zh, zh_tokenizer_lang, max_features=zh_vocab_size)\n",
        "emb_en = get_embedding_weights(embedding_en, en_tokenizer_lang, max_features=en_vocab_size)"
      ],
      "execution_count": 46,
      "outputs": []
    },
    {
      "cell_type": "markdown",
      "metadata": {
        "id": "fP9_Cj9qL9UA",
        "colab_type": "text"
      },
      "source": [
        "##2.4 Batch Generator"
      ]
    },
    {
      "cell_type": "code",
      "metadata": {
        "colab_type": "code",
        "id": "kq1jJywPECpE",
        "colab": {}
      },
      "source": [
        "########Batch Generator for training. We also implement teacher forcing here######\n",
        "#252 is hardcoded here, is intended to be the batch size of the generator\n",
        "def generate_batch():\n",
        "    while True:\n",
        "        for j in range(0, len(zh_word_tensor)):\n",
        "            encoder_input_data = np.zeros((global_max_len), dtype='float32')\n",
        "            decoder_input_data = np.zeros((global_max_len), dtype='float32')\n",
        "            decoder_target_data = np.zeros((global_max_len, en_vocab_size), dtype='float32')\n",
        "            for i, (input_text, target_text) in enumerate(zip(zh_word_tensor[j:j+1],en_word_tensor[j:j+1])):\n",
        "                for t, word in enumerate(input_text):\n",
        "                  encoder_input_data[t] = word  # encoder input seq\n",
        "                for t, word in enumerate(target_text):\n",
        "                    if t < len(target_text) - 1:\n",
        "                       decoder_input_data[t] = word  # decoder input seq\n",
        "                    if t > 0:\n",
        "                        # decoder target sequence (one hot encoded)\n",
        "                        # does not include the \"start\" token and is offset by one timestep\n",
        "                        decoder_target_data[t - 1, word] = 1  # si el vector es (1, 2, 4) ese 4 es 0001\n",
        "            yield ((encoder_input_data, decoder_input_data), decoder_target_data)\n",
        "\n",
        "types = ((tf.float32,\\\n",
        "         tf.float32),\\\n",
        "         tf.float32)           \n",
        "shapes=((tf.TensorShape([global_max_len]),tf.TensorShape([global_max_len])),\n",
        "        tf.TensorShape([None,en_vocab_size,]))\n",
        "dataset = tf.data.Dataset.from_generator(generate_batch, types, shapes)"
      ],
      "execution_count": 13,
      "outputs": []
    },
    {
      "cell_type": "code",
      "metadata": {
        "id": "qzL2tgVxBnP4",
        "colab_type": "code",
        "colab": {}
      },
      "source": [
        "batch_size = 256\n",
        "train=int(len(en_word_tensor)*0.8)\n",
        "test=int(len(en_word_tensor)*0.2)\n",
        "dataset=dataset.shuffle(1000, reshuffle_each_iteration=False)\n",
        "dataset_train = dataset.skip(test).batch(batch_size, drop_remainder=True)\n",
        "dataset_test = dataset.take(test).batch(batch_size, drop_remainder=True)"
      ],
      "execution_count": 14,
      "outputs": []
    },
    {
      "cell_type": "markdown",
      "metadata": {
        "id": "BDSuN4_mMAUt",
        "colab_type": "text"
      },
      "source": [
        "#3) Encoder-Decoder for training"
      ]
    },
    {
      "cell_type": "code",
      "metadata": {
        "id": "TgqpryB1KZWx",
        "colab_type": "code",
        "colab": {
          "base_uri": "https://localhost:8080/",
          "height": 970
        },
        "outputId": "3fc28e4f-95fd-428d-f25e-f8c4ab8f1fea"
      },
      "source": [
        "###########Model for training. GRU units, without Attention#########\n",
        "\n",
        "#Model seq2seq\n",
        "nodes = 1024\n",
        "learning_rate = 0.01 \n",
        "clip_value = 1\n",
        "\n",
        "# encoder-Chinese\n",
        "encoder_input = Input(shape=(global_max_len,))\n",
        "#mask_zero=True allows for the padding 0 at the end of the sequence to be ignored\n",
        "encoder_embedding = Embedding(input_dim=zh_vocab_size, output_dim=300, weights=[emb_zh], mask_zero=True)(encoder_input)\n",
        "encoder_gru = GRU(nodes, return_state=True, unroll = True, name=\"encoder_gru\")\n",
        "encoder_output, state_h= encoder_gru(encoder_embedding)\n",
        "\n",
        "\n",
        "\n",
        "# decoder-English\n",
        "decoder_input = Input(shape=(global_max_len,), name=\"decoder_input\")\n",
        "decoder_emb = Embedding(en_vocab_size, 300, weights=[emb_en], mask_zero=True)(decoder_input)\n",
        "\n",
        "\n",
        "decoder_gru = GRU(nodes, return_sequences=True, unroll= True, return_state=True, name=\"decoder_gru\")\n",
        "\n",
        "decoder_output, _ = decoder_gru(decoder_emb, initial_state=state_h)\n",
        "\n",
        "#Decoder Output\n",
        "decoder_dense_output = Dense(en_vocab_size, activation=\"softmax\")(decoder_output)\n",
        "\n",
        "model = Model(inputs=[encoder_input, decoder_input], outputs=[decoder_dense_output])\n",
        "\n",
        "# compile model\n",
        "model.compile(optimizer=RMSprop(learning_rate=learning_rate, clipvalue=clip_value),\\\n",
        "              loss=\"categorical_crossentropy\", metrics=[\"accuracy\"])\n",
        "# Summarize compiled model\n",
        "model.summary()\n",
        "plot_model(model, to_file=\"/content/gdrive/My Drive/tfm/model_v1.png\", show_shapes=True)"
      ],
      "execution_count": 18,
      "outputs": [
        {
          "output_type": "stream",
          "text": [
            "WARNING:tensorflow:Layer encoder_gru will not use cuDNN kernel since it doesn't meet the cuDNN kernel criteria. It will use generic GPU kernel as fallback when running on GPU\n",
            "WARNING:tensorflow:Layer decoder_gru will not use cuDNN kernel since it doesn't meet the cuDNN kernel criteria. It will use generic GPU kernel as fallback when running on GPU\n",
            "Model: \"functional_3\"\n",
            "__________________________________________________________________________________________________\n",
            "Layer (type)                    Output Shape         Param #     Connected to                     \n",
            "==================================================================================================\n",
            "input_2 (InputLayer)            [(None, 17)]         0                                            \n",
            "__________________________________________________________________________________________________\n",
            "decoder_input (InputLayer)      [(None, 17)]         0                                            \n",
            "__________________________________________________________________________________________________\n",
            "embedding_2 (Embedding)         (None, 17, 300)      3168600     input_2[0][0]                    \n",
            "__________________________________________________________________________________________________\n",
            "embedding_3 (Embedding)         (None, 17, 300)      1614300     decoder_input[0][0]              \n",
            "__________________________________________________________________________________________________\n",
            "encoder_gru (GRU)               [(None, 1024), (None 4073472     embedding_2[0][0]                \n",
            "__________________________________________________________________________________________________\n",
            "decoder_gru (GRU)               [(None, 17, 1024), ( 4073472     embedding_3[0][0]                \n",
            "                                                                 encoder_gru[0][1]                \n",
            "__________________________________________________________________________________________________\n",
            "dense_1 (Dense)                 (None, 17, 5381)     5515525     decoder_gru[0][0]                \n",
            "==================================================================================================\n",
            "Total params: 18,445,369\n",
            "Trainable params: 18,445,369\n",
            "Non-trainable params: 0\n",
            "__________________________________________________________________________________________________\n"
          ],
          "name": "stdout"
        },
        {
          "output_type": "execute_result",
          "data": {
            "image/png": "[encoded data removed]",
            "text/plain": [
              "<IPython.core.display.Image object>"
            ]
          },
          "metadata": {
            "tags": []
          },
          "execution_count": 18
        }
      ]
    },
    {
      "cell_type": "code",
      "metadata": {
        "id": "VLTIVD8lo8iE",
        "colab_type": "code",
        "colab": {
          "base_uri": "https://localhost:8080/",
          "height": 839
        },
        "outputId": "63882739-e894-4f9b-a24d-e62dffe48658"
      },
      "source": [
        "%tensorboard --logdir logs"
      ],
      "execution_count": 16,
      "outputs": [
        {
          "output_type": "display_data",
          "data": {
            "text/plain": [
              "Reusing TensorBoard on port 6006 (pid 652), started 0:45:43 ago. (Use '!kill 652' to kill it.)"
            ]
          },
          "metadata": {
            "tags": []
          }
        },
        {
          "output_type": "display_data",
          "data": {
            "application/javascript": [
              "\n",
              "        (async () => {\n",
              "            const url = await google.colab.kernel.proxyPort(6006, {\"cache\": true});\n",
              "            const iframe = document.createElement('iframe');\n",
              "            iframe.src = url;\n",
              "            iframe.setAttribute('width', '100%');\n",
              "            iframe.setAttribute('height', '800');\n",
              "            iframe.setAttribute('frameborder', 0);\n",
              "            document.body.appendChild(iframe);\n",
              "        })();\n",
              "    "
            ],
            "text/plain": [
              "<IPython.core.display.Javascript object>"
            ]
          },
          "metadata": {
            "tags": []
          }
        }
      ]
    },
    {
      "cell_type": "code",
      "metadata": {
        "id": "AAoBnHs6K5LS",
        "colab_type": "code",
        "colab": {
          "base_uri": "https://localhost:8080/",
          "height": 1000
        },
        "outputId": "55295281-876d-4ea0-91c9-3e8e87708467"
      },
      "source": [
        "# fit model\n",
        "\n",
        "epochs = 100\n",
        "#batch_size=256\n",
        "checkpoint = ModelCheckpoint(\"/content/gdrive/My Drive/tfm/model_weights_v1.h5\", monitor=\"val_loss\",\\\n",
        "                             verbose=1, save_best_only=True , mode=\"min\", save_weights_only=True)\n",
        "\n",
        "lr_scheduler = tf.keras.callbacks.ReduceLROnPlateau(monitor=\"val_loss\", factor=0.1, patience=3)\n",
        "\n",
        "early_stopping = tf.keras.callbacks.EarlyStopping(monitor=\"val_loss\", patience=10)\n",
        "\n",
        "logdir = os.path.join(\"logs\", datetime.datetime.now().strftime(\"%Y%m%d-%H%M%S\"))\n",
        "\n",
        "tensorboard_callback = tf.keras.callbacks.TensorBoard(logdir, histogram_freq=1)\n",
        "\n",
        "\n",
        "history = model.fit(dataset_train, \\\n",
        "          epochs=epochs,\n",
        "          steps_per_epoch= (len(zh_word_tensor)*0.8)//batch_size,\n",
        "          validation_data=dataset_test,\n",
        "          validation_steps=(len(zh_word_tensor)*0.2)//batch_size,\n",
        "          verbose=1, \\\n",
        "          callbacks=[checkpoint, lr_scheduler, early_stopping, tensorboard_callback], )\n",
        "\n",
        "model.save(\"/content/gdrive/My Drive/tfm/model_complete_v1.h5\")\n"
      ],
      "execution_count": 19,
      "outputs": [
        {
          "output_type": "stream",
          "text": [
            "Epoch 1/100\n",
            "62/62 [==============================] - ETA: 0s - loss: 5.0027 - accuracy: 0.2642\n",
            "Epoch 00001: val_loss improved from inf to 1.37709, saving model to /content/gdrive/My Drive/tfm/model_weights_v1.h5\n",
            "62/62 [==============================] - 44s 707ms/step - loss: 5.0027 - accuracy: 0.2642 - val_loss: 1.3771 - val_accuracy: 0.4890\n",
            "Epoch 2/100\n",
            "62/62 [==============================] - ETA: 0s - loss: 1.5570 - accuracy: 0.5010\n",
            "Epoch 00002: val_loss improved from 1.37709 to 1.02308, saving model to /content/gdrive/My Drive/tfm/model_weights_v1.h5\n",
            "62/62 [==============================] - 42s 682ms/step - loss: 1.5570 - accuracy: 0.5010 - val_loss: 1.0231 - val_accuracy: 0.5405\n",
            "Epoch 3/100\n",
            "62/62 [==============================] - ETA: 0s - loss: 1.2072 - accuracy: 0.5750\n",
            "Epoch 00003: val_loss improved from 1.02308 to 0.65012, saving model to /content/gdrive/My Drive/tfm/model_weights_v1.h5\n",
            "62/62 [==============================] - 42s 684ms/step - loss: 1.2072 - accuracy: 0.5750 - val_loss: 0.6501 - val_accuracy: 0.6541\n",
            "Epoch 4/100\n",
            "62/62 [==============================] - ETA: 0s - loss: 0.9208 - accuracy: 0.6452\n",
            "Epoch 00004: val_loss improved from 0.65012 to 0.38064, saving model to /content/gdrive/My Drive/tfm/model_weights_v1.h5\n",
            "62/62 [==============================] - 43s 686ms/step - loss: 0.9208 - accuracy: 0.6452 - val_loss: 0.3806 - val_accuracy: 0.7691\n",
            "Epoch 5/100\n",
            "62/62 [==============================] - ETA: 0s - loss: 0.6722 - accuracy: 0.7113\n",
            "Epoch 00005: val_loss improved from 0.38064 to 0.17991, saving model to /content/gdrive/My Drive/tfm/model_weights_v1.h5\n",
            "62/62 [==============================] - 42s 684ms/step - loss: 0.6722 - accuracy: 0.7113 - val_loss: 0.1799 - val_accuracy: 0.8890\n",
            "Epoch 6/100\n",
            "62/62 [==============================] - ETA: 0s - loss: 0.4675 - accuracy: 0.7852\n",
            "Epoch 00006: val_loss did not improve from 0.17991\n",
            "62/62 [==============================] - 42s 673ms/step - loss: 0.4675 - accuracy: 0.7852 - val_loss: 0.5634 - val_accuracy: 0.6781\n",
            "Epoch 7/100\n",
            "62/62 [==============================] - ETA: 0s - loss: 0.3346 - accuracy: 0.8266\n",
            "Epoch 00007: val_loss did not improve from 0.17991\n",
            "62/62 [==============================] - 41s 667ms/step - loss: 0.3346 - accuracy: 0.8266 - val_loss: 0.4512 - val_accuracy: 0.7206\n",
            "Epoch 8/100\n",
            "62/62 [==============================] - ETA: 0s - loss: 0.3061 - accuracy: 0.8429\n",
            "Epoch 00008: val_loss did not improve from 0.17991\n",
            "62/62 [==============================] - 41s 667ms/step - loss: 0.3061 - accuracy: 0.8429 - val_loss: 0.3307 - val_accuracy: 0.7892\n",
            "Epoch 9/100\n",
            "62/62 [==============================] - ETA: 0s - loss: 0.2285 - accuracy: 0.8822\n",
            "Epoch 00009: val_loss improved from 0.17991 to 0.07814, saving model to /content/gdrive/My Drive/tfm/model_weights_v1.h5\n",
            "62/62 [==============================] - 42s 685ms/step - loss: 0.2285 - accuracy: 0.8822 - val_loss: 0.0781 - val_accuracy: 0.9507\n",
            "Epoch 10/100\n",
            "62/62 [==============================] - ETA: 0s - loss: 0.1153 - accuracy: 0.9472\n",
            "Epoch 00010: val_loss improved from 0.07814 to 0.05603, saving model to /content/gdrive/My Drive/tfm/model_weights_v1.h5\n",
            "62/62 [==============================] - 42s 684ms/step - loss: 0.1153 - accuracy: 0.9472 - val_loss: 0.0560 - val_accuracy: 0.9651\n",
            "Epoch 11/100\n",
            "62/62 [==============================] - ETA: 0s - loss: 0.0709 - accuracy: 0.9708\n",
            "Epoch 00011: val_loss did not improve from 0.05603\n",
            "62/62 [==============================] - 42s 672ms/step - loss: 0.0709 - accuracy: 0.9708 - val_loss: 0.1317 - val_accuracy: 0.9038\n",
            "Epoch 12/100\n",
            "62/62 [==============================] - ETA: 0s - loss: 0.0574 - accuracy: 0.9732\n",
            "Epoch 00012: val_loss did not improve from 0.05603\n",
            "62/62 [==============================] - 41s 664ms/step - loss: 0.0574 - accuracy: 0.9732 - val_loss: 0.0722 - val_accuracy: 0.9517\n",
            "Epoch 13/100\n",
            "62/62 [==============================] - ETA: 0s - loss: 0.0504 - accuracy: 0.9767\n",
            "Epoch 00013: val_loss improved from 0.05603 to 0.04674, saving model to /content/gdrive/My Drive/tfm/model_weights_v1.h5\n",
            "62/62 [==============================] - 42s 683ms/step - loss: 0.0504 - accuracy: 0.9767 - val_loss: 0.0467 - val_accuracy: 0.9689\n",
            "Epoch 14/100\n",
            "62/62 [==============================] - ETA: 0s - loss: 0.0437 - accuracy: 0.9805\n",
            "Epoch 00014: val_loss improved from 0.04674 to 0.03222, saving model to /content/gdrive/My Drive/tfm/model_weights_v1.h5\n",
            "62/62 [==============================] - 42s 685ms/step - loss: 0.0437 - accuracy: 0.9805 - val_loss: 0.0322 - val_accuracy: 0.9766\n",
            "Epoch 15/100\n",
            "62/62 [==============================] - ETA: 0s - loss: 0.0375 - accuracy: 0.9841\n",
            "Epoch 00015: val_loss improved from 0.03222 to 0.02905, saving model to /content/gdrive/My Drive/tfm/model_weights_v1.h5\n",
            "62/62 [==============================] - 42s 684ms/step - loss: 0.0375 - accuracy: 0.9841 - val_loss: 0.0291 - val_accuracy: 0.9781\n",
            "Epoch 16/100\n",
            "62/62 [==============================] - ETA: 0s - loss: 0.0347 - accuracy: 0.9840\n",
            "Epoch 00016: val_loss did not improve from 0.02905\n",
            "62/62 [==============================] - 42s 670ms/step - loss: 0.0347 - accuracy: 0.9840 - val_loss: 0.0473 - val_accuracy: 0.9675\n",
            "Epoch 17/100\n",
            "62/62 [==============================] - ETA: 0s - loss: 0.0339 - accuracy: 0.9822\n",
            "Epoch 00017: val_loss did not improve from 0.02905\n",
            "62/62 [==============================] - 41s 668ms/step - loss: 0.0339 - accuracy: 0.9822 - val_loss: 0.0402 - val_accuracy: 0.9725\n",
            "Epoch 18/100\n",
            "62/62 [==============================] - ETA: 0s - loss: 0.0317 - accuracy: 0.9837\n",
            "Epoch 00018: val_loss did not improve from 0.02905\n",
            "62/62 [==============================] - 42s 670ms/step - loss: 0.0317 - accuracy: 0.9837 - val_loss: 0.0381 - val_accuracy: 0.9734\n",
            "Epoch 19/100\n",
            "62/62 [==============================] - ETA: 0s - loss: 0.0311 - accuracy: 0.9862\n",
            "Epoch 00019: val_loss improved from 0.02905 to 0.02905, saving model to /content/gdrive/My Drive/tfm/model_weights_v1.h5\n",
            "62/62 [==============================] - 42s 684ms/step - loss: 0.0311 - accuracy: 0.9862 - val_loss: 0.0291 - val_accuracy: 0.9756\n",
            "Epoch 20/100\n",
            "62/62 [==============================] - ETA: 0s - loss: 0.0236 - accuracy: 0.9895\n",
            "Epoch 00020: val_loss improved from 0.02905 to 0.02658, saving model to /content/gdrive/My Drive/tfm/model_weights_v1.h5\n",
            "62/62 [==============================] - 42s 685ms/step - loss: 0.0236 - accuracy: 0.9895 - val_loss: 0.0266 - val_accuracy: 0.9758\n",
            "Epoch 21/100\n",
            "62/62 [==============================] - ETA: 0s - loss: 0.0217 - accuracy: 0.9888\n",
            "Epoch 00021: val_loss improved from 0.02658 to 0.02612, saving model to /content/gdrive/My Drive/tfm/model_weights_v1.h5\n",
            "62/62 [==============================] - 42s 683ms/step - loss: 0.0217 - accuracy: 0.9888 - val_loss: 0.0261 - val_accuracy: 0.9756\n",
            "Epoch 22/100\n",
            "62/62 [==============================] - ETA: 0s - loss: 0.0220 - accuracy: 0.9870\n",
            "Epoch 00022: val_loss improved from 0.02612 to 0.02384, saving model to /content/gdrive/My Drive/tfm/model_weights_v1.h5\n",
            "62/62 [==============================] - 42s 685ms/step - loss: 0.0220 - accuracy: 0.9870 - val_loss: 0.0238 - val_accuracy: 0.9757\n",
            "Epoch 23/100\n",
            "62/62 [==============================] - ETA: 0s - loss: 0.0198 - accuracy: 0.9877\n",
            "Epoch 00023: val_loss improved from 0.02384 to 0.02105, saving model to /content/gdrive/My Drive/tfm/model_weights_v1.h5\n",
            "62/62 [==============================] - 42s 683ms/step - loss: 0.0198 - accuracy: 0.9877 - val_loss: 0.0210 - val_accuracy: 0.9767\n",
            "Epoch 24/100\n",
            "62/62 [==============================] - ETA: 0s - loss: 0.0201 - accuracy: 0.9874\n",
            "Epoch 00024: val_loss improved from 0.02105 to 0.01902, saving model to /content/gdrive/My Drive/tfm/model_weights_v1.h5\n",
            "62/62 [==============================] - 43s 686ms/step - loss: 0.0201 - accuracy: 0.9874 - val_loss: 0.0190 - val_accuracy: 0.9785\n",
            "Epoch 25/100\n",
            "62/62 [==============================] - ETA: 0s - loss: 0.0192 - accuracy: 0.9888\n",
            "Epoch 00025: val_loss did not improve from 0.01902\n",
            "62/62 [==============================] - 41s 669ms/step - loss: 0.0192 - accuracy: 0.9888 - val_loss: 0.0202 - val_accuracy: 0.9769\n",
            "Epoch 26/100\n",
            "62/62 [==============================] - ETA: 0s - loss: 0.0193 - accuracy: 0.9860\n",
            "Epoch 00026: val_loss did not improve from 0.01902\n",
            "62/62 [==============================] - 41s 666ms/step - loss: 0.0193 - accuracy: 0.9860 - val_loss: 0.0208 - val_accuracy: 0.9760\n",
            "Epoch 27/100\n",
            "62/62 [==============================] - ETA: 0s - loss: 0.0196 - accuracy: 0.9848\n",
            "Epoch 00027: val_loss did not improve from 0.01902\n",
            "62/62 [==============================] - 41s 667ms/step - loss: 0.0196 - accuracy: 0.9848 - val_loss: 0.0203 - val_accuracy: 0.9768\n",
            "Epoch 28/100\n",
            "62/62 [==============================] - ETA: 0s - loss: 0.0182 - accuracy: 0.9883\n",
            "Epoch 00028: val_loss did not improve from 0.01902\n",
            "62/62 [==============================] - 42s 671ms/step - loss: 0.0182 - accuracy: 0.9883 - val_loss: 0.0199 - val_accuracy: 0.9767\n",
            "Epoch 29/100\n",
            "62/62 [==============================] - ETA: 0s - loss: 0.0177 - accuracy: 0.9895\n",
            "Epoch 00029: val_loss did not improve from 0.01902\n",
            "62/62 [==============================] - 42s 671ms/step - loss: 0.0177 - accuracy: 0.9895 - val_loss: 0.0196 - val_accuracy: 0.9768\n",
            "Epoch 30/100\n",
            "62/62 [==============================] - ETA: 0s - loss: 0.0173 - accuracy: 0.9911\n",
            "Epoch 00030: val_loss did not improve from 0.01902\n",
            "62/62 [==============================] - 42s 677ms/step - loss: 0.0173 - accuracy: 0.9911 - val_loss: 0.0197 - val_accuracy: 0.9768\n",
            "Epoch 31/100\n",
            "62/62 [==============================] - ETA: 0s - loss: 0.0179 - accuracy: 0.9885\n",
            "Epoch 00031: val_loss did not improve from 0.01902\n",
            "62/62 [==============================] - 42s 673ms/step - loss: 0.0179 - accuracy: 0.9885 - val_loss: 0.0197 - val_accuracy: 0.9768\n",
            "Epoch 32/100\n",
            "62/62 [==============================] - ETA: 0s - loss: 0.0176 - accuracy: 0.9888\n",
            "Epoch 00032: val_loss did not improve from 0.01902\n",
            "62/62 [==============================] - 42s 670ms/step - loss: 0.0176 - accuracy: 0.9888 - val_loss: 0.0197 - val_accuracy: 0.9768\n",
            "Epoch 33/100\n",
            "62/62 [==============================] - ETA: 0s - loss: 0.0177 - accuracy: 0.9888\n",
            "Epoch 00033: val_loss did not improve from 0.01902\n",
            "62/62 [==============================] - 42s 670ms/step - loss: 0.0177 - accuracy: 0.9888 - val_loss: 0.0197 - val_accuracy: 0.9768\n",
            "Epoch 34/100\n",
            "62/62 [==============================] - ETA: 0s - loss: 0.0175 - accuracy: 0.9900\n",
            "Epoch 00034: val_loss did not improve from 0.01902\n",
            "62/62 [==============================] - 42s 669ms/step - loss: 0.0175 - accuracy: 0.9900 - val_loss: 0.0197 - val_accuracy: 0.9768\n"
          ],
          "name": "stdout"
        }
      ]
    },
    {
      "cell_type": "code",
      "metadata": {
        "id": "-1g1Jb0mQgWh",
        "colab_type": "code",
        "colab": {
          "base_uri": "https://localhost:8080/",
          "height": 320
        },
        "outputId": "d7299391-ed2c-4ff0-8b77-7993ad1d92ac"
      },
      "source": [
        "#get all the data and plot it\n",
        "#history.history dictionary containing loss and any extra metrics \n",
        "#history.params training parameters\n",
        "#history.epoch list of epochs\n",
        "pd.DataFrame(history.history).plot(figsize=(8,5))\n",
        "plt.grid(True)\n",
        "plt.show()"
      ],
      "execution_count": 20,
      "outputs": [
        {
          "output_type": "display_data",
          "data": {
            "image/png": "[encoded data removed]",
            "text/plain": [
              "<Figure size 576x360 with 1 Axes>"
            ]
          },
          "metadata": {
            "tags": [],
            "needs_background": "light"
          }
        }
      ]
    },
    {
      "cell_type": "markdown",
      "metadata": {
        "id": "QGKCorLxM_8C",
        "colab_type": "text"
      },
      "source": [
        "#4) Encoder-Decoder for inference"
      ]
    },
    {
      "cell_type": "code",
      "metadata": {
        "id": "eK0I7C5eMp-F",
        "colab_type": "code",
        "colab": {
          "base_uri": "https://localhost:8080/",
          "height": 766
        },
        "outputId": "3f3b2e5d-bb84-47ad-9a0d-52bf42d2d33c"
      },
      "source": [
        "##############Model modified for INFERENCE##################\n",
        "\n",
        "# encoder_model_inference is the same as in training\n",
        "encoder_inf = Model(encoder_input, state_h)\n",
        "\n",
        "encoder_inf.save(\"/content/gdrive/My Drive/tfm/encoder_inf_model_v1.h5\")\n",
        "encoder_inf.save_weights(\"/content/gdrive/My Drive/tfm/encoder_inf_weights_v1.h5\")\n",
        "\n",
        "# decoder_model_inference\n",
        "decoder_inf_state_input_h = Input(shape=(nodes, ), name=\"encoder_hidden_state\") #Encoder hidden states\n",
        "\n",
        "# decoder_inputs\n",
        "decoder_inf_input = Input(shape=(1,)) #Input fro inference decoding is 1 word at a time\n",
        "decoder_inf_input_emb = Embedding(en_vocab_size, 300, \\\n",
        "                                  weights=[emb_en], mask_zero=True)(decoder_inf_input)\n",
        "\n",
        "# decoder\n",
        "decoder_inf_gru = GRU(nodes, return_sequences=True, unroll=True, return_state=True)\n",
        "decoder_inf, h_inf = decoder_gru(decoder_inf_input_emb, initial_state=decoder_inf_state_input_h)\n",
        "decoder_inf_state = h_inf\n",
        "\n",
        "decoder_inf_output = Dense(en_vocab_size, activation=\"softmax\")(decoder_inf)\n",
        "\n",
        "\n",
        "decoder_inf_model = Model([decoder_inf_input, decoder_inf_state_input_h], \\\n",
        "                          [decoder_inf_output, decoder_inf_state])\n",
        "\n",
        "decoder_inf_model.summary()\n",
        "\n",
        "plot_model(decoder_inf_model, to_file=\"/content/gdrive/My Drive/tfm/decoder_inf_model_v1.png\", \\\n",
        "           show_shapes=True, show_layer_names=True)\n",
        "\n",
        "decoder_inf_model.save(\"/content/gdrive/My Drive/tfm/decoder_inf_model_v1.h5\")\n",
        "decoder_inf_model.save_weights(\"/content/gdrive/My Drive/tfm/decoder_inf_weights_v1.h5\")\n",
        "plot_model(decoder_inf_model, to_file=\"/content/gdrive/My Drive/tfm/model_inf_v1.png\", show_shapes=True)"
      ],
      "execution_count": 21,
      "outputs": [
        {
          "output_type": "stream",
          "text": [
            "WARNING:tensorflow:Layer gru will not use cuDNN kernel since it doesn't meet the cuDNN kernel criteria. It will use generic GPU kernel as fallback when running on GPU\n",
            "Model: \"functional_7\"\n",
            "__________________________________________________________________________________________________\n",
            "Layer (type)                    Output Shape         Param #     Connected to                     \n",
            "==================================================================================================\n",
            "input_3 (InputLayer)            [(None, 1)]          0                                            \n",
            "__________________________________________________________________________________________________\n",
            "embedding_4 (Embedding)         (None, 1, 300)       1614300     input_3[0][0]                    \n",
            "__________________________________________________________________________________________________\n",
            "encoder_hidden_state (InputLaye [(None, 1024)]       0                                            \n",
            "__________________________________________________________________________________________________\n",
            "decoder_gru (GRU)               multiple             4073472     embedding_4[0][0]                \n",
            "                                                                 encoder_hidden_state[0][0]       \n",
            "__________________________________________________________________________________________________\n",
            "dense_2 (Dense)                 (None, 1, 5381)      5515525     decoder_gru[1][0]                \n",
            "==================================================================================================\n",
            "Total params: 11,203,297\n",
            "Trainable params: 11,203,297\n",
            "Non-trainable params: 0\n",
            "__________________________________________________________________________________________________\n"
          ],
          "name": "stdout"
        },
        {
          "output_type": "execute_result",
          "data": {
            "image/png": "[encoded data removed]",
            "text/plain": [
              "<IPython.core.display.Image object>"
            ]
          },
          "metadata": {
            "tags": []
          },
          "execution_count": 21
        }
      ]
    },
    {
      "cell_type": "markdown",
      "metadata": {
        "id": "AP9cPIj_NP79",
        "colab_type": "text"
      },
      "source": [
        "#5 Inference Loop"
      ]
    },
    {
      "cell_type": "code",
      "metadata": {
        "id": "CWk5D3PNNPLK",
        "colab_type": "code",
        "colab": {}
      },
      "source": [
        "#Reverse dictionary integer-word\n",
        "\n",
        "decoding_dict = {v: k for k, v in en_tokenizer_lang.word_index.items()}\n",
        "\n",
        "decode_zh = {v: k for k, v in zh_tokenizer_lang.word_index.items()}\n",
        "decode_en = {v: k for k, v in en_tokenizer_lang.word_index.items()}"
      ],
      "execution_count": 22,
      "outputs": []
    },
    {
      "cell_type": "code",
      "metadata": {
        "id": "CzVgO5zYNWCS",
        "colab_type": "code",
        "colab": {}
      },
      "source": [
        "def translate_sentence(input_sentence, target_tokenizer, decoding_dict, output_max_len):\n",
        "    states_value = encoder_inf.predict(input_sentence)\n",
        "\n",
        "    target_sequence = np.zeros((1, 1))\n",
        "    target_sequence[0, 0] = target_tokenizer.word_index.get(\"<start>\")\n",
        "    end_of_sequence = target_tokenizer.word_index.get(\"<end>\")\n",
        "\n",
        "    translated_sentence = []\n",
        "\n",
        "    for i in range(output_max_len):\n",
        "        output_token, decoder_states = decoder_inf_model.predict([target_sequence, states_value])\n",
        "        id_word = np.argmax(output_token[0, 0, :])\n",
        "\n",
        "        if id_word == end_of_sequence or input_sentence[0][i] == 0:  #this is wrong so far\n",
        "            break\n",
        "\n",
        "        decoded_word = \"\"\n",
        "\n",
        "        if id_word > 0:\n",
        "            decoded_word = decoding_dict.get(id_word)\n",
        "            translated_sentence.append(decoded_word)\n",
        "\n",
        "        target_sequence[0, 0] = id_word\n",
        "        states_value = decoder_states\n",
        "\n",
        "    return \" \".join(translated_sentence)"
      ],
      "execution_count": 23,
      "outputs": []
    },
    {
      "cell_type": "markdown",
      "metadata": {
        "id": "_eMsB1dYNZe0",
        "colab_type": "text"
      },
      "source": [
        "#6) Evaluate model"
      ]
    },
    {
      "cell_type": "code",
      "metadata": {
        "id": "x-_mDUC8NdYW",
        "colab_type": "code",
        "colab": {}
      },
      "source": [
        "def translate_corpus(corpus, tokenizer, decoding_dict, output_max_len):\n",
        "    corpus_list = list()\n",
        "    for i in range(0, len(corpus)):\n",
        "        line = translate_sentence(corpus[i:i + 1], tokenizer, decoding_dict, output_max_len)\n",
        "        corpus_list.append(line)\n",
        "    return corpus_list"
      ],
      "execution_count": 82,
      "outputs": []
    },
    {
      "cell_type": "code",
      "metadata": {
        "id": "qN9vE-SsNgFf",
        "colab_type": "code",
        "colab": {}
      },
      "source": [
        "#######Model Evaluation######3\n",
        "decode_zh = {v: k for k, v in zh_tokenizer_lang.word_index.items()}\n",
        "decode_en = {v: k for k, v in en_tokenizer_lang.word_index.items()}\n",
        "\n",
        "decode_zh.update({0: \"0\"})\n",
        "decode_en.update({0: \"0\"})"
      ],
      "execution_count": 83,
      "outputs": []
    },
    {
      "cell_type": "code",
      "metadata": {
        "id": "ENON5uo5N80G",
        "colab_type": "code",
        "colab": {}
      },
      "source": [
        "def decode_source(sentence):\n",
        "    sent = np.ndarray.tolist(sentence)\n",
        "    words = [decode_zh.get(letter) for letter in sent]\n",
        "    my_texts = ([\"\".join(words[i]) for i in range(len(words))])\n",
        "    text = [i for i in my_texts if i != \"0\"]\n",
        "    return text\n",
        "\n",
        "\n",
        "def decode_target(sentence):\n",
        "    sent = np.ndarray.tolist(sentence)\n",
        "    words = [decode_en.get(letter) for letter in sent]\n",
        "    my_texts = ([\"\".join(words[i]) for i in range(len(words))])\n",
        "    text = [i for i in my_texts if i != \"0\"]\n",
        "    return text\n"
      ],
      "execution_count": 84,
      "outputs": []
    },
    {
      "cell_type": "code",
      "metadata": {
        "id": "4FrWwZUINjAp",
        "colab_type": "code",
        "colab": {}
      },
      "source": [
        "# tokenizer = en_tokenizer_lang\n",
        "# output_max_len = global_max_len\n",
        "# decoding_dict = decode_zh\n",
        "def evaluate_model(source_corpus, target_corpus):\n",
        "    original = source_corpus   #format: list of sentences as words\n",
        "    actual = [decode_target(target_corpus[i]) for i in\n",
        "              range(len(target_corpus))] #format: list of sentence as tokens\n",
        "    predicted = translate_corpus(source_corpus, en_tokenizer_lang, \\\n",
        "                                 decoding_dict=decode_en, output_max_len=global_max_len)\n",
        "\n",
        "    print('BLEU-1: %f' % corpus_bleu(actual, predicted, weights=(1.0, 0, 0, 0)))\n",
        "    print('BLEU-2: %f' % corpus_bleu(actual, predicted, weights=(0.5, 0.5, 0, 0)))\n",
        "    print('BLEU-3: %f' % corpus_bleu(actual, predicted, weights=(0.3, 0.3, 0.3, 0)))\n",
        "    print('BLEU-4: %f' % corpus_bleu(actual, predicted, weights=(0.25, 0.25, 0.25, 0.25)))"
      ],
      "execution_count": 89,
      "outputs": []
    },
    {
      "cell_type": "code",
      "metadata": {
        "id": "3_Hud1nYOBNQ",
        "colab_type": "code",
        "colab": {
          "base_uri": "https://localhost:8080/",
          "height": 90
        },
        "outputId": "29611c47-bd00-4bf7-c3a9-2c13f6164465"
      },
      "source": [
        "#We should get some validation data apart, but this shows how the function should be used\n",
        "c = zh_word_tensor[0:1000]\n",
        "p = en_word_tensor[0:1000]\n",
        "evaluacion = evaluate_model(c, p)"
      ],
      "execution_count": 91,
      "outputs": [
        {
          "output_type": "stream",
          "text": [
            "BLEU-1: 0.291640\n",
            "BLEU-2: 0.126643\n",
            "BLEU-3: 0.060967\n",
            "BLEU-4: 0.014691\n"
          ],
          "name": "stdout"
        }
      ]
    },
    {
      "cell_type": "markdown",
      "metadata": {
        "id": "6JueKaPcCjVK",
        "colab_type": "text"
      },
      "source": [
        "Even though the loss is minimal, so the model is likely overfitting, BLEU scores are rather low. Also, predictions are far from accurate. \n",
        "\n",
        "Thoughs on why this may be: \n",
        "\n",
        "1) Sequences too long\n",
        "2) Number of tokens to be predicted to high\n",
        "\n",
        "3) Insufficient data\n",
        "\n",
        "4) Differences between the languages too big to be captured by the model"
      ]
    }
  ]
}
