{
  "nbformat": 4,
  "nbformat_minor": 0,
  "metadata": {
    "colab": {
      "name": "vanilla_seq2seq_notebook.ipynb",
      "provenance": [],
      "toc_visible": true,
      "authorship_tag": "ABX9TyNyfRmIay21dgcsFcLeyX/u",
      "include_colab_link": true
    },
    "kernelspec": {
      "name": "python3",
      "display_name": "Python 3"
    },
    "accelerator": "GPU"
  },
  "cells": [
    {
      "cell_type": "markdown",
      "metadata": {
        "id": "view-in-github",
        "colab_type": "text"
      },
      "source": [
        "<a href=\"https://colab.research.google.com/github/IpastorSan/seq2seq-with-attention-OCR-translation/blob/master/vanilla_seq2seq_notebook.ipynb\" target=\"_parent\"><img src=\"https://colab.research.google.com/assets/colab-badge.svg\" alt=\"Open In Colab\"/></a>"
      ]
    },
    {
      "cell_type": "code",
      "metadata": {
        "id": "OpQh1Af3JigD",
        "colab_type": "code",
        "colab": {
          "base_uri": "https://localhost:8080/",
          "height": 128
        },
        "outputId": "fecdffef-8263-49a4-8330-ffcdd689ea69"
      },
      "source": [
        "from google.colab import drive\n",
        "drive.mount(\"/content/gdrive\")"
      ],
      "execution_count": 1,
      "outputs": [
        {
          "output_type": "stream",
          "text": [
            "Go to this URL in a browser: https://accounts.google.com/o/oauth2/auth?client_id=947318989803-6bn6qk8qdgf4n4g3pfee6491hc0brc4i.apps.googleusercontent.com&redirect_uri=urn%3aietf%3awg%3aoauth%3a2.0%3aoob&scope=email%20https%3a%2f%2fwww.googleapis.com%2fauth%2fdocs.test%20https%3a%2f%2fwww.googleapis.com%2fauth%2fdrive%20https%3a%2f%2fwww.googleapis.com%2fauth%2fdrive.photos.readonly%20https%3a%2f%2fwww.googleapis.com%2fauth%2fpeopleapi.readonly&response_type=code\n",
            "\n",
            "Enter your authorization code:\n",
            "··········\n",
            "Mounted at /content/gdrive\n"
          ],
          "name": "stdout"
        }
      ]
    },
    {
      "cell_type": "markdown",
      "metadata": {
        "id": "6pYVrTCkLTDc",
        "colab_type": "text"
      },
      "source": [
        "#1)Relevant Imports"
      ]
    },
    {
      "cell_type": "code",
      "metadata": {
        "id": "_Rt1AnZxJcwT",
        "colab_type": "code",
        "colab": {}
      },
      "source": [
        "import numpy as np\n",
        "import tensorflow as tf\n",
        "from tensorflow.keras.models import Model\n",
        "from tensorflow.keras.utils import plot_model\n",
        "from tensorflow.keras.layers import GRU, Input, Dense, Embedding, Bidirectional, Concatenate\n",
        "from tensorflow.keras.callbacks import ModelCheckpoint\n",
        "from tensorflow.keras.optimizers import Adam\n",
        "from tensorflow.keras.preprocessing.text import Tokenizer\n",
        "from sklearn.model_selection import train_test_split\n",
        "from gensim.models import Word2Vec, KeyedVectors\n",
        "from nltk.translate.bleu_score import corpus_bleu\n",
        "import pandas as pd\n",
        "import matplotlib.pyplot as plt"
      ],
      "execution_count": 2,
      "outputs": []
    },
    {
      "cell_type": "code",
      "metadata": {
        "id": "DpxXjopzJsGu",
        "colab_type": "code",
        "colab": {}
      },
      "source": [
        "######Data Preparation#######\n",
        "\n",
        "def open_data(dataset, num_examples=None):\n",
        "    with open(dataset) as archivo:\n",
        "        datos = [line.rstrip('\\n') for line in archivo]\n",
        "        corpus = datos[:num_examples]\n",
        "\n",
        "    return corpus\n",
        "\n",
        "\n",
        "# Corpus. Adapt the path to your directory\n",
        "num_examples = 20000\n",
        "corpus_zh = open_data(\"/content/gdrive/My Drive/tfm/dataset_zh.txt\", num_examples=num_examples)\n",
        "corpus_en = open_data(\"/content/gdrive/My Drive/tfm/dataset_en.txt\", num_examples=num_examples)\n"
      ],
      "execution_count": 3,
      "outputs": []
    },
    {
      "cell_type": "markdown",
      "metadata": {
        "id": "USHgDtg7LlCs",
        "colab_type": "text"
      },
      "source": [
        "#2)Maximum length, Tokenizer, Pretrained, embeddings and batch generator"
      ]
    },
    {
      "cell_type": "markdown",
      "metadata": {
        "id": "9GemLVtJL0wS",
        "colab_type": "text"
      },
      "source": [
        "##2.1)max len"
      ]
    },
    {
      "cell_type": "code",
      "metadata": {
        "id": "SDaZZCJxJxpL",
        "colab_type": "code",
        "colab": {}
      },
      "source": [
        "def max_len(data):\n",
        "    return max(len(line.split()) for line in data)\n",
        "\n",
        "# Set max len\n",
        "zh_max_len = max_len(corpus_zh)\n",
        "en_max_len = max_len(corpus_en)\n",
        "global_max_len = max(en_max_len, zh_max_len)  #This helps us when training the model, setting all lengths to the maximum"
      ],
      "execution_count": 4,
      "outputs": []
    },
    {
      "cell_type": "markdown",
      "metadata": {
        "id": "vNChBLNIL3x2",
        "colab_type": "text"
      },
      "source": [
        "##2.2 Tokenizer"
      ]
    },
    {
      "cell_type": "code",
      "metadata": {
        "id": "XNC-wyTdJ_6H",
        "colab_type": "code",
        "colab": {}
      },
      "source": [
        "def tokenizer(dataset, max_len, max_features, language=\"en\"):\n",
        "    tokenizer_lang = Tokenizer(num_words=max_features, filters=\"\")\n",
        "\n",
        "    tokenizer_lang.fit_on_texts(dataset)\n",
        "\n",
        "    word_tensor = tokenizer_lang.texts_to_sequences(dataset)\n",
        "    word_tensor = tf.keras.preprocessing.sequence.pad_sequences(word_tensor,maxlen=max_len, padding=\"post\")\n",
        "\n",
        "    return tokenizer_lang, word_tensor  #dictionary with tokenized words/sequences translated to numbers\n",
        "\n",
        "# Tokenizacion. We obtain tokenizer and sequences\n",
        "zh_tokenizer_lang, zh_word_tensor = tokenizer(corpus_zh, global_max_len, max_features=3000)\n",
        "en_tokenizer_lang, en_word_tensor = tokenizer(corpus_en, global_max_len, max_features=3000)"
      ],
      "execution_count": 5,
      "outputs": []
    },
    {
      "cell_type": "code",
      "metadata": {
        "id": "qk6mG-wtKAAc",
        "colab_type": "code",
        "colab": {}
      },
      "source": [
        "# Length of each set of vocabulary\n",
        "zh_vocab_size = len(zh_tokenizer_lang.word_index)\n",
        "en_vocab_size = len(en_tokenizer_lang.word_index)"
      ],
      "execution_count": 6,
      "outputs": []
    },
    {
      "cell_type": "code",
      "metadata": {
        "id": "M6ZA6sQkKGIh",
        "colab_type": "code",
        "colab": {}
      },
      "source": [
        "#Split the dataset into train and test sets\n",
        "zh_train, zh_test, en_train, en_test = train_test_split(zh_word_tensor, en_word_tensor, test_size=0.1, random_state=13)"
      ],
      "execution_count": 7,
      "outputs": []
    },
    {
      "cell_type": "markdown",
      "metadata": {
        "id": "zC4QL5MgL6NA",
        "colab_type": "text"
      },
      "source": [
        "##2.3 Embeddings"
      ]
    },
    {
      "cell_type": "code",
      "metadata": {
        "id": "4YDeJQLhKIlD",
        "colab_type": "code",
        "colab": {}
      },
      "source": [
        "#Preparation of embedding files.\n",
        "#Source Chinese Embedding: https://github.com/Kyubyong/wordvectors\n",
        "#Source English Embedding: https://fasttext.cc/docs/en/english-vectors.html\n",
        "#All embeddings come from word2vec models\n",
        "\n",
        "embedding_file_en = \"/content/gdrive/My Drive/tfm/en.bin\"\n",
        "embedding_file_zh = \"/content/gdrive/My Drive/tfm/zh.bin\"\n",
        "\n",
        "\n",
        "def from_w2v_to_dict(embedding_file, lang=\"zh\"):\n",
        "    if lang == \"en\":\n",
        "        model = KeyedVectors.load_word2vec_format(embedding_file, binary=True)\n",
        "    else:\n",
        "        model = Word2Vec.load(embedding_file)\n",
        "\n",
        "    vector = model.wv.vectors\n",
        "    words = model.wv.index2word\n",
        "    union_embeddings = dict(zip(words, vector))\n",
        "    return union_embeddings"
      ],
      "execution_count": 8,
      "outputs": []
    },
    {
      "cell_type": "code",
      "metadata": {
        "id": "4Nl-GuUIKNIp",
        "colab_type": "code",
        "colab": {
          "base_uri": "https://localhost:8080/",
          "height": 128
        },
        "outputId": "2ba31a9f-270c-4245-9b56-ea6019e47396"
      },
      "source": [
        "embedding_zh = from_w2v_to_dict(embedding_file_zh)\n",
        "embedding_en = from_w2v_to_dict(embedding_file_en, lang=\"en\")"
      ],
      "execution_count": 9,
      "outputs": [
        {
          "output_type": "stream",
          "text": [
            "/usr/local/lib/python3.6/dist-packages/smart_open/smart_open_lib.py:254: UserWarning: This function is deprecated, use smart_open.open instead. See the migration notes for details: https://github.com/RaRe-Technologies/smart_open/blob/master/README.rst#migrating-to-the-new-open-function\n",
            "  'See the migration notes for details: %s' % _MIGRATION_NOTES_URL\n",
            "/usr/local/lib/python3.6/dist-packages/ipykernel_launcher.py:16: DeprecationWarning: Call to deprecated `wv` (Attribute will be removed in 4.0.0, use self instead).\n",
            "  app.launch_new_instance()\n",
            "/usr/local/lib/python3.6/dist-packages/ipykernel_launcher.py:17: DeprecationWarning: Call to deprecated `wv` (Attribute will be removed in 4.0.0, use self instead).\n"
          ],
          "name": "stderr"
        }
      ]
    },
    {
      "cell_type": "code",
      "metadata": {
        "id": "39KWWLRRKO6-",
        "colab_type": "code",
        "colab": {}
      },
      "source": [
        "#Extract embedding weights to input into Keras Embedding Layer. Words not found in the embedding\n",
        "#will be substitued with a random vector with normal distribution with mean=embedding mean and std=embedding std\n",
        "\n",
        "\n",
        "def get_embedding_weights(embedd_dict, tokenizer_index, max_features=1000):\n",
        "    embed = list(embedd_dict.values())\n",
        "\n",
        "    all_embs = np.stack(embed)\n",
        "    emb_mean, emb_std = all_embs.mean(), all_embs.std()\n",
        "    embed_size = all_embs.shape[1]  # probar\n",
        "\n",
        "    word_index = tokenizer_index.word_index\n",
        "    nb_words = len(word_index)\n",
        "\n",
        "    embedding_matrix = np.random.normal(emb_mean, emb_std, \\\n",
        "                                        size=(nb_words, embed_size))\n",
        "\n",
        "    for word, i in word_index.items():\n",
        "        if i >= max_features:\n",
        "            continue\n",
        "        embedding_vector = np.array(embedd_dict.get(word))\n",
        "        if embedding_vector.size is not 1:\n",
        "            embedding_matrix[i] = embedding_vector\n",
        "\n",
        "    return embedding_matrix"
      ],
      "execution_count": 10,
      "outputs": []
    },
    {
      "cell_type": "code",
      "metadata": {
        "id": "2n1dowApKTLz",
        "colab_type": "code",
        "colab": {}
      },
      "source": [
        "emb_zh = get_embedding_weights(embedding_zh, zh_tokenizer_lang, max_features=zh_vocab_size)\n",
        "emb_en = emb = get_embedding_weights(embedding_en, en_tokenizer_lang, max_features=en_vocab_size)"
      ],
      "execution_count": 11,
      "outputs": []
    },
    {
      "cell_type": "markdown",
      "metadata": {
        "id": "fP9_Cj9qL9UA",
        "colab_type": "text"
      },
      "source": [
        "##2.4 Batch Generator"
      ]
    },
    {
      "cell_type": "code",
      "metadata": {
        "id": "-ShVu28rKXu9",
        "colab_type": "code",
        "colab": {}
      },
      "source": [
        "########Batch Generator for training. We also implement teacher forcing here######\n",
        "\n",
        "def generate_batch(X, y, global_max_len, vocab_size_out, batch_size):\n",
        "    while True:\n",
        "        for j in range(0, len(X), batch_size):\n",
        "            encoder_input_data = np.zeros((batch_size, global_max_len), dtype='float32')\n",
        "            decoder_input_data = np.zeros((batch_size, global_max_len), dtype='float32')\n",
        "            decoder_target_data = np.zeros((batch_size, global_max_len, vocab_size_out), dtype='float32')\n",
        "            for i, (input_text, target_text) in enumerate(zip(X[j:j + batch_size], y[j:j + batch_size])):\n",
        "                for t, word in enumerate(input_text):\n",
        "                    encoder_input_data[i, t] = word  # encoder input seq\n",
        "                for t, word in enumerate(target_text):\n",
        "                    if t < len(target_text) - 1:\n",
        "                        decoder_input_data[i, t] = word  # decoder input seq\n",
        "                    if t > 0:\n",
        "                        # decoder target sequence (one hot encoded)\n",
        "                        # does not include the \"start\" token and is offset by one timestep\n",
        "                        decoder_target_data[i, t - 1, word] = 1  # si el vector es (1, 2, 4) ese 4 es 0001\n",
        "            yield ([encoder_input_data, decoder_input_data], decoder_target_data)\n",
        "\n",
        "#This will be substitued by a tf.Dataset"
      ],
      "execution_count": 12,
      "outputs": []
    },
    {
      "cell_type": "markdown",
      "metadata": {
        "id": "BDSuN4_mMAUt",
        "colab_type": "text"
      },
      "source": [
        "#3) Encoder-Decoder for training"
      ]
    },
    {
      "cell_type": "code",
      "metadata": {
        "id": "TgqpryB1KZWx",
        "colab_type": "code",
        "colab": {
          "base_uri": "https://localhost:8080/",
          "height": 1000
        },
        "outputId": "199ccb0b-3674-4d82-f69e-8e421807e9c6"
      },
      "source": [
        "###########Model for training. GRU units, Bidirectional, without Attention#########\n",
        "\n",
        "#Model seq2seq\n",
        "\n",
        "nodes = 1024\n",
        "learning_rate = 0.001\n",
        "clip_value = 1\n",
        "dropout = 0.01\n",
        "\n",
        "# encoder-Chinese\n",
        "encoder_input = Input(shape=(global_max_len,))\n",
        "#mask_zero=True allows for the padding 0 at the end of the sequence to be ignored\n",
        "encoder_embedding = Embedding(zh_vocab_size, 300, input_length=global_max_len, mask_zero=True)(encoder_input)\n",
        "encoder_gru = Bidirectional(GRU(nodes, return_sequences=True,unroll=True, dropout=dropout,\\\n",
        "                                return_state=True, name=\"encoder_gru\"))\n",
        "encoder_output, state_h_f, state_h_b = encoder_gru(encoder_embedding)\n",
        "state_h = Concatenate(name=\"states_h\")([state_h_f, state_h_b])\n",
        "\n",
        "\n",
        "# decoder-English\n",
        "decoder_input = Input(shape=(global_max_len), name=\"decoder_input\")\n",
        "decoder_emb = Embedding(en_vocab_size, 300, input_length=global_max_len,mask_zero=True)(decoder_input)\n",
        "\n",
        "\n",
        "decoder_gru = GRU(nodes* 2, return_sequences=True, return_state=True,unroll=True,\\\n",
        "                  dropout=dropout,name=\"decoder_gru\")\n",
        "\n",
        "decoder_output, _ = decoder_gru(decoder_emb, initial_state=state_h)\n",
        "\n",
        "#Decoder Output\n",
        "decoder_dense_output = Dense(en_vocab_size, activation=\"softmax\")(decoder_output)\n",
        "\n",
        "model = Model(inputs=[encoder_input, decoder_input], outputs=[decoder_dense_output])\n",
        "\n",
        "# compile model\n",
        "model.compile(optimizer=Adam(learning_rate=learning_rate, clipvalue=clip_value),\\\n",
        "              loss=\"categorical_crossentropy\", metrics=[\"accuracy\"])\n",
        "# Summarize compiled model\n",
        "model.summary()\n",
        "plot_model(model, to_file=\"/content/gdrive/My Drive/tfm/model_v1.png\", show_shapes=True)"
      ],
      "execution_count": 15,
      "outputs": [
        {
          "output_type": "stream",
          "text": [
            "WARNING:tensorflow:Layer encoder_gru will not use cuDNN kernel since it doesn't meet the cuDNN kernel criteria. It will use generic GPU kernel as fallback when running on GPU\n",
            "WARNING:tensorflow:Layer encoder_gru will not use cuDNN kernel since it doesn't meet the cuDNN kernel criteria. It will use generic GPU kernel as fallback when running on GPU\n",
            "WARNING:tensorflow:Layer encoder_gru will not use cuDNN kernel since it doesn't meet the cuDNN kernel criteria. It will use generic GPU kernel as fallback when running on GPU\n",
            "WARNING:tensorflow:Layer decoder_gru will not use cuDNN kernel since it doesn't meet the cuDNN kernel criteria. It will use generic GPU kernel as fallback when running on GPU\n",
            "Model: \"functional_3\"\n",
            "__________________________________________________________________________________________________\n",
            "Layer (type)                    Output Shape         Param #     Connected to                     \n",
            "==================================================================================================\n",
            "input_2 (InputLayer)            [(None, 17)]         0                                            \n",
            "__________________________________________________________________________________________________\n",
            "embedding_2 (Embedding)         (None, 17, 300)      3168600     input_2[0][0]                    \n",
            "__________________________________________________________________________________________________\n",
            "decoder_input (InputLayer)      [(None, 17)]         0                                            \n",
            "__________________________________________________________________________________________________\n",
            "bidirectional_1 (Bidirectional) [(None, 17, 2048), ( 8146944     embedding_2[0][0]                \n",
            "__________________________________________________________________________________________________\n",
            "embedding_3 (Embedding)         (None, 17, 300)      1614300     decoder_input[0][0]              \n",
            "__________________________________________________________________________________________________\n",
            "states_h (Concatenate)          (None, 2048)         0           bidirectional_1[0][1]            \n",
            "                                                                 bidirectional_1[0][2]            \n",
            "__________________________________________________________________________________________________\n",
            "decoder_gru (GRU)               [(None, 17, 2048), ( 14438400    embedding_3[0][0]                \n",
            "                                                                 states_h[0][0]                   \n",
            "__________________________________________________________________________________________________\n",
            "dense_1 (Dense)                 (None, 17, 5381)     11025669    decoder_gru[0][0]                \n",
            "==================================================================================================\n",
            "Total params: 38,393,913\n",
            "Trainable params: 38,393,913\n",
            "Non-trainable params: 0\n",
            "__________________________________________________________________________________________________\n"
          ],
          "name": "stdout"
        },
        {
          "output_type": "execute_result",
          "data": {
            "image/png": "[encoded data removed]",
            "text/plain": [
              "<IPython.core.display.Image object>"
            ]
          },
          "metadata": {
            "tags": []
          },
          "execution_count": 15
        }
      ]
    },
    {
      "cell_type": "code",
      "metadata": {
        "id": "AAoBnHs6K5LS",
        "colab_type": "code",
        "colab": {
          "base_uri": "https://localhost:8080/",
          "height": 1000
        },
        "outputId": "be2ff06d-94e9-4a9d-af67-3ae1f03ef9a3"
      },
      "source": [
        "# fit model\n",
        "epochs = 100\n",
        "b_size = 512\n",
        "checkpoint = ModelCheckpoint(\"/content/gdrive/My Drive/tfm/model_weights_v1.h5\", monitor=\"val_loss\",\\\n",
        "                             verbose=1, save_best_only=True , mode=\"min\", save_weights_only=True)\n",
        "lr_scheduler = tf.keras.callbacks.ReduceLROnPlateau(monitor=\"val_loss\", factor=0.1, patience=3)\n",
        "early_stopping = tf.keras.callbacks.EarlyStopping(monitor=\"val_loss\", patience=10)\n",
        "\n",
        "history = model.fit(generate_batch(zh_train, en_train, global_max_len, en_vocab_size, b_size), \\\n",
        "          steps_per_epoch=len(zh_train) // b_size, \\\n",
        "          epochs=epochs, \\\n",
        "          validation_data=generate_batch(zh_test, en_test, global_max_len, en_vocab_size, b_size), \\\n",
        "          validation_steps=len(zh_test) // b_size, \\\n",
        "          verbose=1, \\\n",
        "          callbacks=[checkpoint, lr_scheduler, early_stopping], )\n",
        "\n",
        "model.save(\"/content/gdrive/My Drive/tfm/model_complete_v1.h5\")\n"
      ],
      "execution_count": 16,
      "outputs": [
        {
          "output_type": "stream",
          "text": [
            "Epoch 1/100\n",
            "35/35 [==============================] - ETA: 0s - loss: 2.9872 - accuracy: 0.2166\n",
            "Epoch 00001: val_loss improved from inf to 2.24961, saving model to /content/gdrive/My Drive/tfm/model_weights_v1.h5\n",
            "35/35 [==============================] - 32s 917ms/step - loss: 2.9872 - accuracy: 0.2166 - val_loss: 2.2496 - val_accuracy: 0.2936\n",
            "Epoch 2/100\n",
            "35/35 [==============================] - ETA: 0s - loss: 1.9831 - accuracy: 0.3778\n",
            "Epoch 00002: val_loss improved from 2.24961 to 1.90551, saving model to /content/gdrive/My Drive/tfm/model_weights_v1.h5\n",
            "35/35 [==============================] - 29s 838ms/step - loss: 1.9831 - accuracy: 0.3778 - val_loss: 1.9055 - val_accuracy: 0.4112\n",
            "Epoch 3/100\n",
            "35/35 [==============================] - ETA: 0s - loss: 1.7022 - accuracy: 0.4431\n",
            "Epoch 00003: val_loss improved from 1.90551 to 1.63983, saving model to /content/gdrive/My Drive/tfm/model_weights_v1.h5\n",
            "35/35 [==============================] - 29s 822ms/step - loss: 1.7022 - accuracy: 0.4431 - val_loss: 1.6398 - val_accuracy: 0.4720\n",
            "Epoch 4/100\n",
            "35/35 [==============================] - ETA: 0s - loss: 1.4595 - accuracy: 0.4944\n",
            "Epoch 00004: val_loss improved from 1.63983 to 1.48149, saving model to /content/gdrive/My Drive/tfm/model_weights_v1.h5\n",
            "35/35 [==============================] - 29s 818ms/step - loss: 1.4595 - accuracy: 0.4944 - val_loss: 1.4815 - val_accuracy: 0.5064\n",
            "Epoch 5/100\n",
            "35/35 [==============================] - ETA: 0s - loss: 1.2982 - accuracy: 0.5262\n",
            "Epoch 00005: val_loss improved from 1.48149 to 1.38726, saving model to /content/gdrive/My Drive/tfm/model_weights_v1.h5\n",
            "35/35 [==============================] - 29s 830ms/step - loss: 1.2982 - accuracy: 0.5262 - val_loss: 1.3873 - val_accuracy: 0.5268\n",
            "Epoch 6/100\n",
            "35/35 [==============================] - ETA: 0s - loss: 1.1635 - accuracy: 0.5541\n",
            "Epoch 00006: val_loss improved from 1.38726 to 1.30940, saving model to /content/gdrive/My Drive/tfm/model_weights_v1.h5\n",
            "35/35 [==============================] - 29s 821ms/step - loss: 1.1635 - accuracy: 0.5541 - val_loss: 1.3094 - val_accuracy: 0.5471\n",
            "Epoch 7/100\n",
            "35/35 [==============================] - ETA: 0s - loss: 1.0370 - accuracy: 0.5835\n",
            "Epoch 00007: val_loss improved from 1.30940 to 1.24947, saving model to /content/gdrive/My Drive/tfm/model_weights_v1.h5\n",
            "35/35 [==============================] - 29s 821ms/step - loss: 1.0370 - accuracy: 0.5835 - val_loss: 1.2495 - val_accuracy: 0.5645\n",
            "Epoch 8/100\n",
            "35/35 [==============================] - ETA: 0s - loss: 0.9137 - accuracy: 0.6135\n",
            "Epoch 00008: val_loss improved from 1.24947 to 1.20991, saving model to /content/gdrive/My Drive/tfm/model_weights_v1.h5\n",
            "35/35 [==============================] - 29s 827ms/step - loss: 0.9137 - accuracy: 0.6135 - val_loss: 1.2099 - val_accuracy: 0.5805\n",
            "Epoch 9/100\n",
            "35/35 [==============================] - ETA: 0s - loss: 0.7997 - accuracy: 0.6474\n",
            "Epoch 00009: val_loss improved from 1.20991 to 1.17680, saving model to /content/gdrive/My Drive/tfm/model_weights_v1.h5\n",
            "35/35 [==============================] - 29s 823ms/step - loss: 0.7997 - accuracy: 0.6474 - val_loss: 1.1768 - val_accuracy: 0.5950\n",
            "Epoch 10/100\n",
            "35/35 [==============================] - ETA: 0s - loss: 0.6913 - accuracy: 0.6834\n",
            "Epoch 00010: val_loss improved from 1.17680 to 1.15459, saving model to /content/gdrive/My Drive/tfm/model_weights_v1.h5\n",
            "35/35 [==============================] - 29s 828ms/step - loss: 0.6913 - accuracy: 0.6834 - val_loss: 1.1546 - val_accuracy: 0.6019\n",
            "Epoch 11/100\n",
            "35/35 [==============================] - ETA: 0s - loss: 0.5931 - accuracy: 0.7222\n",
            "Epoch 00011: val_loss improved from 1.15459 to 1.14685, saving model to /content/gdrive/My Drive/tfm/model_weights_v1.h5\n",
            "35/35 [==============================] - 29s 834ms/step - loss: 0.5931 - accuracy: 0.7222 - val_loss: 1.1469 - val_accuracy: 0.6079\n",
            "Epoch 12/100\n",
            "35/35 [==============================] - ETA: 0s - loss: 0.5029 - accuracy: 0.7603\n",
            "Epoch 00012: val_loss improved from 1.14685 to 1.13760, saving model to /content/gdrive/My Drive/tfm/model_weights_v1.h5\n",
            "35/35 [==============================] - 29s 823ms/step - loss: 0.5029 - accuracy: 0.7603 - val_loss: 1.1376 - val_accuracy: 0.6130\n",
            "Epoch 13/100\n",
            "35/35 [==============================] - ETA: 0s - loss: 0.4220 - accuracy: 0.7956\n",
            "Epoch 00013: val_loss did not improve from 1.13760\n",
            "35/35 [==============================] - 27s 779ms/step - loss: 0.4220 - accuracy: 0.7956 - val_loss: 1.1435 - val_accuracy: 0.6178\n",
            "Epoch 14/100\n",
            "35/35 [==============================] - ETA: 0s - loss: 0.3444 - accuracy: 0.8338\n",
            "Epoch 00014: val_loss did not improve from 1.13760\n",
            "35/35 [==============================] - 27s 777ms/step - loss: 0.3444 - accuracy: 0.8338 - val_loss: 1.1453 - val_accuracy: 0.6230\n",
            "Epoch 15/100\n",
            "35/35 [==============================] - ETA: 0s - loss: 0.2743 - accuracy: 0.8696\n",
            "Epoch 00015: val_loss did not improve from 1.13760\n",
            "35/35 [==============================] - 27s 778ms/step - loss: 0.2743 - accuracy: 0.8696 - val_loss: 1.1586 - val_accuracy: 0.6223\n",
            "Epoch 16/100\n",
            "35/35 [==============================] - ETA: 0s - loss: 0.2033 - accuracy: 0.9088\n",
            "Epoch 00016: val_loss improved from 1.13760 to 1.12039, saving model to /content/gdrive/My Drive/tfm/model_weights_v1.h5\n",
            "35/35 [==============================] - 29s 827ms/step - loss: 0.2033 - accuracy: 0.9088 - val_loss: 1.1204 - val_accuracy: 0.6355\n",
            "Epoch 17/100\n",
            "35/35 [==============================] - ETA: 0s - loss: 0.1683 - accuracy: 0.9309\n",
            "Epoch 00017: val_loss improved from 1.12039 to 1.11809, saving model to /content/gdrive/My Drive/tfm/model_weights_v1.h5\n",
            "35/35 [==============================] - 29s 823ms/step - loss: 0.1683 - accuracy: 0.9309 - val_loss: 1.1181 - val_accuracy: 0.6365\n",
            "Epoch 18/100\n",
            "35/35 [==============================] - ETA: 0s - loss: 0.1585 - accuracy: 0.9374\n",
            "Epoch 00018: val_loss did not improve from 1.11809\n",
            "35/35 [==============================] - 27s 778ms/step - loss: 0.1585 - accuracy: 0.9374 - val_loss: 1.1192 - val_accuracy: 0.6359\n",
            "Epoch 19/100\n",
            "35/35 [==============================] - ETA: 0s - loss: 0.1514 - accuracy: 0.9411\n",
            "Epoch 00019: val_loss did not improve from 1.11809\n",
            "35/35 [==============================] - 27s 780ms/step - loss: 0.1514 - accuracy: 0.9411 - val_loss: 1.1211 - val_accuracy: 0.6355\n",
            "Epoch 20/100\n",
            "35/35 [==============================] - ETA: 0s - loss: 0.1449 - accuracy: 0.9446\n",
            "Epoch 00020: val_loss did not improve from 1.11809\n",
            "35/35 [==============================] - 27s 780ms/step - loss: 0.1449 - accuracy: 0.9446 - val_loss: 1.1230 - val_accuracy: 0.6356\n",
            "Epoch 21/100\n",
            "35/35 [==============================] - ETA: 0s - loss: 0.1372 - accuracy: 0.9501\n",
            "Epoch 00021: val_loss did not improve from 1.11809\n",
            "35/35 [==============================] - 27s 780ms/step - loss: 0.1372 - accuracy: 0.9501 - val_loss: 1.1227 - val_accuracy: 0.6359\n",
            "Epoch 22/100\n",
            "35/35 [==============================] - ETA: 0s - loss: 0.1367 - accuracy: 0.9501\n",
            "Epoch 00022: val_loss did not improve from 1.11809\n",
            "35/35 [==============================] - 27s 782ms/step - loss: 0.1367 - accuracy: 0.9501 - val_loss: 1.1226 - val_accuracy: 0.6362\n",
            "Epoch 23/100\n",
            "35/35 [==============================] - ETA: 0s - loss: 0.1357 - accuracy: 0.9507\n",
            "Epoch 00023: val_loss did not improve from 1.11809\n",
            "35/35 [==============================] - 27s 776ms/step - loss: 0.1357 - accuracy: 0.9507 - val_loss: 1.1227 - val_accuracy: 0.6362\n",
            "Epoch 24/100\n",
            "35/35 [==============================] - ETA: 0s - loss: 0.1355 - accuracy: 0.9510\n",
            "Epoch 00024: val_loss did not improve from 1.11809\n",
            "35/35 [==============================] - 27s 776ms/step - loss: 0.1355 - accuracy: 0.9510 - val_loss: 1.1227 - val_accuracy: 0.6362\n",
            "Epoch 25/100\n",
            "35/35 [==============================] - ETA: 0s - loss: 0.1351 - accuracy: 0.9509\n",
            "Epoch 00025: val_loss did not improve from 1.11809\n",
            "35/35 [==============================] - 27s 774ms/step - loss: 0.1351 - accuracy: 0.9509 - val_loss: 1.1227 - val_accuracy: 0.6362\n",
            "Epoch 26/100\n",
            "35/35 [==============================] - ETA: 0s - loss: 0.1350 - accuracy: 0.9510\n",
            "Epoch 00026: val_loss did not improve from 1.11809\n",
            "35/35 [==============================] - 27s 779ms/step - loss: 0.1350 - accuracy: 0.9510 - val_loss: 1.1227 - val_accuracy: 0.6363\n",
            "Epoch 27/100\n",
            "35/35 [==============================] - ETA: 0s - loss: 0.1354 - accuracy: 0.9510\n",
            "Epoch 00027: val_loss did not improve from 1.11809\n",
            "35/35 [==============================] - 27s 778ms/step - loss: 0.1354 - accuracy: 0.9510 - val_loss: 1.1227 - val_accuracy: 0.6363\n"
          ],
          "name": "stdout"
        }
      ]
    },
    {
      "cell_type": "code",
      "metadata": {
        "id": "-1g1Jb0mQgWh",
        "colab_type": "code",
        "colab": {
          "base_uri": "https://localhost:8080/",
          "height": 320
        },
        "outputId": "5accd9fe-94c1-4f01-fe07-d2df5e30c7aa"
      },
      "source": [
        "#get all the data and plot it\n",
        "#history.history dictionary containing loss and any extra metrics \n",
        "#history.params training parameters\n",
        "#history.epoch list of epochs\n",
        "pd.DataFrame(history.history).plot(figsize=(8,5))\n",
        "plt.grid(True)\n",
        "plt.show()"
      ],
      "execution_count": 17,
      "outputs": [
        {
          "output_type": "display_data",
          "data": {
            "image/png": "[encoded data removed]",
            "text/plain": [
              "<Figure size 576x360 with 1 Axes>"
            ]
          },
          "metadata": {
            "tags": [],
            "needs_background": "light"
          }
        }
      ]
    },
    {
      "cell_type": "markdown",
      "metadata": {
        "id": "QGKCorLxM_8C",
        "colab_type": "text"
      },
      "source": [
        "#4) Encoder-Decoder for inference"
      ]
    },
    {
      "cell_type": "code",
      "metadata": {
        "id": "eK0I7C5eMp-F",
        "colab_type": "code",
        "colab": {
          "base_uri": "https://localhost:8080/",
          "height": 766
        },
        "outputId": "205c640f-ab79-492a-91cb-b8cd92d1b8e9"
      },
      "source": [
        "##############Model modified for INFERENCE##################\n",
        "\n",
        "# encoder_model_inference is the same as in training\n",
        "encoder_inf = Model(encoder_input, [encoder_output, state_h])\n",
        "\n",
        "encoder_inf.save(\"/content/gdrive/My Drive/tfm/encoder_inf_model_v1.h5\")\n",
        "encoder_inf.save_weights(\"/content/gdrive/My Drive/tfm/encoder_inf_weights_v1.h5\")\n",
        "\n",
        "# decoder_model_inference\n",
        "decoder_inf_state_input_h = Input(shape=(nodes * 2,), name=\"encoder_hidden_state\") #Encoder hidden states\n",
        "\n",
        "# decoder_inputs\n",
        "decoder_inf_input = Input(shape=(1,)) #Input fro inference decoding is 1 word at a time\n",
        "decoder_inf_input_emb = Embedding(en_vocab_size, 300, \\\n",
        "                                  weights=[emb_en], mask_zero=True)(decoder_inf_input)\n",
        "\n",
        "# decoder\n",
        "decoder_inf_gru = GRU(nodes  * 2, return_sequences=True, return_state=True, unroll=True)\n",
        "decoder_inf, h_inf = decoder_gru(decoder_inf_input_emb, initial_state=decoder_inf_state_input_h)\n",
        "decoder_inf_state = h_inf\n",
        "\n",
        "decoder_inf_output = Dense(en_vocab_size, activation=\"softmax\")(decoder_inf)\n",
        "\n",
        "\n",
        "decoder_inf_model = Model([decoder_inf_input, decoder_inf_state_input_h], \\\n",
        "                          [decoder_inf_output, decoder_inf_state])\n",
        "\n",
        "decoder_inf_model.summary()\n",
        "\n",
        "plot_model(decoder_inf_model, to_file=\"/content/gdrive/My Drive/tfm/decoder_inf_model_v1.png\", \\\n",
        "           show_shapes=True, show_layer_names=True)\n",
        "\n",
        "decoder_inf_model.save(\"/content/gdrive/My Drive/tfm/decoder_inf_model_v1.h5\")\n",
        "decoder_inf_model.save_weights(\"/content/gdrive/My Drive/tfm/decoder_inf_weights_v1.h5\")\n",
        "plot_model(decoder_inf_model, to_file=\"/content/gdrive/My Drive/tfm/model_inf_v1.png\", show_shapes=True)"
      ],
      "execution_count": 18,
      "outputs": [
        {
          "output_type": "stream",
          "text": [
            "WARNING:tensorflow:Layer gru will not use cuDNN kernel since it doesn't meet the cuDNN kernel criteria. It will use generic GPU kernel as fallback when running on GPU\n",
            "Model: \"functional_7\"\n",
            "__________________________________________________________________________________________________\n",
            "Layer (type)                    Output Shape         Param #     Connected to                     \n",
            "==================================================================================================\n",
            "input_3 (InputLayer)            [(None, 1)]          0                                            \n",
            "__________________________________________________________________________________________________\n",
            "embedding_4 (Embedding)         (None, 1, 300)       1614300     input_3[0][0]                    \n",
            "__________________________________________________________________________________________________\n",
            "encoder_hidden_state (InputLaye [(None, 2048)]       0                                            \n",
            "__________________________________________________________________________________________________\n",
            "decoder_gru (GRU)               multiple             14438400    embedding_4[0][0]                \n",
            "                                                                 encoder_hidden_state[0][0]       \n",
            "__________________________________________________________________________________________________\n",
            "dense_2 (Dense)                 (None, 1, 5381)      11025669    decoder_gru[1][0]                \n",
            "==================================================================================================\n",
            "Total params: 27,078,369\n",
            "Trainable params: 27,078,369\n",
            "Non-trainable params: 0\n",
            "__________________________________________________________________________________________________\n"
          ],
          "name": "stdout"
        },
        {
          "output_type": "execute_result",
          "data": {
            "image/png": "[encoded data removed]",
            "text/plain": [
              "<IPython.core.display.Image object>"
            ]
          },
          "metadata": {
            "tags": []
          },
          "execution_count": 18
        }
      ]
    },
    {
      "cell_type": "markdown",
      "metadata": {
        "id": "AP9cPIj_NP79",
        "colab_type": "text"
      },
      "source": [
        "#5 Inference Loop"
      ]
    },
    {
      "cell_type": "code",
      "metadata": {
        "id": "CWk5D3PNNPLK",
        "colab_type": "code",
        "colab": {}
      },
      "source": [
        "#Reverse dictionary integer-word\n",
        "\n",
        "decoding_dict = {v: k for k, v in en_tokenizer_lang.word_index.items()}\n",
        "\n",
        "decode_zh = {v: k for k, v in zh_tokenizer_lang.word_index.items()}\n",
        "decode_en = {v: k for k, v in en_tokenizer_lang.word_index.items()}"
      ],
      "execution_count": 19,
      "outputs": []
    },
    {
      "cell_type": "code",
      "metadata": {
        "id": "CzVgO5zYNWCS",
        "colab_type": "code",
        "colab": {}
      },
      "source": [
        "def translate_sentence(input_sentence, target_tokenizer, decoding_dict, output_max_len):\n",
        "    encoder_output, states_value = encoder_inf.predict(input_sentence)\n",
        "\n",
        "    target_sequence = np.zeros((1, 1))\n",
        "    target_sequence[0, 0] = target_tokenizer.word_index.get(\"start\")\n",
        "    end_of_sequence = target_tokenizer.word_index.get(\"end\")\n",
        "\n",
        "    translated_sentence = []\n",
        "\n",
        "    for i in range(output_max_len):\n",
        "        output_token, decoder_states = decoder_inf_model.predict([target_sequence, states_value])\n",
        "        id_word = np.argmax(output_token[0, -1, :])\n",
        "\n",
        "        if id_word == end_of_sequence or input_sentence[0][i] == 0:  #this is wrong so far\n",
        "            break\n",
        "\n",
        "        decoded_word = \"\"\n",
        "\n",
        "        if id_word > 0:\n",
        "            decoded_word = decoding_dict[id_word]\n",
        "            translated_sentence.append(decoded_word)\n",
        "\n",
        "        target_sequence[0, 0] = id_word\n",
        "        states_value = decoder_states\n",
        "\n",
        "    return \" \".join(translated_sentence)"
      ],
      "execution_count": 20,
      "outputs": []
    },
    {
      "cell_type": "code",
      "metadata": {
        "id": "gil4nbsvhWfg",
        "colab_type": "code",
        "colab": {
          "base_uri": "https://localhost:8080/",
          "height": 35
        },
        "outputId": "c03c8118-9bee-4552-9a25-520e8a5c01aa"
      },
      "source": [
        "src= zh_test[0:1]\n",
        "zh_tokenizer_lang.sequences_to_texts(src)"
      ],
      "execution_count": 21,
      "outputs": [
        {
          "output_type": "execute_result",
          "data": {
            "text/plain": [
              "['他 昨天 來 看 你 。']"
            ]
          },
          "metadata": {
            "tags": []
          },
          "execution_count": 21
        }
      ]
    },
    {
      "cell_type": "code",
      "metadata": {
        "id": "alhumrWJhfxD",
        "colab_type": "code",
        "colab": {
          "base_uri": "https://localhost:8080/",
          "height": 35
        },
        "outputId": "21669631-9874-4126-c88c-b08765c5bbab"
      },
      "source": [
        "tr = translate_sentence(src, en_tokenizer_lang, decode_en, global_max_len)\n",
        "tr"
      ],
      "execution_count": 22,
      "outputs": [
        {
          "output_type": "execute_result",
          "data": {
            "application/vnd.google.colaboratory.intrinsic+json": {
              "type": "string"
            },
            "text/plain": [
              "'unhappy armed pride dripping massage distance'"
            ]
          },
          "metadata": {
            "tags": []
          },
          "execution_count": 22
        }
      ]
    },
    {
      "cell_type": "markdown",
      "metadata": {
        "id": "_eMsB1dYNZe0",
        "colab_type": "text"
      },
      "source": [
        "#6) Evaluate model"
      ]
    },
    {
      "cell_type": "code",
      "metadata": {
        "id": "x-_mDUC8NdYW",
        "colab_type": "code",
        "colab": {}
      },
      "source": [
        "def translate_corpus(corpus, tokenizer, decoding_dict, output_max_len):\n",
        "    corpus_list = list()\n",
        "    for i in range(0, len(corpus)):\n",
        "        line = translate_sentence(corpus[i:i + 1], tokenizer, decoding_dict, output_max_len)\n",
        "        corpus_list.append(line)\n",
        "    return corpus_list"
      ],
      "execution_count": 23,
      "outputs": []
    },
    {
      "cell_type": "code",
      "metadata": {
        "id": "qN9vE-SsNgFf",
        "colab_type": "code",
        "colab": {}
      },
      "source": [
        "#######Model Evaluation######3\n",
        "decode_zh = {v: k for k, v in zh_tokenizer_lang.word_index.items()}\n",
        "decode_en = {v: k for k, v in en_tokenizer_lang.word_index.items()}\n",
        "\n",
        "decode_zh.update({0: \"0\"})\n",
        "decode_en.update({0: \"0\"})"
      ],
      "execution_count": 24,
      "outputs": []
    },
    {
      "cell_type": "code",
      "metadata": {
        "id": "ENON5uo5N80G",
        "colab_type": "code",
        "colab": {}
      },
      "source": [
        "def decode_source(sentence):\n",
        "    sent = np.ndarray.tolist(sentence)\n",
        "    words = [decode_zh.get(letter) for letter in sent]\n",
        "    my_texts = ([\"\".join(words[i]) for i in range(len(words))])\n",
        "    text = [i for i in my_texts if i != \"0\"]\n",
        "    return text\n",
        "\n",
        "\n",
        "def decode_target(sentence):\n",
        "    sent = np.ndarray.tolist(sentence)\n",
        "    words = [decode_en.get(letter) for letter in sent]\n",
        "    my_texts = ([\"\".join(words[i]) for i in range(len(words))])\n",
        "    text = [i for i in my_texts if i != \"0\"]\n",
        "    return text\n"
      ],
      "execution_count": 25,
      "outputs": []
    },
    {
      "cell_type": "code",
      "metadata": {
        "id": "4FrWwZUINjAp",
        "colab_type": "code",
        "colab": {}
      },
      "source": [
        "# tokenizer = en_tokenizer_lang\n",
        "# output_max_len = global_max_len\n",
        "# decoding_dict = decode_zh\n",
        "def evaluate_model(source_corpus, target_corpus):\n",
        "    original = source_corpus   #format: list of sentences as words\n",
        "    actual = [decode_target(target_corpus[i]) for i in\n",
        "              range(len(target_corpus))] #format: list of sentence as tokens\n",
        "    predicted = translate_corpus(source_corpus, en_tokenizer_lang, \\\n",
        "                                 decoding_dict=decode_en, output_max_len=global_max_len)\n",
        "\n",
        "    print('BLEU-1: %f' % corpus_bleu(actual, predicted, weights=(1.0, 0, 0, 0)))\n",
        "    print('BLEU-2: %f' % corpus_bleu(actual, predicted, weights=(0.5, 0.5, 0, 0)))\n",
        "    print('BLEU-3: %f' % corpus_bleu(actual, predicted, weights=(0.3, 0.3, 0.3, 0)))\n",
        "    print('BLEU-4: %f' % corpus_bleu(actual, predicted, weights=(0.25, 0.25, 0.25, 0.25)))"
      ],
      "execution_count": 26,
      "outputs": []
    },
    {
      "cell_type": "code",
      "metadata": {
        "id": "3_Hud1nYOBNQ",
        "colab_type": "code",
        "colab": {
          "base_uri": "https://localhost:8080/",
          "height": 90
        },
        "outputId": "34be8897-d526-43c5-a4ed-bf0d3160dd6e"
      },
      "source": [
        "c = zh_test[0:1000]\n",
        "p = en_test[0:1000]\n",
        "evaluacion = evaluate_model(c, p)"
      ],
      "execution_count": 27,
      "outputs": [
        {
          "output_type": "stream",
          "text": [
            "BLEU-1: 0.277710\n",
            "BLEU-2: 0.148131\n",
            "BLEU-3: 0.078011\n",
            "BLEU-4: 0.022116\n"
          ],
          "name": "stdout"
        }
      ]
    }
  ]
}