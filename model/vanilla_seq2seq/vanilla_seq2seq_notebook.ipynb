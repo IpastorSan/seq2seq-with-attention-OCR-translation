{
  "nbformat": 4,
  "nbformat_minor": 0,
  "metadata": {
    "colab": {
      "name": "vanilla_seq2seq_notebook.ipynb",
      "provenance": [],
      "toc_visible": true,
      "authorship_tag": "ABX9TyPWPa3mV8qV5+Y1G0y79Nlx",
      "include_colab_link": true
    },
    "kernelspec": {
      "name": "python3",
      "display_name": "Python 3"
    }
  },
  "cells": [
    {
      "cell_type": "markdown",
      "metadata": {
        "id": "view-in-github",
        "colab_type": "text"
      },
      "source": [
        "<a href=\"https://colab.research.google.com/github/IpastorSan/seq2seq-with-attention-OCR-translation/blob/fix_inference/model/vanilla_seq2seq/vanilla_seq2seq_notebook.ipynb\" target=\"_parent\"><img src=\"https://colab.research.google.com/assets/colab-badge.svg\" alt=\"Open In Colab\"/></a>"
      ]
    },
    {
      "cell_type": "code",
      "metadata": {
        "id": "OpQh1Af3JigD",
        "colab_type": "code",
        "colab": {
          "base_uri": "https://localhost:8080/",
          "height": 128
        },
        "outputId": "4d4733e0-b1df-44f4-d112-644b4e509abe"
      },
      "source": [
        "from google.colab import drive\n",
        "drive.mount(\"/content/gdrive\")"
      ],
      "execution_count": 1,
      "outputs": [
        {
          "output_type": "stream",
          "text": [
            "Go to this URL in a browser: https://accounts.google.com/o/oauth2/auth?client_id=947318989803-6bn6qk8qdgf4n4g3pfee6491hc0brc4i.apps.googleusercontent.com&redirect_uri=urn%3aietf%3awg%3aoauth%3a2.0%3aoob&scope=email%20https%3a%2f%2fwww.googleapis.com%2fauth%2fdocs.test%20https%3a%2f%2fwww.googleapis.com%2fauth%2fdrive%20https%3a%2f%2fwww.googleapis.com%2fauth%2fdrive.photos.readonly%20https%3a%2f%2fwww.googleapis.com%2fauth%2fpeopleapi.readonly&response_type=code\n",
            "\n",
            "Enter your authorization code:\n",
            "··········\n",
            "Mounted at /content/gdrive\n"
          ],
          "name": "stdout"
        }
      ]
    },
    {
      "cell_type": "markdown",
      "metadata": {
        "id": "6pYVrTCkLTDc",
        "colab_type": "text"
      },
      "source": [
        "#1)Relevant Imports"
      ]
    },
    {
      "cell_type": "code",
      "metadata": {
        "id": "_Rt1AnZxJcwT",
        "colab_type": "code",
        "colab": {}
      },
      "source": [
        "import numpy as np\n",
        "import tensorflow as tf\n",
        "from tensorflow.keras.models import Model\n",
        "from tensorflow.keras.utils import plot_model\n",
        "from tensorflow.keras.layers import GRU, LSTM, Input, Dense, Embedding, Bidirectional, Concatenate\n",
        "from tensorflow.keras.callbacks import ModelCheckpoint\n",
        "from tensorflow.keras.optimizers import RMSprop\n",
        "from tensorflow.keras.preprocessing.text import Tokenizer\n",
        "from sklearn.model_selection import train_test_split\n",
        "from gensim.models import Word2Vec, KeyedVectors\n",
        "from nltk.translate.bleu_score import corpus_bleu\n",
        "import pandas as pd\n",
        "import matplotlib.pyplot as plt"
      ],
      "execution_count": 2,
      "outputs": []
    },
    {
      "cell_type": "code",
      "metadata": {
        "id": "DpxXjopzJsGu",
        "colab_type": "code",
        "colab": {}
      },
      "source": [
        "######Data Preparation#######\n",
        "\n",
        "def open_data(dataset, num_examples=None):\n",
        "    with open(dataset) as archivo:\n",
        "        datos = [line.rstrip('\\n') for line in archivo]\n",
        "        corpus = datos[:num_examples]\n",
        "\n",
        "    return corpus\n",
        "\n",
        "\n",
        "# Corpus. Adapt the path to your directory\n",
        "num_examples = 20000\n",
        "corpus_zh = open_data(\"/content/gdrive/My Drive/tfm/dataset_zh.txt\", num_examples=num_examples)\n",
        "corpus_en = open_data(\"/content/gdrive/My Drive/tfm/dataset_en.txt\", num_examples=num_examples)\n"
      ],
      "execution_count": 3,
      "outputs": []
    },
    {
      "cell_type": "markdown",
      "metadata": {
        "id": "USHgDtg7LlCs",
        "colab_type": "text"
      },
      "source": [
        "#2)Maximum length, Tokenizer, Pretrained, embeddings and batch generator"
      ]
    },
    {
      "cell_type": "markdown",
      "metadata": {
        "id": "9GemLVtJL0wS",
        "colab_type": "text"
      },
      "source": [
        "##2.1)max len"
      ]
    },
    {
      "cell_type": "code",
      "metadata": {
        "id": "SDaZZCJxJxpL",
        "colab_type": "code",
        "colab": {}
      },
      "source": [
        "def max_len(data):\n",
        "    return max(len(line.split()) for line in data)\n",
        "\n",
        "# Set max len\n",
        "zh_max_len = max_len(corpus_zh)\n",
        "en_max_len = max_len(corpus_en)\n",
        "global_max_len = max(en_max_len, zh_max_len)  #This helps us when training the model, setting all lengths to the maximum"
      ],
      "execution_count": 4,
      "outputs": []
    },
    {
      "cell_type": "markdown",
      "metadata": {
        "id": "vNChBLNIL3x2",
        "colab_type": "text"
      },
      "source": [
        "##2.2 Tokenizer"
      ]
    },
    {
      "cell_type": "code",
      "metadata": {
        "id": "XNC-wyTdJ_6H",
        "colab_type": "code",
        "colab": {}
      },
      "source": [
        "def tokenizer(dataset, max_len, max_features, language=\"en\"):\n",
        "    tokenizer_lang = Tokenizer(num_words=max_features, filters=\"\")\n",
        "\n",
        "    tokenizer_lang.fit_on_texts(dataset)\n",
        "\n",
        "    word_tensor = tokenizer_lang.texts_to_sequences(dataset)\n",
        "    word_tensor = tf.keras.preprocessing.sequence.pad_sequences(word_tensor,maxlen=max_len, padding=\"post\")\n",
        "\n",
        "    return tokenizer_lang, word_tensor  #dictionary with tokenized words/sequences translated to numbers\n",
        "\n",
        "# Tokenizacion. We obtain tokenizer and sequences\n",
        "zh_tokenizer_lang, zh_word_tensor = tokenizer(corpus_zh, global_max_len, max_features=5381)\n",
        "en_tokenizer_lang, en_word_tensor = tokenizer(corpus_en, global_max_len, max_features=5381)"
      ],
      "execution_count": 5,
      "outputs": []
    },
    {
      "cell_type": "code",
      "metadata": {
        "id": "qk6mG-wtKAAc",
        "colab_type": "code",
        "colab": {}
      },
      "source": [
        "# Length of each set of vocabulary\n",
        "zh_vocab_size = len(zh_tokenizer_lang.word_index)\n",
        "en_vocab_size = len(en_tokenizer_lang.word_index)"
      ],
      "execution_count": 6,
      "outputs": []
    },
    {
      "cell_type": "code",
      "metadata": {
        "id": "M6ZA6sQkKGIh",
        "colab_type": "code",
        "colab": {}
      },
      "source": [
        "#Split the dataset into train and test sets\n",
        "zh_train, zh_test, en_train, en_test = train_test_split(zh_word_tensor, en_word_tensor, test_size=0.1, random_state=13)"
      ],
      "execution_count": 7,
      "outputs": []
    },
    {
      "cell_type": "markdown",
      "metadata": {
        "id": "zC4QL5MgL6NA",
        "colab_type": "text"
      },
      "source": [
        "##2.3 Embeddings"
      ]
    },
    {
      "cell_type": "code",
      "metadata": {
        "id": "4YDeJQLhKIlD",
        "colab_type": "code",
        "colab": {}
      },
      "source": [
        "#Preparation of embedding files.\n",
        "#Source Chinese Embedding: https://github.com/Kyubyong/wordvectors\n",
        "#Source English Embedding: https://fasttext.cc/docs/en/english-vectors.html\n",
        "#All embeddings come from word2vec models\n",
        "\n",
        "embedding_file_en = \"/content/gdrive/My Drive/tfm/en.bin\"\n",
        "embedding_file_zh = \"/content/gdrive/My Drive/tfm/zh.bin\"\n",
        "\n",
        "\n",
        "def from_w2v_to_dict(embedding_file, lang=\"zh\"):\n",
        "    if lang == \"en\":\n",
        "        model = KeyedVectors.load_word2vec_format(embedding_file, binary=True)\n",
        "    else:\n",
        "        model = Word2Vec.load(embedding_file)\n",
        "\n",
        "    vector = model.wv.vectors\n",
        "    words = model.wv.index2word\n",
        "    union_embeddings = dict(zip(words, vector))\n",
        "    return union_embeddings"
      ],
      "execution_count": 8,
      "outputs": []
    },
    {
      "cell_type": "code",
      "metadata": {
        "id": "4Nl-GuUIKNIp",
        "colab_type": "code",
        "colab": {
          "base_uri": "https://localhost:8080/",
          "height": 128
        },
        "outputId": "75174110-73c3-448b-dd35-68c8839a348a"
      },
      "source": [
        "embedding_zh = from_w2v_to_dict(embedding_file_zh)\n",
        "embedding_en = from_w2v_to_dict(embedding_file_en, lang=\"en\")"
      ],
      "execution_count": 9,
      "outputs": [
        {
          "output_type": "stream",
          "text": [
            "/usr/local/lib/python3.6/dist-packages/smart_open/smart_open_lib.py:254: UserWarning: This function is deprecated, use smart_open.open instead. See the migration notes for details: https://github.com/RaRe-Technologies/smart_open/blob/master/README.rst#migrating-to-the-new-open-function\n",
            "  'See the migration notes for details: %s' % _MIGRATION_NOTES_URL\n",
            "/usr/local/lib/python3.6/dist-packages/ipykernel_launcher.py:16: DeprecationWarning: Call to deprecated `wv` (Attribute will be removed in 4.0.0, use self instead).\n",
            "  app.launch_new_instance()\n",
            "/usr/local/lib/python3.6/dist-packages/ipykernel_launcher.py:17: DeprecationWarning: Call to deprecated `wv` (Attribute will be removed in 4.0.0, use self instead).\n"
          ],
          "name": "stderr"
        }
      ]
    },
    {
      "cell_type": "code",
      "metadata": {
        "id": "39KWWLRRKO6-",
        "colab_type": "code",
        "colab": {}
      },
      "source": [
        "#Extract embedding weights to input into Keras Embedding Layer. Words not found in the embedding\n",
        "#will be substitued with a random vector with normal distribution with mean=embedding mean and std=embedding std\n",
        "\n",
        "\n",
        "def get_embedding_weights(embedd_dict, tokenizer_index, max_features=1000):\n",
        "    embed = list(embedd_dict.values())\n",
        "\n",
        "    all_embs = np.stack(embed)\n",
        "    emb_mean, emb_std = all_embs.mean(), all_embs.std()\n",
        "    embed_size = all_embs.shape[1]  # probar\n",
        "\n",
        "    word_index = tokenizer_index.word_index\n",
        "    nb_words = len(word_index)\n",
        "\n",
        "    embedding_matrix = np.random.normal(emb_mean, emb_std, \\\n",
        "                                        size=(nb_words, embed_size))\n",
        "\n",
        "    for word, i in word_index.items():\n",
        "        if i >= max_features:\n",
        "            continue\n",
        "        embedding_vector = np.array(embedd_dict.get(word))\n",
        "        if embedding_vector.size is not 1:\n",
        "            embedding_matrix[i] = embedding_vector\n",
        "\n",
        "    return embedding_matrix"
      ],
      "execution_count": 10,
      "outputs": []
    },
    {
      "cell_type": "code",
      "metadata": {
        "id": "2n1dowApKTLz",
        "colab_type": "code",
        "colab": {}
      },
      "source": [
        "emb_zh = get_embedding_weights(embedding_zh, zh_tokenizer_lang, max_features=zh_vocab_size)\n",
        "emb_en = emb = get_embedding_weights(embedding_en, en_tokenizer_lang, max_features=en_vocab_size)"
      ],
      "execution_count": 11,
      "outputs": []
    },
    {
      "cell_type": "markdown",
      "metadata": {
        "id": "fP9_Cj9qL9UA",
        "colab_type": "text"
      },
      "source": [
        "##2.4 Batch Generator"
      ]
    },
    {
      "cell_type": "code",
      "metadata": {
        "id": "-ShVu28rKXu9",
        "colab_type": "code",
        "colab": {}
      },
      "source": [
        "########Batch Generator for training. We also implement teacher forcing here######\n",
        "\n",
        "def generate_batch(X, y, global_max_len, vocab_size_out, batch_size):\n",
        "    while True:\n",
        "        for j in range(0, len(X), batch_size):\n",
        "            encoder_input_data = np.zeros((batch_size, global_max_len), dtype='float32')\n",
        "            decoder_input_data = np.zeros((batch_size, global_max_len), dtype='float32')\n",
        "            decoder_target_data = np.zeros((batch_size, global_max_len, vocab_size_out), dtype='float32')\n",
        "            for i, (input_text, target_text) in enumerate(zip(X[j:j + batch_size], y[j:j + batch_size])):\n",
        "                for t, word in enumerate(input_text):\n",
        "                    encoder_input_data[i, t] = word  # encoder input seq\n",
        "                for t, word in enumerate(target_text):\n",
        "                    if t < len(target_text) - 1:\n",
        "                        decoder_input_data[i, t] = word  # decoder input seq\n",
        "                    if t > 0:\n",
        "                        # decoder target sequence (one hot encoded)\n",
        "                        # does not include the \"start\" token and is offset by one timestep\n",
        "                        decoder_target_data[i, t - 1, word] = 1  # si el vector es (1, 2, 4) ese 4 es 0001\n",
        "            yield ([encoder_input_data, decoder_input_data], decoder_target_data)\n",
        "\n",
        "#This will be substitued by a tf.Dataset"
      ],
      "execution_count": 12,
      "outputs": []
    },
    {
      "cell_type": "code",
      "metadata": {
        "id": "9TByhXzFyOhk",
        "colab_type": "code",
        "colab": {
          "base_uri": "https://localhost:8080/",
          "height": 54
        },
        "outputId": "4c085809-ae03-420d-d3ab-f47161bb87a8"
      },
      "source": [
        "zh_word_tensor[1]"
      ],
      "execution_count": 13,
      "outputs": [
        {
          "output_type": "execute_result",
          "data": {
            "text/plain": [
              "array([  5, 125, 269,   3,   1,   0,   0,   0,   0,   0,   0,   0,   0,\n",
              "         0,   0,   0,   0], dtype=int32)"
            ]
          },
          "metadata": {
            "tags": []
          },
          "execution_count": 13
        }
      ]
    },
    {
      "cell_type": "code",
      "metadata": {
        "colab_type": "code",
        "id": "kq1jJywPECpE",
        "colab": {}
      },
      "source": [
        "########Batch Generator for training. We also implement teacher forcing here######\n",
        "#252 is hardcoded here, is intended to be the batch size of the generator\n",
        "def generate_batch():\n",
        "    while True:\n",
        "        for j in range(0, len(zh_word_tensor)):\n",
        "            encoder_input_data = np.zeros((global_max_len), dtype='float32')\n",
        "            decoder_input_data = np.zeros((global_max_len), dtype='float32')\n",
        "            decoder_target_data = np.zeros((global_max_len, en_vocab_size), dtype='float32')\n",
        "            for i, (input_text, target_text) in enumerate(zip(zh_word_tensor[j:j+1],en_word_tensor[j:j+1])):\n",
        "                for t, word in enumerate(input_text):\n",
        "                  encoder_input_data[t] = word  # encoder input seq\n",
        "                for t, word in enumerate(target_text):\n",
        "                    if t < len(target_text) - 1:\n",
        "                       decoder_input_data[t] = word  # decoder input seq\n",
        "                    if t > 0:\n",
        "                        # decoder target sequence (one hot encoded)\n",
        "                        # does not include the \"start\" token and is offset by one timestep\n",
        "                        decoder_target_data[t - 1, word] = 1  # si el vector es (1, 2, 4) ese 4 es 0001\n",
        "            yield ((encoder_input_data, decoder_input_data), decoder_target_data)\n",
        "\n",
        "types = ((tf.float32,\\\n",
        "         tf.float32),\\\n",
        "         tf.float32)           \n",
        "shapes=((tf.TensorShape([global_max_len]),tf.TensorShape([global_max_len])),\n",
        "        tf.TensorShape([None,en_vocab_size,]))\n",
        "dataset = tf.data.Dataset.from_generator(generate_batch, types, shapes)"
      ],
      "execution_count": 14,
      "outputs": []
    },
    {
      "cell_type": "code",
      "metadata": {
        "id": "-VwsUmXAZnmb",
        "colab_type": "code",
        "colab": {
          "base_uri": "https://localhost:8080/",
          "height": 254
        },
        "outputId": "1a62097f-39be-475c-e9ba-af847d699a0d"
      },
      "source": [
        "list(dataset.take(1).as_numpy_iterator())"
      ],
      "execution_count": 15,
      "outputs": [
        {
          "output_type": "execute_result",
          "data": {
            "text/plain": [
              "[((array([922.,   1.,   0.,   0.,   0.,   0.,   0.,   0.,   0.,   0.,   0.,\n",
              "            0.,   0.,   0.,   0.,   0.,   0.], dtype=float32),\n",
              "   array([1.000e+00, 1.562e+03, 3.000e+00, 2.000e+00, 0.000e+00, 0.000e+00,\n",
              "          0.000e+00, 0.000e+00, 0.000e+00, 0.000e+00, 0.000e+00, 0.000e+00,\n",
              "          0.000e+00, 0.000e+00, 0.000e+00, 0.000e+00, 0.000e+00],\n",
              "         dtype=float32)),\n",
              "  array([[0., 0., 0., ..., 0., 0., 0.],\n",
              "         [0., 0., 0., ..., 0., 0., 0.],\n",
              "         [0., 0., 1., ..., 0., 0., 0.],\n",
              "         ...,\n",
              "         [1., 0., 0., ..., 0., 0., 0.],\n",
              "         [1., 0., 0., ..., 0., 0., 0.],\n",
              "         [0., 0., 0., ..., 0., 0., 0.]], dtype=float32))]"
            ]
          },
          "metadata": {
            "tags": []
          },
          "execution_count": 15
        }
      ]
    },
    {
      "cell_type": "code",
      "metadata": {
        "id": "3bfmqkbql9ke",
        "colab_type": "code",
        "colab": {
          "base_uri": "https://localhost:8080/",
          "height": 35
        },
        "outputId": "6888284d-f275-4936-d0a5-265a8d277902"
      },
      "source": [
        "dataset.take(1)"
      ],
      "execution_count": 16,
      "outputs": [
        {
          "output_type": "execute_result",
          "data": {
            "text/plain": [
              "<TakeDataset shapes: (((17,), (17,)), (None, 5381)), types: ((tf.float32, tf.float32), tf.float32)>"
            ]
          },
          "metadata": {
            "tags": []
          },
          "execution_count": 16
        }
      ]
    },
    {
      "cell_type": "code",
      "metadata": {
        "id": "zBX1UripdYZE",
        "colab_type": "code",
        "colab": {}
      },
      "source": [
        "z = (next(generate_batch()))"
      ],
      "execution_count": 17,
      "outputs": []
    },
    {
      "cell_type": "code",
      "metadata": {
        "id": "Gps19yNEdetN",
        "colab_type": "code",
        "colab": {
          "base_uri": "https://localhost:8080/",
          "height": 35
        },
        "outputId": "7e5ac65b-22f2-4650-e1ed-cff7bef689a7"
      },
      "source": [
        "a = np.asarray(z[0][0])\n",
        "a.shape #encoder_input_data"
      ],
      "execution_count": 18,
      "outputs": [
        {
          "output_type": "execute_result",
          "data": {
            "text/plain": [
              "(17,)"
            ]
          },
          "metadata": {
            "tags": []
          },
          "execution_count": 18
        }
      ]
    },
    {
      "cell_type": "code",
      "metadata": {
        "id": "QJJOUMXAfEMW",
        "colab_type": "code",
        "colab": {
          "base_uri": "https://localhost:8080/",
          "height": 35
        },
        "outputId": "f97c6925-b935-4749-d4ec-9b80b02fca8e"
      },
      "source": [
        "a[1]"
      ],
      "execution_count": 19,
      "outputs": [
        {
          "output_type": "execute_result",
          "data": {
            "text/plain": [
              "1.0"
            ]
          },
          "metadata": {
            "tags": []
          },
          "execution_count": 19
        }
      ]
    },
    {
      "cell_type": "code",
      "metadata": {
        "id": "beNQwpZqeXQv",
        "colab_type": "code",
        "colab": {
          "base_uri": "https://localhost:8080/",
          "height": 35
        },
        "outputId": "01fdc9a6-a41b-4fdd-c0a1-e0b27087412e"
      },
      "source": [
        "b = np.asarray(z[0][1])\n",
        "b.shape #decoder_input_data"
      ],
      "execution_count": 20,
      "outputs": [
        {
          "output_type": "execute_result",
          "data": {
            "text/plain": [
              "(17,)"
            ]
          },
          "metadata": {
            "tags": []
          },
          "execution_count": 20
        }
      ]
    },
    {
      "cell_type": "code",
      "metadata": {
        "id": "2yl5-_bFfQan",
        "colab_type": "code",
        "colab": {
          "base_uri": "https://localhost:8080/",
          "height": 35
        },
        "outputId": "a01430da-0e93-4e4b-9d2e-14c7a06f8c3d"
      },
      "source": [
        "b[1]"
      ],
      "execution_count": 21,
      "outputs": [
        {
          "output_type": "execute_result",
          "data": {
            "text/plain": [
              "1562.0"
            ]
          },
          "metadata": {
            "tags": []
          },
          "execution_count": 21
        }
      ]
    },
    {
      "cell_type": "code",
      "metadata": {
        "id": "eddkcj80dx4g",
        "colab_type": "code",
        "colab": {
          "base_uri": "https://localhost:8080/",
          "height": 35
        },
        "outputId": "8a0004df-221f-4fa7-c09f-f5ddc1f41ee7"
      },
      "source": [
        "c = np.asarray(z[1])\n",
        "c.shape #decoder_target_data"
      ],
      "execution_count": 22,
      "outputs": [
        {
          "output_type": "execute_result",
          "data": {
            "text/plain": [
              "(17, 5381)"
            ]
          },
          "metadata": {
            "tags": []
          },
          "execution_count": 22
        }
      ]
    },
    {
      "cell_type": "code",
      "metadata": {
        "id": "xTu1gX2WfTwE",
        "colab_type": "code",
        "colab": {
          "base_uri": "https://localhost:8080/",
          "height": 35
        },
        "outputId": "24ea455b-a30b-4e46-af38-b848e3548b7d"
      },
      "source": [
        "c[1]"
      ],
      "execution_count": 23,
      "outputs": [
        {
          "output_type": "execute_result",
          "data": {
            "text/plain": [
              "array([0., 0., 0., ..., 0., 0., 0.], dtype=float32)"
            ]
          },
          "metadata": {
            "tags": []
          },
          "execution_count": 23
        }
      ]
    },
    {
      "cell_type": "code",
      "metadata": {
        "id": "qzL2tgVxBnP4",
        "colab_type": "code",
        "colab": {}
      },
      "source": [
        "train=int(len(en_word_tensor)*0.8)\n",
        "test=int(len(en_word_tensor)*0.2)\n",
        "dataset=dataset.shuffle(1000, reshuffle_each_iteration=False)\n",
        "dataset_train = dataset.skip(test).batch(512, drop_remainder=True)\n",
        "dataset_test = dataset.take(test).batch(512, drop_remainder=True)"
      ],
      "execution_count": 24,
      "outputs": []
    },
    {
      "cell_type": "markdown",
      "metadata": {
        "id": "BDSuN4_mMAUt",
        "colab_type": "text"
      },
      "source": [
        "#3) Encoder-Decoder for training"
      ]
    },
    {
      "cell_type": "code",
      "metadata": {
        "id": "TgqpryB1KZWx",
        "colab_type": "code",
        "colab": {
          "base_uri": "https://localhost:8080/",
          "height": 920
        },
        "outputId": "56a43abd-4829-4517-c53b-be6a50e9d6ca"
      },
      "source": [
        "###########Model for training. GRU units, Bidirectional, without Attention#########\n",
        "\n",
        "#Model seq2seq\n",
        "\n",
        "nodes = 1024\n",
        "learning_rate = 0.001\n",
        "clip_value = 1\n",
        "dropout = 0.01\n",
        "\n",
        "# encoder-Chinese\n",
        "encoder_input = Input(shape=(None,))\n",
        "#mask_zero=True allows for the padding 0 at the end of the sequence to be ignored\n",
        "encoder_embedding = Embedding(input_dim=zh_vocab_size, output_dim=300, mask_zero=True)(encoder_input)\n",
        "encoder_gru = GRU(nodes, return_state=True, name=\"encoder_gru\")\n",
        "encoder_output, state_h= encoder_gru(encoder_embedding)\n",
        "\n",
        "\n",
        "\n",
        "# decoder-English\n",
        "decoder_input = Input(shape=(None,), name=\"decoder_input\")\n",
        "decoder_emb = Embedding(en_vocab_size, 300,mask_zero=True)(decoder_input)\n",
        "\n",
        "\n",
        "decoder_gru = GRU(nodes, return_sequences=True, return_state=True,name=\"decoder_gru\")\n",
        "\n",
        "decoder_output, _ = decoder_gru(decoder_emb, initial_state=state_h)\n",
        "\n",
        "#Decoder Output\n",
        "decoder_dense_output = Dense(en_vocab_size, activation=\"softmax\")(decoder_output)\n",
        "\n",
        "model = Model(inputs=[encoder_input, decoder_input], outputs=[decoder_dense_output])\n",
        "\n",
        "# compile model\n",
        "model.compile(optimizer=tf.keras.optimizers.Adam(learning_rate=learning_rate, clipvalue=clip_value),\\\n",
        "              loss=\"categorical_crossentropy\")\n",
        "# Summarize compiled model\n",
        "model.summary()\n",
        "plot_model(model, to_file=\"/content/gdrive/My Drive/tfm/model_v1.png\", show_shapes=True)"
      ],
      "execution_count": 32,
      "outputs": [
        {
          "output_type": "stream",
          "text": [
            "Model: \"functional_9\"\n",
            "__________________________________________________________________________________________________\n",
            "Layer (type)                    Output Shape         Param #     Connected to                     \n",
            "==================================================================================================\n",
            "input_5 (InputLayer)            [(None, None)]       0                                            \n",
            "__________________________________________________________________________________________________\n",
            "decoder_input (InputLayer)      [(None, None)]       0                                            \n",
            "__________________________________________________________________________________________________\n",
            "embedding_6 (Embedding)         (None, None, 300)    3168600     input_5[0][0]                    \n",
            "__________________________________________________________________________________________________\n",
            "embedding_7 (Embedding)         (None, None, 300)    1614300     decoder_input[0][0]              \n",
            "__________________________________________________________________________________________________\n",
            "encoder_gru (GRU)               [(None, 1024), (None 4073472     embedding_6[0][0]                \n",
            "__________________________________________________________________________________________________\n",
            "decoder_gru (GRU)               [(None, None, 1024), 4073472     embedding_7[0][0]                \n",
            "                                                                 encoder_gru[0][1]                \n",
            "__________________________________________________________________________________________________\n",
            "dense_4 (Dense)                 (None, None, 5381)   5515525     decoder_gru[0][0]                \n",
            "==================================================================================================\n",
            "Total params: 18,445,369\n",
            "Trainable params: 18,445,369\n",
            "Non-trainable params: 0\n",
            "__________________________________________________________________________________________________\n"
          ],
          "name": "stdout"
        },
        {
          "output_type": "execute_result",
          "data": {
            "image/png": "[encoded data removed]",
            "text/plain": [
              "<IPython.core.display.Image object>"
            ]
          },
          "metadata": {
            "tags": []
          },
          "execution_count": 32
        }
      ]
    },
    {
      "cell_type": "code",
      "metadata": {
        "id": "AAoBnHs6K5LS",
        "colab_type": "code",
        "colab": {
          "base_uri": "https://localhost:8080/",
          "height": 431
        },
        "outputId": "4fc4a5fd-ec27-4399-b1a0-27d477ca4e01"
      },
      "source": [
        "# fit model\n",
        "\n",
        "epochs = 100\n",
        "b_size = 512\n",
        "checkpoint = ModelCheckpoint(\"/content/gdrive/My Drive/tfm/model_weights_v1.h5\", monitor=\"val_loss\",\\\n",
        "                             verbose=1, save_best_only=True , mode=\"min\", save_weights_only=True)\n",
        "lr_scheduler = tf.keras.callbacks.ReduceLROnPlateau(monitor=\"val_loss\", factor=0.1, patience=3)\n",
        "early_stopping = tf.keras.callbacks.EarlyStopping(monitor=\"val_loss\", patience=10)\n",
        "\n",
        "history = model.fit(dataset_train, \\\n",
        "          epochs=epochs,\n",
        "          steps_per_epoch= (len(zh_word_tensor)*0.8)//512,\n",
        "          validation_data=dataset_test,\n",
        "          validation_steps=(len(zh_word_tensor)*0.2)//512,\n",
        "          workers=0,\n",
        "          verbose=1, \\\n",
        "          callbacks=[checkpoint, lr_scheduler, early_stopping], )\n",
        "\n",
        "model.save(\"/content/gdrive/My Drive/tfm/model_complete_v1.h5\")\n"
      ],
      "execution_count": 27,
      "outputs": [
        {
          "output_type": "stream",
          "text": [
            "Epoch 1/100\n"
          ],
          "name": "stdout"
        },
        {
          "output_type": "error",
          "ename": "KeyboardInterrupt",
          "evalue": "ignored",
          "traceback": [
            "\u001b[0;31m---------------------------------------------------------------------------\u001b[0m",
            "\u001b[0;31mKeyboardInterrupt\u001b[0m                         Traceback (most recent call last)",
            "\u001b[0;32m<ipython-input-27-a244777ce13e>\u001b[0m in \u001b[0;36m<module>\u001b[0;34m()\u001b[0m\n\u001b[1;32m     13\u001b[0m           \u001b[0mworkers\u001b[0m\u001b[0;34m=\u001b[0m\u001b[0;36m0\u001b[0m\u001b[0;34m,\u001b[0m\u001b[0;34m\u001b[0m\u001b[0;34m\u001b[0m\u001b[0m\n\u001b[1;32m     14\u001b[0m           \u001b[0mverbose\u001b[0m\u001b[0;34m=\u001b[0m\u001b[0;36m1\u001b[0m\u001b[0;34m,\u001b[0m\u001b[0;31m \u001b[0m\u001b[0;31m\\\u001b[0m\u001b[0;34m\u001b[0m\u001b[0;34m\u001b[0m\u001b[0m\n\u001b[0;32m---> 15\u001b[0;31m           callbacks=[checkpoint, lr_scheduler, early_stopping], )\n\u001b[0m\u001b[1;32m     16\u001b[0m \u001b[0;34m\u001b[0m\u001b[0m\n\u001b[1;32m     17\u001b[0m \u001b[0mmodel\u001b[0m\u001b[0;34m.\u001b[0m\u001b[0msave\u001b[0m\u001b[0;34m(\u001b[0m\u001b[0;34m\"/content/gdrive/My Drive/tfm/model_complete_v1.h5\"\u001b[0m\u001b[0;34m)\u001b[0m\u001b[0;34m\u001b[0m\u001b[0;34m\u001b[0m\u001b[0m\n",
            "\u001b[0;32m/usr/local/lib/python3.6/dist-packages/tensorflow/python/keras/engine/training.py\u001b[0m in \u001b[0;36m_method_wrapper\u001b[0;34m(self, *args, **kwargs)\u001b[0m\n\u001b[1;32m    106\u001b[0m   \u001b[0;32mdef\u001b[0m \u001b[0m_method_wrapper\u001b[0m\u001b[0;34m(\u001b[0m\u001b[0mself\u001b[0m\u001b[0;34m,\u001b[0m \u001b[0;34m*\u001b[0m\u001b[0margs\u001b[0m\u001b[0;34m,\u001b[0m \u001b[0;34m**\u001b[0m\u001b[0mkwargs\u001b[0m\u001b[0;34m)\u001b[0m\u001b[0;34m:\u001b[0m\u001b[0;34m\u001b[0m\u001b[0;34m\u001b[0m\u001b[0m\n\u001b[1;32m    107\u001b[0m     \u001b[0;32mif\u001b[0m \u001b[0;32mnot\u001b[0m \u001b[0mself\u001b[0m\u001b[0;34m.\u001b[0m\u001b[0m_in_multi_worker_mode\u001b[0m\u001b[0;34m(\u001b[0m\u001b[0;34m)\u001b[0m\u001b[0;34m:\u001b[0m  \u001b[0;31m# pylint: disable=protected-access\u001b[0m\u001b[0;34m\u001b[0m\u001b[0;34m\u001b[0m\u001b[0m\n\u001b[0;32m--> 108\u001b[0;31m       \u001b[0;32mreturn\u001b[0m \u001b[0mmethod\u001b[0m\u001b[0;34m(\u001b[0m\u001b[0mself\u001b[0m\u001b[0;34m,\u001b[0m \u001b[0;34m*\u001b[0m\u001b[0margs\u001b[0m\u001b[0;34m,\u001b[0m \u001b[0;34m**\u001b[0m\u001b[0mkwargs\u001b[0m\u001b[0;34m)\u001b[0m\u001b[0;34m\u001b[0m\u001b[0;34m\u001b[0m\u001b[0m\n\u001b[0m\u001b[1;32m    109\u001b[0m \u001b[0;34m\u001b[0m\u001b[0m\n\u001b[1;32m    110\u001b[0m     \u001b[0;31m# Running inside `run_distribute_coordinator` already.\u001b[0m\u001b[0;34m\u001b[0m\u001b[0;34m\u001b[0m\u001b[0;34m\u001b[0m\u001b[0m\n",
            "\u001b[0;32m/usr/local/lib/python3.6/dist-packages/tensorflow/python/keras/engine/training.py\u001b[0m in \u001b[0;36mfit\u001b[0;34m(self, x, y, batch_size, epochs, verbose, callbacks, validation_split, validation_data, shuffle, class_weight, sample_weight, initial_epoch, steps_per_epoch, validation_steps, validation_batch_size, validation_freq, max_queue_size, workers, use_multiprocessing)\u001b[0m\n\u001b[1;32m   1096\u001b[0m                 batch_size=batch_size):\n\u001b[1;32m   1097\u001b[0m               \u001b[0mcallbacks\u001b[0m\u001b[0;34m.\u001b[0m\u001b[0mon_train_batch_begin\u001b[0m\u001b[0;34m(\u001b[0m\u001b[0mstep\u001b[0m\u001b[0;34m)\u001b[0m\u001b[0;34m\u001b[0m\u001b[0;34m\u001b[0m\u001b[0m\n\u001b[0;32m-> 1098\u001b[0;31m               \u001b[0mtmp_logs\u001b[0m \u001b[0;34m=\u001b[0m \u001b[0mtrain_function\u001b[0m\u001b[0;34m(\u001b[0m\u001b[0miterator\u001b[0m\u001b[0;34m)\u001b[0m\u001b[0;34m\u001b[0m\u001b[0;34m\u001b[0m\u001b[0m\n\u001b[0m\u001b[1;32m   1099\u001b[0m               \u001b[0;32mif\u001b[0m \u001b[0mdata_handler\u001b[0m\u001b[0;34m.\u001b[0m\u001b[0mshould_sync\u001b[0m\u001b[0;34m:\u001b[0m\u001b[0;34m\u001b[0m\u001b[0;34m\u001b[0m\u001b[0m\n\u001b[1;32m   1100\u001b[0m                 \u001b[0mcontext\u001b[0m\u001b[0;34m.\u001b[0m\u001b[0masync_wait\u001b[0m\u001b[0;34m(\u001b[0m\u001b[0;34m)\u001b[0m\u001b[0;34m\u001b[0m\u001b[0;34m\u001b[0m\u001b[0m\n",
            "\u001b[0;32m/usr/local/lib/python3.6/dist-packages/tensorflow/python/eager/def_function.py\u001b[0m in \u001b[0;36m__call__\u001b[0;34m(self, *args, **kwds)\u001b[0m\n\u001b[1;32m    778\u001b[0m       \u001b[0;32melse\u001b[0m\u001b[0;34m:\u001b[0m\u001b[0;34m\u001b[0m\u001b[0;34m\u001b[0m\u001b[0m\n\u001b[1;32m    779\u001b[0m         \u001b[0mcompiler\u001b[0m \u001b[0;34m=\u001b[0m \u001b[0;34m\"nonXla\"\u001b[0m\u001b[0;34m\u001b[0m\u001b[0;34m\u001b[0m\u001b[0m\n\u001b[0;32m--> 780\u001b[0;31m         \u001b[0mresult\u001b[0m \u001b[0;34m=\u001b[0m \u001b[0mself\u001b[0m\u001b[0;34m.\u001b[0m\u001b[0m_call\u001b[0m\u001b[0;34m(\u001b[0m\u001b[0;34m*\u001b[0m\u001b[0margs\u001b[0m\u001b[0;34m,\u001b[0m \u001b[0;34m**\u001b[0m\u001b[0mkwds\u001b[0m\u001b[0;34m)\u001b[0m\u001b[0;34m\u001b[0m\u001b[0;34m\u001b[0m\u001b[0m\n\u001b[0m\u001b[1;32m    781\u001b[0m \u001b[0;34m\u001b[0m\u001b[0m\n\u001b[1;32m    782\u001b[0m       \u001b[0mnew_tracing_count\u001b[0m \u001b[0;34m=\u001b[0m \u001b[0mself\u001b[0m\u001b[0;34m.\u001b[0m\u001b[0m_get_tracing_count\u001b[0m\u001b[0;34m(\u001b[0m\u001b[0;34m)\u001b[0m\u001b[0;34m\u001b[0m\u001b[0;34m\u001b[0m\u001b[0m\n",
            "\u001b[0;32m/usr/local/lib/python3.6/dist-packages/tensorflow/python/eager/def_function.py\u001b[0m in \u001b[0;36m_call\u001b[0;34m(self, *args, **kwds)\u001b[0m\n\u001b[1;32m    805\u001b[0m       \u001b[0;31m# In this case we have created variables on the first call, so we run the\u001b[0m\u001b[0;34m\u001b[0m\u001b[0;34m\u001b[0m\u001b[0;34m\u001b[0m\u001b[0m\n\u001b[1;32m    806\u001b[0m       \u001b[0;31m# defunned version which is guaranteed to never create variables.\u001b[0m\u001b[0;34m\u001b[0m\u001b[0;34m\u001b[0m\u001b[0;34m\u001b[0m\u001b[0m\n\u001b[0;32m--> 807\u001b[0;31m       \u001b[0;32mreturn\u001b[0m \u001b[0mself\u001b[0m\u001b[0;34m.\u001b[0m\u001b[0m_stateless_fn\u001b[0m\u001b[0;34m(\u001b[0m\u001b[0;34m*\u001b[0m\u001b[0margs\u001b[0m\u001b[0;34m,\u001b[0m \u001b[0;34m**\u001b[0m\u001b[0mkwds\u001b[0m\u001b[0;34m)\u001b[0m  \u001b[0;31m# pylint: disable=not-callable\u001b[0m\u001b[0;34m\u001b[0m\u001b[0;34m\u001b[0m\u001b[0m\n\u001b[0m\u001b[1;32m    808\u001b[0m     \u001b[0;32melif\u001b[0m \u001b[0mself\u001b[0m\u001b[0;34m.\u001b[0m\u001b[0m_stateful_fn\u001b[0m \u001b[0;32mis\u001b[0m \u001b[0;32mnot\u001b[0m \u001b[0;32mNone\u001b[0m\u001b[0;34m:\u001b[0m\u001b[0;34m\u001b[0m\u001b[0;34m\u001b[0m\u001b[0m\n\u001b[1;32m    809\u001b[0m       \u001b[0;31m# Release the lock early so that multiple threads can perform the call\u001b[0m\u001b[0;34m\u001b[0m\u001b[0;34m\u001b[0m\u001b[0;34m\u001b[0m\u001b[0m\n",
            "\u001b[0;32m/usr/local/lib/python3.6/dist-packages/tensorflow/python/eager/function.py\u001b[0m in \u001b[0;36m__call__\u001b[0;34m(self, *args, **kwargs)\u001b[0m\n\u001b[1;32m   2827\u001b[0m     \u001b[0;32mwith\u001b[0m \u001b[0mself\u001b[0m\u001b[0;34m.\u001b[0m\u001b[0m_lock\u001b[0m\u001b[0;34m:\u001b[0m\u001b[0;34m\u001b[0m\u001b[0;34m\u001b[0m\u001b[0m\n\u001b[1;32m   2828\u001b[0m       \u001b[0mgraph_function\u001b[0m\u001b[0;34m,\u001b[0m \u001b[0margs\u001b[0m\u001b[0;34m,\u001b[0m \u001b[0mkwargs\u001b[0m \u001b[0;34m=\u001b[0m \u001b[0mself\u001b[0m\u001b[0;34m.\u001b[0m\u001b[0m_maybe_define_function\u001b[0m\u001b[0;34m(\u001b[0m\u001b[0margs\u001b[0m\u001b[0;34m,\u001b[0m \u001b[0mkwargs\u001b[0m\u001b[0;34m)\u001b[0m\u001b[0;34m\u001b[0m\u001b[0;34m\u001b[0m\u001b[0m\n\u001b[0;32m-> 2829\u001b[0;31m     \u001b[0;32mreturn\u001b[0m \u001b[0mgraph_function\u001b[0m\u001b[0;34m.\u001b[0m\u001b[0m_filtered_call\u001b[0m\u001b[0;34m(\u001b[0m\u001b[0margs\u001b[0m\u001b[0;34m,\u001b[0m \u001b[0mkwargs\u001b[0m\u001b[0;34m)\u001b[0m  \u001b[0;31m# pylint: disable=protected-access\u001b[0m\u001b[0;34m\u001b[0m\u001b[0;34m\u001b[0m\u001b[0m\n\u001b[0m\u001b[1;32m   2830\u001b[0m \u001b[0;34m\u001b[0m\u001b[0m\n\u001b[1;32m   2831\u001b[0m   \u001b[0;34m@\u001b[0m\u001b[0mproperty\u001b[0m\u001b[0;34m\u001b[0m\u001b[0;34m\u001b[0m\u001b[0m\n",
            "\u001b[0;32m/usr/local/lib/python3.6/dist-packages/tensorflow/python/eager/function.py\u001b[0m in \u001b[0;36m_filtered_call\u001b[0;34m(self, args, kwargs, cancellation_manager)\u001b[0m\n\u001b[1;32m   1846\u001b[0m                            resource_variable_ops.BaseResourceVariable))],\n\u001b[1;32m   1847\u001b[0m         \u001b[0mcaptured_inputs\u001b[0m\u001b[0;34m=\u001b[0m\u001b[0mself\u001b[0m\u001b[0;34m.\u001b[0m\u001b[0mcaptured_inputs\u001b[0m\u001b[0;34m,\u001b[0m\u001b[0;34m\u001b[0m\u001b[0;34m\u001b[0m\u001b[0m\n\u001b[0;32m-> 1848\u001b[0;31m         cancellation_manager=cancellation_manager)\n\u001b[0m\u001b[1;32m   1849\u001b[0m \u001b[0;34m\u001b[0m\u001b[0m\n\u001b[1;32m   1850\u001b[0m   \u001b[0;32mdef\u001b[0m \u001b[0m_call_flat\u001b[0m\u001b[0;34m(\u001b[0m\u001b[0mself\u001b[0m\u001b[0;34m,\u001b[0m \u001b[0margs\u001b[0m\u001b[0;34m,\u001b[0m \u001b[0mcaptured_inputs\u001b[0m\u001b[0;34m,\u001b[0m \u001b[0mcancellation_manager\u001b[0m\u001b[0;34m=\u001b[0m\u001b[0;32mNone\u001b[0m\u001b[0;34m)\u001b[0m\u001b[0;34m:\u001b[0m\u001b[0;34m\u001b[0m\u001b[0;34m\u001b[0m\u001b[0m\n",
            "\u001b[0;32m/usr/local/lib/python3.6/dist-packages/tensorflow/python/eager/function.py\u001b[0m in \u001b[0;36m_call_flat\u001b[0;34m(self, args, captured_inputs, cancellation_manager)\u001b[0m\n\u001b[1;32m   1922\u001b[0m       \u001b[0;31m# No tape is watching; skip to running the function.\u001b[0m\u001b[0;34m\u001b[0m\u001b[0;34m\u001b[0m\u001b[0;34m\u001b[0m\u001b[0m\n\u001b[1;32m   1923\u001b[0m       return self._build_call_outputs(self._inference_function.call(\n\u001b[0;32m-> 1924\u001b[0;31m           ctx, args, cancellation_manager=cancellation_manager))\n\u001b[0m\u001b[1;32m   1925\u001b[0m     forward_backward = self._select_forward_and_backward_functions(\n\u001b[1;32m   1926\u001b[0m         \u001b[0margs\u001b[0m\u001b[0;34m,\u001b[0m\u001b[0;34m\u001b[0m\u001b[0;34m\u001b[0m\u001b[0m\n",
            "\u001b[0;32m/usr/local/lib/python3.6/dist-packages/tensorflow/python/eager/function.py\u001b[0m in \u001b[0;36mcall\u001b[0;34m(self, ctx, args, cancellation_manager)\u001b[0m\n\u001b[1;32m    548\u001b[0m               \u001b[0minputs\u001b[0m\u001b[0;34m=\u001b[0m\u001b[0margs\u001b[0m\u001b[0;34m,\u001b[0m\u001b[0;34m\u001b[0m\u001b[0;34m\u001b[0m\u001b[0m\n\u001b[1;32m    549\u001b[0m               \u001b[0mattrs\u001b[0m\u001b[0;34m=\u001b[0m\u001b[0mattrs\u001b[0m\u001b[0;34m,\u001b[0m\u001b[0;34m\u001b[0m\u001b[0;34m\u001b[0m\u001b[0m\n\u001b[0;32m--> 550\u001b[0;31m               ctx=ctx)\n\u001b[0m\u001b[1;32m    551\u001b[0m         \u001b[0;32melse\u001b[0m\u001b[0;34m:\u001b[0m\u001b[0;34m\u001b[0m\u001b[0;34m\u001b[0m\u001b[0m\n\u001b[1;32m    552\u001b[0m           outputs = execute.execute_with_cancellation(\n",
            "\u001b[0;32m/usr/local/lib/python3.6/dist-packages/tensorflow/python/eager/execute.py\u001b[0m in \u001b[0;36mquick_execute\u001b[0;34m(op_name, num_outputs, inputs, attrs, ctx, name)\u001b[0m\n\u001b[1;32m     58\u001b[0m     \u001b[0mctx\u001b[0m\u001b[0;34m.\u001b[0m\u001b[0mensure_initialized\u001b[0m\u001b[0;34m(\u001b[0m\u001b[0;34m)\u001b[0m\u001b[0;34m\u001b[0m\u001b[0;34m\u001b[0m\u001b[0m\n\u001b[1;32m     59\u001b[0m     tensors = pywrap_tfe.TFE_Py_Execute(ctx._handle, device_name, op_name,\n\u001b[0;32m---> 60\u001b[0;31m                                         inputs, attrs, num_outputs)\n\u001b[0m\u001b[1;32m     61\u001b[0m   \u001b[0;32mexcept\u001b[0m \u001b[0mcore\u001b[0m\u001b[0;34m.\u001b[0m\u001b[0m_NotOkStatusException\u001b[0m \u001b[0;32mas\u001b[0m \u001b[0me\u001b[0m\u001b[0;34m:\u001b[0m\u001b[0;34m\u001b[0m\u001b[0;34m\u001b[0m\u001b[0m\n\u001b[1;32m     62\u001b[0m     \u001b[0;32mif\u001b[0m \u001b[0mname\u001b[0m \u001b[0;32mis\u001b[0m \u001b[0;32mnot\u001b[0m \u001b[0;32mNone\u001b[0m\u001b[0;34m:\u001b[0m\u001b[0;34m\u001b[0m\u001b[0;34m\u001b[0m\u001b[0m\n",
            "\u001b[0;31mKeyboardInterrupt\u001b[0m: "
          ]
        }
      ]
    },
    {
      "cell_type": "code",
      "metadata": {
        "id": "-1g1Jb0mQgWh",
        "colab_type": "code",
        "colab": {}
      },
      "source": [
        "#get all the data and plot it\n",
        "#history.history dictionary containing loss and any extra metrics \n",
        "#history.params training parameters\n",
        "#history.epoch list of epochs\n",
        "pd.DataFrame(history.history).plot(figsize=(8,5))\n",
        "plt.grid(True)\n",
        "plt.show()"
      ],
      "execution_count": null,
      "outputs": []
    },
    {
      "cell_type": "markdown",
      "metadata": {
        "id": "QGKCorLxM_8C",
        "colab_type": "text"
      },
      "source": [
        "#4) Encoder-Decoder for inference"
      ]
    },
    {
      "cell_type": "code",
      "metadata": {
        "id": "eK0I7C5eMp-F",
        "colab_type": "code",
        "colab": {}
      },
      "source": [
        "##############Model modified for INFERENCE##################\n",
        "\n",
        "# encoder_model_inference is the same as in training\n",
        "encoder_inf = Model(encoder_input, state_h)\n",
        "\n",
        "encoder_inf.save(\"/content/gdrive/My Drive/tfm/encoder_inf_model_v1.h5\")\n",
        "encoder_inf.save_weights(\"/content/gdrive/My Drive/tfm/encoder_inf_weights_v1.h5\")\n",
        "\n",
        "# decoder_model_inference\n",
        "decoder_inf_state_input_h = Input(shape=(nodes, ), name=\"encoder_hidden_state\") #Encoder hidden states\n",
        "\n",
        "# decoder_inputs\n",
        "decoder_inf_input = Input(shape=(None,)) #Input fro inference decoding is 1 word at a time\n",
        "decoder_inf_input_emb = Embedding(en_vocab_size, 300, \\\n",
        "                                  weights=[emb_en], mask_zero=True)(decoder_inf_input)\n",
        "\n",
        "# decoder\n",
        "decoder_inf_gru = GRU(nodes, return_sequences=True, unroll=True, return_state=True)\n",
        "decoder_inf, h_inf = decoder_gru(decoder_inf_input_emb, initial_state=decoder_inf_state_input_h)\n",
        "decoder_inf_state = h_inf\n",
        "\n",
        "decoder_inf_output = Dense(en_vocab_size, activation=\"softmax\")(decoder_inf)\n",
        "\n",
        "\n",
        "decoder_inf_model = Model([decoder_inf_input]+ decoder_inf_state_input_h, \\\n",
        "                          [decoder_inf_output] + decoder_inf_state)\n",
        "\n",
        "decoder_inf_model.summary()\n",
        "\n",
        "plot_model(decoder_inf_model, to_file=\"/content/gdrive/My Drive/tfm/decoder_inf_model_v1.png\", \\\n",
        "           show_shapes=True, show_layer_names=True)\n",
        "\n",
        "decoder_inf_model.save(\"/content/gdrive/My Drive/tfm/decoder_inf_model_v1.h5\")\n",
        "decoder_inf_model.save_weights(\"/content/gdrive/My Drive/tfm/decoder_inf_weights_v1.h5\")\n",
        "plot_model(decoder_inf_model, to_file=\"/content/gdrive/My Drive/tfm/model_inf_v1.png\", show_shapes=True)"
      ],
      "execution_count": null,
      "outputs": []
    },
    {
      "cell_type": "markdown",
      "metadata": {
        "id": "AP9cPIj_NP79",
        "colab_type": "text"
      },
      "source": [
        "#5 Inference Loop"
      ]
    },
    {
      "cell_type": "code",
      "metadata": {
        "id": "CWk5D3PNNPLK",
        "colab_type": "code",
        "colab": {}
      },
      "source": [
        "#Reverse dictionary integer-word\n",
        "\n",
        "decoding_dict = {v: k for k, v in en_tokenizer_lang.word_index.items()}\n",
        "\n",
        "decode_zh = {v: k for k, v in zh_tokenizer_lang.word_index.items()}\n",
        "decode_en = {v: k for k, v in en_tokenizer_lang.word_index.items()}"
      ],
      "execution_count": null,
      "outputs": []
    },
    {
      "cell_type": "code",
      "metadata": {
        "id": "CzVgO5zYNWCS",
        "colab_type": "code",
        "colab": {}
      },
      "source": [
        "def translate_sentence(input_sentence, target_tokenizer, decoding_dict, output_max_len):\n",
        "    encoder_output, states_value = encoder_inf.predict(input_sentence)\n",
        "\n",
        "    target_sequence = np.zeros((1, 1))\n",
        "    target_sequence[0, 0] = target_tokenizer.word_index.get(\"start\")\n",
        "    end_of_sequence = target_tokenizer.word_index.get(\"end\")\n",
        "\n",
        "    translated_sentence = []\n",
        "\n",
        "    for i in range(output_max_len):\n",
        "        output_token, decoder_states = decoder_inf_model.predict([target_sequence, states_value])\n",
        "        id_word = np.argmax(output_token[0, -1, :])\n",
        "\n",
        "        if id_word == end_of_sequence or input_sentence[0][i] == 0:  #this is wrong so far\n",
        "            break\n",
        "\n",
        "        decoded_word = \"\"\n",
        "\n",
        "        if id_word > 0:\n",
        "            decoded_word = decoding_dict[id_word]\n",
        "            translated_sentence.append(decoded_word)\n",
        "\n",
        "        target_sequence[0, 0] = id_word\n",
        "        states_value = decoder_states\n",
        "\n",
        "    return \" \".join(translated_sentence)"
      ],
      "execution_count": null,
      "outputs": []
    },
    {
      "cell_type": "code",
      "metadata": {
        "id": "gil4nbsvhWfg",
        "colab_type": "code",
        "colab": {}
      },
      "source": [
        "src= zh_test[0:1]\n",
        "zh_tokenizer_lang.sequences_to_texts(src)"
      ],
      "execution_count": null,
      "outputs": []
    },
    {
      "cell_type": "code",
      "metadata": {
        "id": "alhumrWJhfxD",
        "colab_type": "code",
        "colab": {}
      },
      "source": [
        "tr = translate_sentence(src, en_tokenizer_lang, decode_en, global_max_len)\n",
        "tr"
      ],
      "execution_count": null,
      "outputs": []
    },
    {
      "cell_type": "markdown",
      "metadata": {
        "id": "_eMsB1dYNZe0",
        "colab_type": "text"
      },
      "source": [
        "#6) Evaluate model"
      ]
    },
    {
      "cell_type": "code",
      "metadata": {
        "id": "x-_mDUC8NdYW",
        "colab_type": "code",
        "colab": {}
      },
      "source": [
        "def translate_corpus(corpus, tokenizer, decoding_dict, output_max_len):\n",
        "    corpus_list = list()\n",
        "    for i in range(0, len(corpus)):\n",
        "        line = translate_sentence(corpus[i:i + 1], tokenizer, decoding_dict, output_max_len)\n",
        "        corpus_list.append(line)\n",
        "    return corpus_list"
      ],
      "execution_count": null,
      "outputs": []
    },
    {
      "cell_type": "code",
      "metadata": {
        "id": "qN9vE-SsNgFf",
        "colab_type": "code",
        "colab": {}
      },
      "source": [
        "#######Model Evaluation######3\n",
        "decode_zh = {v: k for k, v in zh_tokenizer_lang.word_index.items()}\n",
        "decode_en = {v: k for k, v in en_tokenizer_lang.word_index.items()}\n",
        "\n",
        "decode_zh.update({0: \"0\"})\n",
        "decode_en.update({0: \"0\"})"
      ],
      "execution_count": null,
      "outputs": []
    },
    {
      "cell_type": "code",
      "metadata": {
        "id": "ENON5uo5N80G",
        "colab_type": "code",
        "colab": {}
      },
      "source": [
        "def decode_source(sentence):\n",
        "    sent = np.ndarray.tolist(sentence)\n",
        "    words = [decode_zh.get(letter) for letter in sent]\n",
        "    my_texts = ([\"\".join(words[i]) for i in range(len(words))])\n",
        "    text = [i for i in my_texts if i != \"0\"]\n",
        "    return text\n",
        "\n",
        "\n",
        "def decode_target(sentence):\n",
        "    sent = np.ndarray.tolist(sentence)\n",
        "    words = [decode_en.get(letter) for letter in sent]\n",
        "    my_texts = ([\"\".join(words[i]) for i in range(len(words))])\n",
        "    text = [i for i in my_texts if i != \"0\"]\n",
        "    return text\n"
      ],
      "execution_count": null,
      "outputs": []
    },
    {
      "cell_type": "code",
      "metadata": {
        "id": "4FrWwZUINjAp",
        "colab_type": "code",
        "colab": {}
      },
      "source": [
        "# tokenizer = en_tokenizer_lang\n",
        "# output_max_len = global_max_len\n",
        "# decoding_dict = decode_zh\n",
        "def evaluate_model(source_corpus, target_corpus):\n",
        "    original = source_corpus   #format: list of sentences as words\n",
        "    actual = [decode_target(target_corpus[i]) for i in\n",
        "              range(len(target_corpus))] #format: list of sentence as tokens\n",
        "    predicted = translate_corpus(source_corpus, en_tokenizer_lang, \\\n",
        "                                 decoding_dict=decode_en, output_max_len=global_max_len)\n",
        "\n",
        "    print('BLEU-1: %f' % corpus_bleu(actual, predicted, weights=(1.0, 0, 0, 0)))\n",
        "    print('BLEU-2: %f' % corpus_bleu(actual, predicted, weights=(0.5, 0.5, 0, 0)))\n",
        "    print('BLEU-3: %f' % corpus_bleu(actual, predicted, weights=(0.3, 0.3, 0.3, 0)))\n",
        "    print('BLEU-4: %f' % corpus_bleu(actual, predicted, weights=(0.25, 0.25, 0.25, 0.25)))"
      ],
      "execution_count": null,
      "outputs": []
    },
    {
      "cell_type": "code",
      "metadata": {
        "id": "3_Hud1nYOBNQ",
        "colab_type": "code",
        "colab": {}
      },
      "source": [
        "c = zh_test[0:1000]\n",
        "p = en_test[0:1000]\n",
        "evaluacion = evaluate_model(c, p)"
      ],
      "execution_count": null,
      "outputs": []
    }
  ]
}